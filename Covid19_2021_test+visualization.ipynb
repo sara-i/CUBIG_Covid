{
  "nbformat": 4,
  "nbformat_minor": 0,
  "metadata": {
    "colab": {
      "name": "Covid19_2021_test+visualization.ipynb",
      "provenance": [],
      "collapsed_sections": [],
      "authorship_tag": "ABX9TyOscUA/atgvZCQXupdgFEh3",
      "include_colab_link": true
    },
    "kernelspec": {
      "name": "python3",
      "display_name": "Python 3"
    },
    "language_info": {
      "name": "python"
    }
  },
  "cells": [
    {
      "cell_type": "markdown",
      "metadata": {
        "id": "view-in-github",
        "colab_type": "text"
      },
      "source": [
        "<a href=\"https://colab.research.google.com/github/sara-i/CUBIG_Covid/blob/main/Covid19_2021_test%2Bvisualization.ipynb\" target=\"_parent\"><img src=\"https://colab.research.google.com/assets/colab-badge.svg\" alt=\"Open In Colab\"/></a>"
      ]
    },
    {
      "cell_type": "markdown",
      "metadata": {
        "id": "MUy26aqokW3M"
      },
      "source": [
        "# **Chest X-Ray Medical Diagnosis with Deep Learning**"
      ]
    },
    {
      "cell_type": "markdown",
      "metadata": {
        "id": "2A4NymQx3-zE"
      },
      "source": [
        "## **KAGGLE DATASET:**\n",
        "## COVID-19 Radiography Database [Click here](https://www.kaggle.com/tawsifurrahman/covid19-radiography-database)\n",
        "### (This dataset is used for model training)\n",
        "---\n",
        "\n",
        "- Ref for prob. prediction [Click here](https://machinelearningmastery.com/how-to-make-classification-and-regression-predictions-for-deep-learning-models-in-keras/)\n",
        "\n",
        "\n",
        "---\n",
        "\n"
      ]
    },
    {
      "cell_type": "markdown",
      "metadata": {
        "id": "JEGwaBkIkkbn"
      },
      "source": [
        "## **1. import packages and functions**"
      ]
    },
    {
      "cell_type": "code",
      "metadata": {
        "id": "OHnfIY_JM0mm"
      },
      "source": [
        "#Data preprocessing\n",
        "import numpy as np\n",
        "import pandas as pd \n",
        "import h5py\n",
        "import seaborn as sns\n",
        "import matplotlib.pyplot as plt\n",
        "import matplotlib.image as mpimg\n",
        "from matplotlib.offsetbox import OffsetImage, AnnotationBbox\n",
        "from glob import glob\n",
        "from tqdm import tqdm\n",
        "from PIL import Image\n",
        "import os, random, cv2\n",
        "from os import listdir\n",
        "from IPython.display import display_html\n",
        "\n",
        "from keras.models import *\n",
        "from keras.layers import *\n",
        "from keras.optimizers import *\n",
        "from keras import backend as keras\n",
        "from keras.preprocessing.image import ImageDataGenerator\n",
        "from keras.callbacks import ModelCheckpoint, LearningRateScheduler\n",
        "\n",
        "from sklearn.preprocessing import OneHotEncoder\n",
        "from sklearn.model_selection import train_test_split\n",
        "from sklearn.metrics import accuracy_score, confusion_matrix, classification_report\n",
        "\n",
        "from tensorflow.keras.applications import DenseNet121\n",
        "from tensorflow.keras.models import Model, Sequential\n",
        "from tensorflow.keras.layers import Dense, InputLayer, Conv2D, MaxPool2D, Activation, Flatten, GlobalAveragePooling2D\n",
        "\n",
        "from tensorflow.keras.optimizers import Adam\n",
        "from tensorflow.keras.callbacks import TensorBoard, ModelCheckpoint, ReduceLROnPlateau\n",
        "\n",
        "import tensorflow as tf\n",
        "import tensorflow.keras.layers as layers\n",
        "\n",
        "class color:\n",
        "    BOLD = '\\033[1m' + '\\033[94m'\n",
        "    END = '\\033[0m'"
      ],
      "execution_count": null,
      "outputs": []
    },
    {
      "cell_type": "markdown",
      "metadata": {
        "id": "m2qmIgwDH4jN"
      },
      "source": [
        "## **2. Mount this colab sheet with google drive (to import image and export some training weight)**\n",
        "1. mount drive\n",
        "2. display file name of covid dataset in our drive\n",
        "3. unzip dataset\n",
        "4. display all file that contain in zipfile\n",
        "5. check some file name"
      ]
    },
    {
      "cell_type": "code",
      "metadata": {
        "colab": {
          "base_uri": "https://localhost:8080/"
        },
        "id": "5-J9mDWR47VT",
        "outputId": "121ca3c2-59ad-4293-f14d-536cb163abd8"
      },
      "source": [
        "from google.colab import drive\n",
        "drive.mount('/content/drive')"
      ],
      "execution_count": null,
      "outputs": [
        {
          "output_type": "stream",
          "name": "stdout",
          "text": [
            "Mounted at /content/drive\n"
          ]
        }
      ]
    },
    {
      "cell_type": "code",
      "metadata": {
        "colab": {
          "base_uri": "https://localhost:8080/"
        },
        "id": "8yUk4D9HMNeX",
        "outputId": "6529a84e-0397-4efc-c085-08c3e5eb7890"
      },
      "source": [
        "listdir('/content/drive/MyDrive/aom_AI/Covid19')"
      ],
      "execution_count": null,
      "outputs": [
        {
          "output_type": "execute_result",
          "data": {
            "text/plain": [
              "['COVID-19_Radiography_Database.zip',\n",
              " 'COVID19_pretrained_densenet121.ckpt',\n",
              " 'COVID19_pretrained_new_densenet121.ckpt',\n",
              " 'my_model_densenet_weights.h5',\n",
              " 'my_model_densenet_weights_tuning.h5',\n",
              " 'results']"
            ]
          },
          "metadata": {},
          "execution_count": 4
        }
      ]
    },
    {
      "cell_type": "code",
      "metadata": {
        "id": "NI8pFG4MMvUM"
      },
      "source": [
        "!unzip -q '/content/drive/MyDrive/aom_AI/Covid19/COVID-19_Radiography_Database.zip'"
      ],
      "execution_count": null,
      "outputs": []
    },
    {
      "cell_type": "code",
      "metadata": {
        "colab": {
          "base_uri": "https://localhost:8080/"
        },
        "id": "hwL4soRhM_wB",
        "outputId": "25d8924a-f263-4ad9-cc41-cfc051503ddf"
      },
      "source": [
        "listdir('COVID-19_Radiography_Dataset/')"
      ],
      "execution_count": null,
      "outputs": [
        {
          "output_type": "execute_result",
          "data": {
            "text/plain": [
              "['Lung_Opacity',\n",
              " 'Lung_Opacity.metadata.xlsx',\n",
              " 'Normal.metadata.xlsx',\n",
              " 'Viral Pneumonia.metadata.xlsx',\n",
              " 'Viral Pneumonia',\n",
              " 'COVID.metadata.xlsx',\n",
              " 'COVID',\n",
              " 'README.md.txt',\n",
              " 'Normal']"
            ]
          },
          "metadata": {},
          "execution_count": 6
        }
      ]
    },
    {
      "cell_type": "code",
      "metadata": {
        "colab": {
          "base_uri": "https://localhost:8080/",
          "height": 275
        },
        "id": "WbNvC9bQpoBF",
        "outputId": "3e989de0-d963-4334-93be-5849c2dce415"
      },
      "source": [
        "# Read in metadata\n",
        "Normal_excel = pd.read_excel(\"COVID-19_Radiography_Dataset/Normal.metadata.xlsx\")\n",
        "Covid_excel = pd.read_excel(\"COVID-19_Radiography_Dataset/COVID.metadata.xlsx\")\n",
        "\n",
        "print(color.BOLD + \"Normal case Shape:\" + color.END, Normal_excel.shape, \"\\n\" +\n",
        "      color.BOLD + \"Covid case Shape:\" + color.END, Covid_excel.shape, \"\\n\")\n",
        "\n",
        "# Head of our 2 training metadata\n",
        "df1_styler = Normal_excel.head(3).style.set_table_attributes(\"style='display:inline'\").\\\n",
        "                                set_caption('NORMAL CASE')\n",
        "df2_styler = Covid_excel.head(3).style.set_table_attributes(\"style='display:inline'\").\\\n",
        "                                set_caption('COVID CASE')\n",
        "\n",
        "display_html(df1_styler._repr_html_(), raw=True) \n",
        "display_html(df2_styler._repr_html_(), raw=True)"
      ],
      "execution_count": null,
      "outputs": [
        {
          "output_type": "stream",
          "name": "stdout",
          "text": [
            "\u001b[1m\u001b[94mNormal case Shape:\u001b[0m (10192, 4) \n",
            "\u001b[1m\u001b[94mCovid case Shape:\u001b[0m (3616, 4) \n",
            "\n"
          ]
        },
        {
          "output_type": "display_data",
          "data": {
            "text/html": [
              "<style  type=\"text/css\" >\n",
              "</style><table id=\"T_df609c86_33cb_11ec_b77e_0242ac1c0002\" style='display:inline'><caption>NORMAL CASE</caption><thead>    <tr>        <th class=\"blank level0\" ></th>        <th class=\"col_heading level0 col0\" >FILE NAME</th>        <th class=\"col_heading level0 col1\" >FORMAT</th>        <th class=\"col_heading level0 col2\" >SIZE</th>        <th class=\"col_heading level0 col3\" >URL</th>    </tr></thead><tbody>\n",
              "                <tr>\n",
              "                        <th id=\"T_df609c86_33cb_11ec_b77e_0242ac1c0002level0_row0\" class=\"row_heading level0 row0\" >0</th>\n",
              "                        <td id=\"T_df609c86_33cb_11ec_b77e_0242ac1c0002row0_col0\" class=\"data row0 col0\" >NORMAL-1</td>\n",
              "                        <td id=\"T_df609c86_33cb_11ec_b77e_0242ac1c0002row0_col1\" class=\"data row0 col1\" >PNG</td>\n",
              "                        <td id=\"T_df609c86_33cb_11ec_b77e_0242ac1c0002row0_col2\" class=\"data row0 col2\" >256*256</td>\n",
              "                        <td id=\"T_df609c86_33cb_11ec_b77e_0242ac1c0002row0_col3\" class=\"data row0 col3\" >https://www.kaggle.com/c/rsna-pneumonia-detection-challenge/data</td>\n",
              "            </tr>\n",
              "            <tr>\n",
              "                        <th id=\"T_df609c86_33cb_11ec_b77e_0242ac1c0002level0_row1\" class=\"row_heading level0 row1\" >1</th>\n",
              "                        <td id=\"T_df609c86_33cb_11ec_b77e_0242ac1c0002row1_col0\" class=\"data row1 col0\" >NORMAL-2</td>\n",
              "                        <td id=\"T_df609c86_33cb_11ec_b77e_0242ac1c0002row1_col1\" class=\"data row1 col1\" >PNG</td>\n",
              "                        <td id=\"T_df609c86_33cb_11ec_b77e_0242ac1c0002row1_col2\" class=\"data row1 col2\" >256*256</td>\n",
              "                        <td id=\"T_df609c86_33cb_11ec_b77e_0242ac1c0002row1_col3\" class=\"data row1 col3\" >https://www.kaggle.com/c/rsna-pneumonia-detection-challenge/data</td>\n",
              "            </tr>\n",
              "            <tr>\n",
              "                        <th id=\"T_df609c86_33cb_11ec_b77e_0242ac1c0002level0_row2\" class=\"row_heading level0 row2\" >2</th>\n",
              "                        <td id=\"T_df609c86_33cb_11ec_b77e_0242ac1c0002row2_col0\" class=\"data row2 col0\" >NORMAL-3</td>\n",
              "                        <td id=\"T_df609c86_33cb_11ec_b77e_0242ac1c0002row2_col1\" class=\"data row2 col1\" >PNG</td>\n",
              "                        <td id=\"T_df609c86_33cb_11ec_b77e_0242ac1c0002row2_col2\" class=\"data row2 col2\" >256*256</td>\n",
              "                        <td id=\"T_df609c86_33cb_11ec_b77e_0242ac1c0002row2_col3\" class=\"data row2 col3\" >https://www.kaggle.com/c/rsna-pneumonia-detection-challenge/data</td>\n",
              "            </tr>\n",
              "    </tbody></table>"
            ]
          },
          "metadata": {}
        },
        {
          "output_type": "display_data",
          "data": {
            "text/html": [
              "<style  type=\"text/css\" >\n",
              "</style><table id=\"T_df62cca4_33cb_11ec_b77e_0242ac1c0002\" style='display:inline'><caption>COVID CASE</caption><thead>    <tr>        <th class=\"blank level0\" ></th>        <th class=\"col_heading level0 col0\" >FILE NAME</th>        <th class=\"col_heading level0 col1\" >FORMAT</th>        <th class=\"col_heading level0 col2\" >SIZE</th>        <th class=\"col_heading level0 col3\" >URL</th>    </tr></thead><tbody>\n",
              "                <tr>\n",
              "                        <th id=\"T_df62cca4_33cb_11ec_b77e_0242ac1c0002level0_row0\" class=\"row_heading level0 row0\" >0</th>\n",
              "                        <td id=\"T_df62cca4_33cb_11ec_b77e_0242ac1c0002row0_col0\" class=\"data row0 col0\" >COVID-1</td>\n",
              "                        <td id=\"T_df62cca4_33cb_11ec_b77e_0242ac1c0002row0_col1\" class=\"data row0 col1\" >PNG</td>\n",
              "                        <td id=\"T_df62cca4_33cb_11ec_b77e_0242ac1c0002row0_col2\" class=\"data row0 col2\" >256*256</td>\n",
              "                        <td id=\"T_df62cca4_33cb_11ec_b77e_0242ac1c0002row0_col3\" class=\"data row0 col3\" >https://sirm.org/category/senza-categoria/covid-19/</td>\n",
              "            </tr>\n",
              "            <tr>\n",
              "                        <th id=\"T_df62cca4_33cb_11ec_b77e_0242ac1c0002level0_row1\" class=\"row_heading level0 row1\" >1</th>\n",
              "                        <td id=\"T_df62cca4_33cb_11ec_b77e_0242ac1c0002row1_col0\" class=\"data row1 col0\" >COVID-2</td>\n",
              "                        <td id=\"T_df62cca4_33cb_11ec_b77e_0242ac1c0002row1_col1\" class=\"data row1 col1\" >PNG</td>\n",
              "                        <td id=\"T_df62cca4_33cb_11ec_b77e_0242ac1c0002row1_col2\" class=\"data row1 col2\" >256*256</td>\n",
              "                        <td id=\"T_df62cca4_33cb_11ec_b77e_0242ac1c0002row1_col3\" class=\"data row1 col3\" >https://sirm.org/category/senza-categoria/covid-19/</td>\n",
              "            </tr>\n",
              "            <tr>\n",
              "                        <th id=\"T_df62cca4_33cb_11ec_b77e_0242ac1c0002level0_row2\" class=\"row_heading level0 row2\" >2</th>\n",
              "                        <td id=\"T_df62cca4_33cb_11ec_b77e_0242ac1c0002row2_col0\" class=\"data row2 col0\" >COVID-3</td>\n",
              "                        <td id=\"T_df62cca4_33cb_11ec_b77e_0242ac1c0002row2_col1\" class=\"data row2 col1\" >PNG</td>\n",
              "                        <td id=\"T_df62cca4_33cb_11ec_b77e_0242ac1c0002row2_col2\" class=\"data row2 col2\" >256*256</td>\n",
              "                        <td id=\"T_df62cca4_33cb_11ec_b77e_0242ac1c0002row2_col3\" class=\"data row2 col3\" >https://sirm.org/category/senza-categoria/covid-19/</td>\n",
              "            </tr>\n",
              "    </tbody></table>"
            ]
          },
          "metadata": {}
        }
      ]
    },
    {
      "cell_type": "markdown",
      "metadata": {
        "id": "97QkkanpNkRZ"
      },
      "source": [
        "#### We will use DIR \"Normal\" and \"COVID\" ที่มี file .png อยู่ด้านใน และใช้ truth จาก file name\n",
        "\n",
        "\n",
        "---\n"
      ]
    },
    {
      "cell_type": "markdown",
      "metadata": {
        "id": "WhSKxHT6I-yv"
      },
      "source": [
        "## **3. Data preparation**\n",
        "\n",
        "1. create path name, normal case and COVID case\n",
        "2. display some image from pathname that we created\n",
        "3. create label (truth) from directory name"
      ]
    },
    {
      "cell_type": "markdown",
      "metadata": {
        "id": "Om_zoXzIkBoJ"
      },
      "source": [
        "### **3.1 Create image path**"
      ]
    },
    {
      "cell_type": "code",
      "metadata": {
        "id": "3eeePS2INYZV"
      },
      "source": [
        "NormalPaths = []\n",
        "for dirname, _, filenames in os.walk('COVID-19_Radiography_Dataset/Normal/'):\n",
        "    for filename in filenames:\n",
        "        if (filename[:6] == 'Normal'):  #ถ้าในfile นั้นๆ ขึ้นต้นด้วย Normal ให้ save path ไว้ใน \"NormalPaths\"\n",
        "            NormalPaths.append(os.path.join(dirname, filename))\n",
        "\n",
        "COVIDPaths = []\n",
        "for dirname, _, filenames in os.walk('COVID-19_Radiography_Dataset/COVID/'):\n",
        "    for filename in filenames:\n",
        "        if (filename[:5] == 'COVID'):  #ถ้าในfile นั้นๆ ขึ้นต้นด้วย COVID ให้ save path ไว้ใน \"COVIDPaths\"\n",
        "            COVIDPaths.append(os.path.join(dirname, filename))\n",
        "\n",
        "#Concat NormalPaths and COVIDPaths\n",
        "all_ImagePath = NormalPaths + COVIDPaths"
      ],
      "execution_count": null,
      "outputs": []
    },
    {
      "cell_type": "code",
      "metadata": {
        "colab": {
          "base_uri": "https://localhost:8080/",
          "height": 422
        },
        "id": "XLbgKNxKyGk8",
        "outputId": "1fa9f7f3-c5bc-4b0d-b1bd-bd85d220a7ea"
      },
      "source": [
        "#Number of CXR item and image path\n",
        "print(color.BOLD + \"NomalPath: {} items // \".\\\n",
        "            format(len(NormalPaths)) + color.END + NormalPaths[0],\\\n",
        "\"\\n\" + color.BOLD + \"COVIDPath: {} items // \".\\\n",
        "            format(len(COVIDPaths)) + color.END + COVIDPaths[0],\n",
        "\"\\n\" + color.BOLD + \"all_ImagePath: {} items // \".\\\n",
        "            format(len(all_ImagePath)) + color.END + all_ImagePath[0],\n",
        "\"\\n\")\n",
        "\n",
        "#display some image\n",
        "normal_image = cv2.imread(NormalPaths[0]) #ยกตัวอย่าง case ที่ 1 ใน Normal file\n",
        "covid_image = cv2.imread(COVIDPaths[0]) #ยกตัวอย่าง case ที่ 1 ใน COVID file\n",
        "\n",
        "plt.figure(figsize = (10,5))\n",
        "plt.subplot(1, 2, 1); plt.imshow(normal_image), plt.title(\"Normal case\")\n",
        "plt.subplot(1, 2, 2); plt.imshow(covid_image), plt.title(\"COVID case\")\n",
        "plt.show()\n",
        "\n",
        "print(color.BOLD + \"Image shape of normal case = \" + color.END, normal_image.shape,\\\n",
        "\"\\n\" + color.BOLD + \"Image shape of Covid case = \" + color.END, covid_image.shape)"
      ],
      "execution_count": null,
      "outputs": [
        {
          "output_type": "stream",
          "name": "stdout",
          "text": [
            "\u001b[1m\u001b[94mNomalPath: 10192 items // \u001b[0mCOVID-19_Radiography_Dataset/Normal/Normal-4587.png \n",
            "\u001b[1m\u001b[94mCOVIDPath: 3616 items // \u001b[0mCOVID-19_Radiography_Dataset/COVID/COVID-2699.png \n",
            "\u001b[1m\u001b[94mall_ImagePath: 13808 items // \u001b[0mCOVID-19_Radiography_Dataset/Normal/Normal-4587.png \n",
            "\n"
          ]
        },
        {
          "output_type": "display_data",
          "data": {
            "image/png": "[encoded data removed]",
            "text/plain": [
              "<Figure size 720x360 with 2 Axes>"
            ]
          },
          "metadata": {
            "needs_background": "light"
          }
        },
        {
          "output_type": "stream",
          "name": "stdout",
          "text": [
            "\u001b[1m\u001b[94mImage shape of normal case = \u001b[0m (299, 299, 3) \n",
            "\u001b[1m\u001b[94mImage shape of Covid case = \u001b[0m (299, 299, 3)\n"
          ]
        }
      ]
    },
    {
      "cell_type": "markdown",
      "metadata": {
        "id": "6nHlsizKX5UY"
      },
      "source": [
        "\n",
        "---\n",
        "\n",
        "## **/// Initial training (Create only 2000 cases per class) ///**\n",
        "\n"
      ]
    },
    {
      "cell_type": "code",
      "metadata": {
        "id": "e3MT8KmlX4IO"
      },
      "source": [
        "#Keep only 2000 of normal case and 2000 of Covid case.\n",
        "#For X (image)\n",
        "COVIDPaths_2000 = COVIDPaths[:2000]\n",
        "NormalPaths_2000 = NormalPaths[:2000]\n",
        "all_ImagePath_2000 = COVIDPaths_2000 + NormalPaths_2000"
      ],
      "execution_count": null,
      "outputs": []
    },
    {
      "cell_type": "code",
      "metadata": {
        "id": "VP_mNMF1f5m2"
      },
      "source": [
        "del COVIDPaths, NormalPaths, all_ImagePath"
      ],
      "execution_count": null,
      "outputs": []
    },
    {
      "cell_type": "markdown",
      "metadata": {
        "id": "hA2S0RZsYCsQ"
      },
      "source": [
        "## **/// Delete above when run all dataset ///**\n",
        "\n",
        "### **(อย่าลืมเปลี่ยน all_ImagePath_2000 >> all_ImagePath)**\n",
        "\n",
        "\n",
        "---\n",
        "\n"
      ]
    },
    {
      "cell_type": "markdown",
      "metadata": {
        "id": "CiGBdr4q1898"
      },
      "source": [
        "## Write image ให้น้อง + ต่อไปถ้าจะ training dataset น้องให้ใช้อันนี้\n",
        "\n",
        "\n",
        "\n",
        "```\n",
        "DIR_FOR_SEG = '/content/drive/MyDrive/aom_AI/Covid19/Dataset_for_segmentation/'\n",
        "```\n",
        "\n"
      ]
    },
    {
      "cell_type": "code",
      "metadata": {
        "colab": {
          "base_uri": "https://localhost:8080/",
          "height": 35
        },
        "id": "xOfHUrET6mv5",
        "outputId": "f823fdde-32de-48e9-ab48-8ea95b3256eb"
      },
      "source": [
        "all_ImagePath_2000[0]"
      ],
      "execution_count": null,
      "outputs": [
        {
          "output_type": "execute_result",
          "data": {
            "application/vnd.google.colaboratory.intrinsic+json": {
              "type": "string"
            },
            "text/plain": [
              "'COVID-19_Radiography_Dataset/COVID/COVID-2699.png'"
            ]
          },
          "metadata": {},
          "execution_count": 12
        }
      ]
    },
    {
      "cell_type": "code",
      "metadata": {
        "id": "MkreW3V817ak"
      },
      "source": [
        "DIR_FOR_SEG = '/content/drive/MyDrive/aom_AI/Covid19/Dataset_for_segmentation/'\n",
        "\n",
        "for i in all_ImagePath_2000: #\n",
        "    img = cv2.imread(i)\n",
        "    write = cv2.imwrite(DIR_FOR_SEG + i.split(os.path.sep)[-1], img)"
      ],
      "execution_count": null,
      "outputs": []
    },
    {
      "cell_type": "code",
      "metadata": {
        "id": "vGXn8p-COPdS"
      },
      "source": [
        "# For patient number\n",
        "case_no = []\n",
        "\n",
        "for i in all_ImagePath_2000: #\n",
        "    img = cv2.imread(i)\n",
        "    write = cv2.imwrite(DIR_FOR_SEG + i.split(os.path.sep)[-1], img)\n",
        "    i.split(\"-\")[1]\n",
        "    i.split(\".\")[0]\n",
        "    \n",
        "    \n",
        "    s1.split(':')\n",
        "    i.split(os.path.sep)[-5]\n"
      ],
      "execution_count": null,
      "outputs": []
    },
    {
      "cell_type": "markdown",
      "metadata": {
        "id": "khBgvYzBkHBL"
      },
      "source": [
        "### **3.2 Create label**"
      ]
    },
    {
      "cell_type": "code",
      "metadata": {
        "id": "Zjvhdk4a-PhA"
      },
      "source": [
        "X = [] #create image dataset that contain both normal and COVID\n",
        "y = [] #create label in each case\n",
        "\n",
        "for i in all_ImagePath_2000: #\n",
        "    #split path แยกระหว่าง file dir กับ file name ออกจากกัน (-1)คือตำแหน่งชื่อ file Normal/COVID-xxx.png\n",
        "    label = i.split(os.path.sep)[-1].split('-')[0] \n",
        "    img = cv2.imread(i)\n",
        "    img = tf.image.resize(img, (224, 224))\n",
        "    #put label and image into X and y list\n",
        "    X.append(img)\n",
        "    y.append(label)\n",
        "\n",
        "X = np.array(X)\n",
        "y = np.array(y)"
      ],
      "execution_count": null,
      "outputs": []
    },
    {
      "cell_type": "code",
      "metadata": {
        "colab": {
          "base_uri": "https://localhost:8080/"
        },
        "id": "lFXDK0pnrMcM",
        "outputId": "8a45890d-0fc5-4064-f51d-7df1a11e0df8"
      },
      "source": [
        "import collections\n",
        "counter=collections.Counter(y)\n",
        "print(dict(counter))"
      ],
      "execution_count": null,
      "outputs": [
        {
          "output_type": "stream",
          "name": "stdout",
          "text": [
            "{'COVID': 2000, 'Normal': 2000}\n"
          ]
        }
      ]
    },
    {
      "cell_type": "code",
      "metadata": {
        "id": "z-yayr59xqka"
      },
      "source": [
        "pd.DataFrame(y)\n",
        "y = pd.get_dummies(y)"
      ],
      "execution_count": null,
      "outputs": []
    },
    {
      "cell_type": "code",
      "metadata": {
        "colab": {
          "base_uri": "https://localhost:8080/"
        },
        "id": "-aNOsDsDoQoh",
        "outputId": "e143d12f-2e0f-4cd7-d467-f0c1547f2e41"
      },
      "source": [
        "y.columns = [\"COVID\", \"Normal\"]\n",
        "print(y.head(3),\\\n",
        "\"\\n\", y.tail(3))\n",
        "\n",
        "print(color.BOLD + \"Number of COVID case after get_dummies:\" + color.END, y[\"COVID\"].sum(),\\\n",
        "\"\\n\"+ color.BOLD + \"Number of Normal case after get_dummies:\" + color.END, y[\"Normal\"].sum())"
      ],
      "execution_count": null,
      "outputs": [
        {
          "output_type": "stream",
          "name": "stdout",
          "text": [
            "   COVID  Normal\n",
            "0      1       0\n",
            "1      1       0\n",
            "2      1       0 \n",
            "       COVID  Normal\n",
            "3997      0       1\n",
            "3998      0       1\n",
            "3999      0       1\n",
            "\u001b[1m\u001b[94mNumber of COVID case after get_dummies:\u001b[0m 2000 \n",
            "\u001b[1m\u001b[94mNumber of Normal case after get_dummies:\u001b[0m 2000\n"
          ]
        }
      ]
    },
    {
      "cell_type": "markdown",
      "metadata": {
        "id": "E8xM8x1oVEoS"
      },
      "source": [
        "##**สรุป**\n",
        "ตอนนี้เรามี ....\n",
        "1. **\" X \"** contained all image เป็น matrix แล้ว (both normal and COVID case)\n",
        "2. **\" y \"** contained all truth เป็นค่า 0/1 (both normal and COVID case)"
      ]
    },
    {
      "cell_type": "markdown",
      "metadata": {
        "id": "DKJEi6uTj562"
      },
      "source": [
        "## Split data into 70-20-10 train-val-test\n",
        "โดยใช้ input = X (image data) , output = y_onehot (truth)"
      ]
    },
    {
      "cell_type": "code",
      "metadata": {
        "id": "yVsBMQ9ud2l0"
      },
      "source": [
        "X_train, X_test, y_train, y_test = train_test_split(X, y, test_size = 0.1, stratify = y, \\\n",
        "                                                    shuffle = True, random_state = 9559)\n",
        "X_train, X_val, y_train, y_val = train_test_split(X_train, y_train, test_size = 0.2, stratify = y_train, \\\n",
        "                                                  shuffle = True, random_state = 9559)"
      ],
      "execution_count": null,
      "outputs": []
    },
    {
      "cell_type": "code",
      "metadata": {
        "colab": {
          "base_uri": "https://localhost:8080/"
        },
        "id": "ecD64ND5n4Co",
        "outputId": "f7fd8617-9245-4578-f78b-2136e5df7dc7"
      },
      "source": [
        "#Recheck จำนวนทั้งหมด\n",
        "print(color.BOLD + \"Training set: \" + color.END, len(X_train), \"cases\",\\\n",
        "\"\\n\"+ color.BOLD + \"Validation set: \" + color.END, len(X_val), \"cases\",\\\n",
        "\"\\n\"+ color.BOLD + \"Test set: \" + color.END, len(X_test), \"cases\")"
      ],
      "execution_count": null,
      "outputs": [
        {
          "output_type": "stream",
          "name": "stdout",
          "text": [
            "\u001b[1m\u001b[94mTraining set: \u001b[0m 2880 cases \n",
            "\u001b[1m\u001b[94mValidation set: \u001b[0m 720 cases \n",
            "\u001b[1m\u001b[94mTest set: \u001b[0m 400 cases\n"
          ]
        }
      ]
    },
    {
      "cell_type": "code",
      "metadata": {
        "id": "7sYsNKInqB1V"
      },
      "source": [
        "del X"
      ],
      "execution_count": null,
      "outputs": []
    },
    {
      "cell_type": "code",
      "metadata": {
        "colab": {
          "base_uri": "https://localhost:8080/"
        },
        "id": "G368A9L52VIu",
        "outputId": "e09f2b81-ce0c-4f77-d9bc-1f9cdc767183"
      },
      "source": [
        "#image shape\n",
        "X_train.shape"
      ],
      "execution_count": null,
      "outputs": [
        {
          "output_type": "execute_result",
          "data": {
            "text/plain": [
              "(2880, 224, 224, 3)"
            ]
          },
          "metadata": {},
          "execution_count": 21
        }
      ]
    },
    {
      "cell_type": "markdown",
      "metadata": {
        "id": "h6nN39VKsTSF"
      },
      "source": [
        "## Download and prepare Neural Network\n",
        "*  Model : Densenet121\n",
        "*  Weights : trained model"
      ]
    },
    {
      "cell_type": "code",
      "metadata": {
        "id": "Silom_d_ru4p"
      },
      "source": [
        "def new_cxr_pretrained_densenet121():\n",
        "    base_model = tf.keras.applications.DenseNet121(input_shape = (224, 224, 3), weights = None , include_top = False)\n",
        "    base_model.trainable = True ## Unfreeze convolutional part\n",
        "\n",
        "    x = layers.GlobalAveragePooling2D()(base_model.output)\n",
        "    x = layers.Dense(512, activation = 'relu')(x)\n",
        "    x = layers.BatchNormalization()(x)\n",
        "    x = layers.Dropout(0.2)(x)\n",
        "    x = layers.Dense(2, activation = 'sigmoid')(x)\n",
        "    model = tf.keras.Model(base_model.input, outputs = x)\n",
        "\n",
        "    return model  "
      ],
      "execution_count": null,
      "outputs": []
    },
    {
      "cell_type": "code",
      "metadata": {
        "id": "KDW3mEM2r42P"
      },
      "source": [
        "new_cxr_pretrained_densenet = new_cxr_pretrained_densenet121()"
      ],
      "execution_count": null,
      "outputs": []
    },
    {
      "cell_type": "code",
      "metadata": {
        "id": "xAOKqKasr6Rl"
      },
      "source": [
        "#load weight \n",
        "CHECK_POINT = '/content/drive/MyDrive/aom_AI/Covid19'\n",
        "new_cxr_pretrained_densenet.load_weights(CHECK_POINT + '/my_model_densenet_weights_tuning.h5')"
      ],
      "execution_count": null,
      "outputs": []
    },
    {
      "cell_type": "code",
      "metadata": {
        "id": "KzocIlRFsQpD"
      },
      "source": [
        "#compile model\n",
        "new_cxr_pretrained_densenet.compile(loss = 'binary_crossentropy', optimizer = Adam(learning_rate = 1e-5), metrics = ['accuracy'])"
      ],
      "execution_count": null,
      "outputs": []
    },
    {
      "cell_type": "code",
      "metadata": {
        "colab": {
          "base_uri": "https://localhost:8080/"
        },
        "id": "9IoFY_5SvEHZ",
        "outputId": "3370f1fa-03bc-44eb-c1d3-720fd859b1a2"
      },
      "source": [
        "#predict y in validation set\n",
        "y_val_pred = new_cxr_pretrained_densenet.predict(X_val)\n",
        "print('prediction accuracy on validation set after fine-tuning:', accuracy_score(y_val, y_val_pred > 0.5))"
      ],
      "execution_count": null,
      "outputs": [
        {
          "output_type": "stream",
          "name": "stdout",
          "text": [
            "prediction accuracy on validation set after fine-tuning: 0.9430555555555555\n"
          ]
        }
      ]
    },
    {
      "cell_type": "markdown",
      "metadata": {
        "id": "C71Q9Nr2vGKC"
      },
      "source": [
        "Evaluate model performance on test set : "
      ]
    },
    {
      "cell_type": "code",
      "metadata": {
        "colab": {
          "base_uri": "https://localhost:8080/"
        },
        "id": "RhITObxXvGo9",
        "outputId": "f26090f1-3119-4752-e210-958e127856cc"
      },
      "source": [
        "#predict y in test set\n",
        "y_test_pred = new_cxr_pretrained_densenet.predict(X_test)\n",
        "print('prediction accuracy on test set after fine-tuning:', accuracy_score(y_test, y_test_pred > 0.5))"
      ],
      "execution_count": null,
      "outputs": [
        {
          "output_type": "stream",
          "name": "stdout",
          "text": [
            "prediction accuracy on test set after fine-tuning: 0.9425\n"
          ]
        }
      ]
    },
    {
      "cell_type": "code",
      "metadata": {
        "colab": {
          "base_uri": "https://localhost:8080/"
        },
        "id": "o5xqLwH4JZPK",
        "outputId": "1bd9cbfb-2379-426b-de7d-33c1b9999ce6"
      },
      "source": [
        "# Recheck probability outcomes\n",
        "for i in range(len(X_val)):\n",
        "\tprint(\"Case no.%s, Predicted=%s\" % (i+1, y_val_pred[i]))"
      ],
      "execution_count": null,
      "outputs": [
        {
          "output_type": "stream",
          "name": "stdout",
          "text": [
            "Case no.1, Predicted=[0.07509321 0.96822345]\n",
            "Case no.2, Predicted=[0.99815047 0.00668806]\n",
            "Case no.3, Predicted=[0.0280838 0.9449848]\n",
            "Case no.4, Predicted=[6.5752864e-04 9.9930823e-01]\n",
            "Case no.5, Predicted=[0.01714042 0.98044056]\n",
            "Case no.6, Predicted=[0.00141346 0.99768746]\n",
            "Case no.7, Predicted=[0.76751846 0.5667779 ]\n",
            "Case no.8, Predicted=[0.01924133 0.961128  ]\n",
            "Case no.9, Predicted=[2.3447257e-05 9.9993515e-01]\n",
            "Case no.10, Predicted=[0.019795   0.99802387]\n",
            "Case no.11, Predicted=[9.452845e-01 1.796782e-04]\n",
            "Case no.12, Predicted=[2.9337406e-04 9.9989963e-01]\n",
            "Case no.13, Predicted=[1.00000e+00 1.64725e-06]\n",
            "Case no.14, Predicted=[0.00178948 0.993492  ]\n",
            "Case no.15, Predicted=[0.00225565 0.9970335 ]\n",
            "Case no.16, Predicted=[0.87520397 0.09514394]\n",
            "Case no.17, Predicted=[0.0070059 0.9408521]\n",
            "Case no.18, Predicted=[0.18781146 0.9752111 ]\n",
            "Case no.19, Predicted=[0.00131917 0.99905074]\n",
            "Case no.20, Predicted=[9.999943e-01 6.064537e-05]\n",
            "Case no.21, Predicted=[0.9986476  0.00247222]\n",
            "Case no.22, Predicted=[0.00122562 0.99976337]\n",
            "Case no.23, Predicted=[1.0000000e+00 2.2592928e-06]\n",
            "Case no.24, Predicted=[9.9977249e-01 5.8841705e-04]\n",
            "Case no.25, Predicted=[0.03738242 0.9655795 ]\n",
            "Case no.26, Predicted=[0.41107672 0.73830736]\n",
            "Case no.27, Predicted=[9.9991643e-01 6.9490075e-04]\n",
            "Case no.28, Predicted=[0.00309128 0.9996523 ]\n",
            "Case no.29, Predicted=[0.07605818 0.95858514]\n",
            "Case no.30, Predicted=[0.01596087 0.9907981 ]\n",
            "Case no.31, Predicted=[0.38336986 0.6572416 ]\n",
            "Case no.32, Predicted=[9.9933094e-01 5.4460764e-04]\n",
            "Case no.33, Predicted=[0.90543723 0.10213628]\n",
            "Case no.34, Predicted=[0.02012661 0.9794705 ]\n",
            "Case no.35, Predicted=[0.04708242 0.6961559 ]\n",
            "Case no.36, Predicted=[0.0100615 0.9951271]\n",
            "Case no.37, Predicted=[0.9920498 0.0196633]\n",
            "Case no.38, Predicted=[0.00276062 0.9947914 ]\n",
            "Case no.39, Predicted=[0.8863287  0.02974349]\n",
            "Case no.40, Predicted=[0.99902856 0.0031769 ]\n",
            "Case no.41, Predicted=[7.454157e-04 9.989398e-01]\n",
            "Case no.42, Predicted=[0.99728304 0.00153649]\n",
            "Case no.43, Predicted=[0.02257344 0.9795594 ]\n",
            "Case no.44, Predicted=[9.9992335e-01 3.8412760e-05]\n",
            "Case no.45, Predicted=[0.9998691  0.00391504]\n",
            "Case no.46, Predicted=[9.9978715e-01 3.7884712e-04]\n",
            "Case no.47, Predicted=[9.9986655e-01 2.7662516e-04]\n",
            "Case no.48, Predicted=[0.17580432 0.88988626]\n",
            "Case no.49, Predicted=[0.12911314 0.96425474]\n",
            "Case no.50, Predicted=[0.99394107 0.00748321]\n",
            "Case no.51, Predicted=[0.99882674 0.00330889]\n",
            "Case no.52, Predicted=[0.98413837 0.03266984]\n",
            "Case no.53, Predicted=[0.00449961 0.9926381 ]\n",
            "Case no.54, Predicted=[9.956014e-01 9.186566e-04]\n",
            "Case no.55, Predicted=[0.00528151 0.99693155]\n",
            "Case no.56, Predicted=[0.06758696 0.9973207 ]\n",
            "Case no.57, Predicted=[9.999506e-01 6.773388e-05]\n",
            "Case no.58, Predicted=[9.9980175e-01 8.1110001e-04]\n",
            "Case no.59, Predicted=[0.87430143 0.17306042]\n",
            "Case no.60, Predicted=[0.9988424  0.00297281]\n",
            "Case no.61, Predicted=[9.9997628e-01 2.2864342e-04]\n",
            "Case no.62, Predicted=[9.9925810e-01 7.3197484e-04]\n",
            "Case no.63, Predicted=[0.785563   0.04485852]\n",
            "Case no.64, Predicted=[0.0011906  0.99886763]\n",
            "Case no.65, Predicted=[9.9999511e-01 6.0693274e-05]\n",
            "Case no.66, Predicted=[0.10840568 0.3464888 ]\n",
            "Case no.67, Predicted=[0.03566986 0.9566455 ]\n",
            "Case no.68, Predicted=[0.00136131 0.99472505]\n",
            "Case no.69, Predicted=[0.02388436 0.97058046]\n",
            "Case no.70, Predicted=[0.10823122 0.92455065]\n",
            "Case no.71, Predicted=[9.9974704e-01 9.0605021e-04]\n",
            "Case no.72, Predicted=[0.10810551 0.88513154]\n",
            "Case no.73, Predicted=[0.78079545 0.24093384]\n",
            "Case no.74, Predicted=[0.9971187  0.00112471]\n",
            "Case no.75, Predicted=[0.00424761 0.99705756]\n",
            "Case no.76, Predicted=[3.7941337e-04 9.9844241e-01]\n",
            "Case no.77, Predicted=[0.02883166 0.9806979 ]\n",
            "Case no.78, Predicted=[9.8701763e-05 9.9969447e-01]\n",
            "Case no.79, Predicted=[9.576944e-01 6.239009e-05]\n",
            "Case no.80, Predicted=[0.01025322 0.9472393 ]\n",
            "Case no.81, Predicted=[9.9990702e-01 5.4502212e-05]\n",
            "Case no.82, Predicted=[0.00110418 0.9955702 ]\n",
            "Case no.83, Predicted=[9.999609e-01 6.967742e-05]\n",
            "Case no.84, Predicted=[9.999729e-01 3.069582e-05]\n",
            "Case no.85, Predicted=[0.8810151 0.1095849]\n",
            "Case no.86, Predicted=[0.9842919  0.03622547]\n",
            "Case no.87, Predicted=[0.27169272 0.7754357 ]\n",
            "Case no.88, Predicted=[7.1859360e-04 9.9486125e-01]\n",
            "Case no.89, Predicted=[0.10563883 0.9079364 ]\n",
            "Case no.90, Predicted=[8.9150667e-04 9.9505466e-01]\n",
            "Case no.91, Predicted=[0.9991872 0.0048888]\n",
            "Case no.92, Predicted=[0.00424096 0.99541056]\n",
            "Case no.93, Predicted=[3.809929e-04 9.994648e-01]\n",
            "Case no.94, Predicted=[9.9997920e-01 2.0605326e-04]\n",
            "Case no.95, Predicted=[9.9999964e-01 4.0880323e-06]\n",
            "Case no.96, Predicted=[0.98050535 0.03772271]\n",
            "Case no.97, Predicted=[0.02616492 0.8487234 ]\n",
            "Case no.98, Predicted=[0.98238045 0.00348395]\n",
            "Case no.99, Predicted=[0.1986162  0.98177004]\n",
            "Case no.100, Predicted=[0.9781188  0.03182894]\n",
            "Case no.101, Predicted=[0.9967582  0.00135002]\n",
            "Case no.102, Predicted=[0.999902  0.0027824]\n",
            "Case no.103, Predicted=[0.01598704 0.9872682 ]\n",
            "Case no.104, Predicted=[9.9999917e-01 1.7392231e-05]\n",
            "Case no.105, Predicted=[0.01785299 0.9919033 ]\n",
            "Case no.106, Predicted=[0.00753844 0.9909817 ]\n",
            "Case no.107, Predicted=[9.9999821e-01 1.5759468e-04]\n",
            "Case no.108, Predicted=[0.01157269 0.97200906]\n",
            "Case no.109, Predicted=[9.9999928e-01 1.5846812e-06]\n",
            "Case no.110, Predicted=[0.01724479 0.9845542 ]\n",
            "Case no.111, Predicted=[0.9269676  0.02333826]\n",
            "Case no.112, Predicted=[0.999714   0.00452042]\n",
            "Case no.113, Predicted=[0.00303653 0.9922979 ]\n",
            "Case no.114, Predicted=[9.818375e-04 9.998611e-01]\n",
            "Case no.115, Predicted=[0.690803   0.67757314]\n",
            "Case no.116, Predicted=[9.99871492e-01 1.17739146e-04]\n",
            "Case no.117, Predicted=[0.04604936 0.9726385 ]\n",
            "Case no.118, Predicted=[0.00117922 0.998671  ]\n",
            "Case no.119, Predicted=[0.01175982 0.99242944]\n",
            "Case no.120, Predicted=[0.2577837  0.38052696]\n",
            "Case no.121, Predicted=[6.1133504e-04 9.9321461e-01]\n",
            "Case no.122, Predicted=[0.2877316 0.6867351]\n",
            "Case no.123, Predicted=[0.99886435 0.00815937]\n",
            "Case no.124, Predicted=[0.9982178  0.01667306]\n",
            "Case no.125, Predicted=[0.9974499  0.00500673]\n",
            "Case no.126, Predicted=[4.0671229e-04 9.9858165e-01]\n",
            "Case no.127, Predicted=[0.75611156 0.17311132]\n",
            "Case no.128, Predicted=[0.9988682  0.00390002]\n",
            "Case no.129, Predicted=[0.9999272 0.0037154]\n",
            "Case no.130, Predicted=[0.02280632 0.9756384 ]\n",
            "Case no.131, Predicted=[0.9993206  0.00172672]\n",
            "Case no.132, Predicted=[5.5366755e-04 9.9994069e-01]\n",
            "Case no.133, Predicted=[0.99985576 0.00143069]\n",
            "Case no.134, Predicted=[1.5839934e-04 9.9982744e-01]\n",
            "Case no.135, Predicted=[0.99902266 0.00969306]\n",
            "Case no.136, Predicted=[0.13346803 0.9853814 ]\n",
            "Case no.137, Predicted=[0.89389384 0.12840277]\n",
            "Case no.138, Predicted=[9.999955e-01 3.093111e-05]\n",
            "Case no.139, Predicted=[0.03518969 0.9209869 ]\n",
            "Case no.140, Predicted=[0.05204916 0.97942364]\n",
            "Case no.141, Predicted=[0.00214717 0.99284273]\n",
            "Case no.142, Predicted=[0.9997591 0.001059 ]\n",
            "Case no.143, Predicted=[0.99875563 0.00582647]\n",
            "Case no.144, Predicted=[0.00489622 0.9969378 ]\n",
            "Case no.145, Predicted=[2.4905801e-04 9.9907446e-01]\n",
            "Case no.146, Predicted=[0.9975422 0.0021559]\n",
            "Case no.147, Predicted=[0.07784921 0.98386335]\n",
            "Case no.148, Predicted=[1.3861060e-04 9.9966645e-01]\n",
            "Case no.149, Predicted=[0.9909695  0.02125633]\n",
            "Case no.150, Predicted=[0.99901736 0.0048992 ]\n",
            "Case no.151, Predicted=[0.63630164 0.30352154]\n",
            "Case no.152, Predicted=[0.9893453 0.0954473]\n",
            "Case no.153, Predicted=[0.9850539  0.13056082]\n",
            "Case no.154, Predicted=[8.9421868e-04 9.9862576e-01]\n",
            "Case no.155, Predicted=[9.9967003e-01 3.3184886e-04]\n",
            "Case no.156, Predicted=[0.01662588 0.9796772 ]\n",
            "Case no.157, Predicted=[0.9975337  0.07920924]\n",
            "Case no.158, Predicted=[0.9996996  0.00291723]\n",
            "Case no.159, Predicted=[0.99972165 0.00308156]\n",
            "Case no.160, Predicted=[0.9966822  0.01085189]\n",
            "Case no.161, Predicted=[0.05716726 0.8923702 ]\n",
            "Case no.162, Predicted=[0.03094268 0.9722425 ]\n",
            "Case no.163, Predicted=[0.43544602 0.565206  ]\n",
            "Case no.164, Predicted=[0.99776626 0.00427085]\n",
            "Case no.165, Predicted=[9.9997663e-01 1.2886524e-04]\n",
            "Case no.166, Predicted=[0.00221631 0.9959357 ]\n",
            "Case no.167, Predicted=[0.09030434 0.93721026]\n",
            "Case no.168, Predicted=[0.01476574 0.9812288 ]\n",
            "Case no.169, Predicted=[0.21311554 0.83733535]\n",
            "Case no.170, Predicted=[9.9881685e-01 3.2192469e-04]\n",
            "Case no.171, Predicted=[0.5266689  0.28549117]\n",
            "Case no.172, Predicted=[0.99878645 0.00135154]\n",
            "Case no.173, Predicted=[0.99831104 0.00351405]\n",
            "Case no.174, Predicted=[0.02568859 0.981429  ]\n",
            "Case no.175, Predicted=[0.9841839  0.03491867]\n",
            "Case no.176, Predicted=[0.00299433 0.9562986 ]\n",
            "Case no.177, Predicted=[0.9961702  0.00727266]\n",
            "Case no.178, Predicted=[0.99594176 0.00278294]\n",
            "Case no.179, Predicted=[0.00607869 0.99706525]\n",
            "Case no.180, Predicted=[0.349562  0.8457562]\n",
            "Case no.181, Predicted=[0.9946207  0.00304502]\n",
            "Case no.182, Predicted=[7.020533e-04 9.972372e-01]\n",
            "Case no.183, Predicted=[9.9967456e-01 2.6974082e-04]\n",
            "Case no.184, Predicted=[0.00158891 0.9931172 ]\n",
            "Case no.185, Predicted=[0.94738626 0.031894  ]\n",
            "Case no.186, Predicted=[5.790889e-04 9.977344e-01]\n",
            "Case no.187, Predicted=[0.98516667 0.00559479]\n",
            "Case no.188, Predicted=[0.99569017 0.03073487]\n",
            "Case no.189, Predicted=[0.4805709  0.43504363]\n",
            "Case no.190, Predicted=[9.9975759e-01 5.5778027e-04]\n",
            "Case no.191, Predicted=[9.9978882e-01 1.2505054e-04]\n",
            "Case no.192, Predicted=[0.00370669 0.998201  ]\n",
            "Case no.193, Predicted=[0.99977267 0.001012  ]\n",
            "Case no.194, Predicted=[0.03385153 0.9814601 ]\n",
            "Case no.195, Predicted=[9.997257e-01 9.839535e-04]\n",
            "Case no.196, Predicted=[2.8404593e-04 9.9757928e-01]\n",
            "Case no.197, Predicted=[0.0067918  0.96500677]\n",
            "Case no.198, Predicted=[0.5856431  0.58594704]\n",
            "Case no.199, Predicted=[0.4004063 0.9757267]\n",
            "Case no.200, Predicted=[9.9974787e-01 1.6844273e-04]\n",
            "Case no.201, Predicted=[0.10778496 0.87792385]\n",
            "Case no.202, Predicted=[0.0028725  0.99846095]\n",
            "Case no.203, Predicted=[0.02531198 0.98251534]\n",
            "Case no.204, Predicted=[0.78079545 0.24093384]\n",
            "Case no.205, Predicted=[0.33651096 0.8753154 ]\n",
            "Case no.206, Predicted=[0.9738482  0.02348563]\n",
            "Case no.207, Predicted=[0.00442469 0.99526095]\n",
            "Case no.208, Predicted=[9.895563e-04 9.993050e-01]\n",
            "Case no.209, Predicted=[0.01870984 0.9921961 ]\n",
            "Case no.210, Predicted=[0.9876714  0.00267699]\n",
            "Case no.211, Predicted=[9.9999905e-01 5.8717733e-06]\n",
            "Case no.212, Predicted=[0.01997921 0.9639617 ]\n",
            "Case no.213, Predicted=[0.99976623 0.00109631]\n",
            "Case no.214, Predicted=[0.00102413 0.999354  ]\n",
            "Case no.215, Predicted=[0.99807024 0.00310788]\n",
            "Case no.216, Predicted=[0.77929664 0.0508337 ]\n",
            "Case no.217, Predicted=[0.99680305 0.0103904 ]\n",
            "Case no.218, Predicted=[0.69651467 0.71845865]\n",
            "Case no.219, Predicted=[0.03833172 0.9743221 ]\n",
            "Case no.220, Predicted=[0.02354807 0.9107122 ]\n",
            "Case no.221, Predicted=[0.9977671  0.00420859]\n",
            "Case no.222, Predicted=[9.9938810e-01 4.7251582e-04]\n",
            "Case no.223, Predicted=[0.00128183 0.99660456]\n",
            "Case no.224, Predicted=[0.02036306 0.9495133 ]\n",
            "Case no.225, Predicted=[0.6111254  0.33992457]\n",
            "Case no.226, Predicted=[0.01600072 0.97238463]\n",
            "Case no.227, Predicted=[0.02426267 0.9640461 ]\n",
            "Case no.228, Predicted=[0.8822779  0.18254802]\n",
            "Case no.229, Predicted=[0.05648172 0.9729105 ]\n",
            "Case no.230, Predicted=[0.9999138  0.00335222]\n",
            "Case no.231, Predicted=[0.0073058 0.9966191]\n",
            "Case no.232, Predicted=[0.9950929  0.02504236]\n",
            "Case no.233, Predicted=[9.966774e-01 6.584227e-04]\n",
            "Case no.234, Predicted=[0.9219012  0.30862337]\n",
            "Case no.235, Predicted=[0.99967957 0.00187185]\n",
            "Case no.236, Predicted=[0.00742462 0.9740938 ]\n",
            "Case no.237, Predicted=[0.98244244 0.00615373]\n",
            "Case no.238, Predicted=[9.747569e-07 9.999941e-01]\n",
            "Case no.239, Predicted=[0.00330755 0.9956192 ]\n",
            "Case no.240, Predicted=[9.921197e-01 5.078614e-04]\n",
            "Case no.241, Predicted=[9.9912572e-01 1.4612079e-04]\n",
            "Case no.242, Predicted=[2.1275878e-04 9.9717522e-01]\n",
            "Case no.243, Predicted=[0.69291687 0.07016012]\n",
            "Case no.244, Predicted=[4.6476722e-04 9.9974728e-01]\n",
            "Case no.245, Predicted=[0.00391895 0.99305046]\n",
            "Case no.246, Predicted=[0.02424437 0.90662533]\n",
            "Case no.247, Predicted=[0.99590814 0.00272492]\n",
            "Case no.248, Predicted=[0.39382794 0.3466778 ]\n",
            "Case no.249, Predicted=[0.98518205 0.01385421]\n",
            "Case no.250, Predicted=[9.9889994e-01 4.0665269e-04]\n",
            "Case no.251, Predicted=[9.9974895e-01 2.8851628e-04]\n",
            "Case no.252, Predicted=[0.00773197 0.997146  ]\n",
            "Case no.253, Predicted=[0.99621916 0.00998437]\n",
            "Case no.254, Predicted=[0.98580486 0.02266935]\n",
            "Case no.255, Predicted=[0.00172848 0.98669267]\n",
            "Case no.256, Predicted=[0.00264135 0.98979425]\n",
            "Case no.257, Predicted=[9.999721e-01 8.174271e-05]\n",
            "Case no.258, Predicted=[0.15356734 0.90203387]\n",
            "Case no.259, Predicted=[0.99790025 0.00239655]\n",
            "Case no.260, Predicted=[0.98403347 0.03030652]\n",
            "Case no.261, Predicted=[0.00132301 0.99894357]\n",
            "Case no.262, Predicted=[0.04753059 0.974772  ]\n",
            "Case no.263, Predicted=[2.4515390e-04 9.8784184e-01]\n",
            "Case no.264, Predicted=[0.00554577 0.9970731 ]\n",
            "Case no.265, Predicted=[9.9992514e-01 7.1851864e-05]\n",
            "Case no.266, Predicted=[0.96744967 0.13352501]\n",
            "Case no.267, Predicted=[0.9951821  0.02084455]\n",
            "Case no.268, Predicted=[6.3004634e-05 9.9998480e-01]\n",
            "Case no.269, Predicted=[0.01429576 0.94857466]\n",
            "Case no.270, Predicted=[0.00181884 0.9930248 ]\n",
            "Case no.271, Predicted=[0.00176474 0.9992277 ]\n",
            "Case no.272, Predicted=[0.04084006 0.91299987]\n",
            "Case no.273, Predicted=[0.42310575 0.15869537]\n",
            "Case no.274, Predicted=[0.98616964 0.00244343]\n",
            "Case no.275, Predicted=[0.00118309 0.9970938 ]\n",
            "Case no.276, Predicted=[0.92848074 0.10328621]\n",
            "Case no.277, Predicted=[0.10031432 0.8558105 ]\n",
            "Case no.278, Predicted=[0.9969102  0.00618982]\n",
            "Case no.279, Predicted=[9.9801993e-01 6.3398480e-04]\n",
            "Case no.280, Predicted=[0.9977772  0.00526419]\n",
            "Case no.281, Predicted=[9.9984443e-01 1.4567375e-04]\n",
            "Case no.282, Predicted=[0.99265105 0.00465092]\n",
            "Case no.283, Predicted=[2.9030442e-04 9.9947518e-01]\n",
            "Case no.284, Predicted=[9.9946272e-01 6.8312883e-04]\n",
            "Case no.285, Predicted=[0.01000142 0.9953814 ]\n",
            "Case no.286, Predicted=[0.99222094 0.00560984]\n",
            "Case no.287, Predicted=[0.98355484 0.01397607]\n",
            "Case no.288, Predicted=[0.9990872  0.01003334]\n",
            "Case no.289, Predicted=[9.9990106e-01 1.3810396e-04]\n",
            "Case no.290, Predicted=[0.00488698 0.99974704]\n",
            "Case no.291, Predicted=[0.06743315 0.97888553]\n",
            "Case no.292, Predicted=[0.9941348  0.00969747]\n",
            "Case no.293, Predicted=[0.13561979 0.53514355]\n",
            "Case no.294, Predicted=[0.9954486  0.02114227]\n",
            "Case no.295, Predicted=[0.820304   0.36891508]\n",
            "Case no.296, Predicted=[0.9524156  0.05889228]\n",
            "Case no.297, Predicted=[9.9995315e-01 2.4026632e-04]\n",
            "Case no.298, Predicted=[0.25827703 0.83024585]\n",
            "Case no.299, Predicted=[9.1940172e-05 9.9997336e-01]\n",
            "Case no.300, Predicted=[9.9991894e-01 3.6282036e-05]\n",
            "Case no.301, Predicted=[0.9162539  0.24307176]\n",
            "Case no.302, Predicted=[8.857236e-05 9.984716e-01]\n",
            "Case no.303, Predicted=[0.09441748 0.823975  ]\n",
            "Case no.304, Predicted=[0.00219324 0.99928254]\n",
            "Case no.305, Predicted=[0.02831569 0.9687142 ]\n",
            "Case no.306, Predicted=[9.7917226e-05 9.9917495e-01]\n",
            "Case no.307, Predicted=[6.6682696e-04 9.9963355e-01]\n",
            "Case no.308, Predicted=[0.63140476 0.7201703 ]\n",
            "Case no.309, Predicted=[0.00339141 0.9977024 ]\n",
            "Case no.310, Predicted=[1.5380225e-05 9.9996477e-01]\n",
            "Case no.311, Predicted=[0.01277497 0.9673983 ]\n",
            "Case no.312, Predicted=[6.619613e-05 9.998263e-01]\n",
            "Case no.313, Predicted=[9.9990284e-01 1.5255809e-04]\n",
            "Case no.314, Predicted=[0.19364086 0.97402835]\n",
            "Case no.315, Predicted=[0.98915255 0.00969106]\n",
            "Case no.316, Predicted=[0.9998306  0.00119206]\n",
            "Case no.317, Predicted=[2.5179982e-04 9.9994570e-01]\n",
            "Case no.318, Predicted=[0.18189889 0.87552834]\n",
            "Case no.319, Predicted=[0.99513096 0.00286427]\n",
            "Case no.320, Predicted=[0.95307636 0.08772242]\n",
            "Case no.321, Predicted=[0.04373243 0.98361766]\n",
            "Case no.322, Predicted=[0.00335559 0.99814713]\n",
            "Case no.323, Predicted=[0.04737258 0.9928968 ]\n",
            "Case no.324, Predicted=[0.00208318 0.9973941 ]\n",
            "Case no.325, Predicted=[0.99944615 0.00288469]\n",
            "Case no.326, Predicted=[9.9998707e-01 1.5974045e-04]\n",
            "Case no.327, Predicted=[0.99524754 0.00419259]\n",
            "Case no.328, Predicted=[0.00515833 0.9959534 ]\n",
            "Case no.329, Predicted=[0.03236192 0.916638  ]\n",
            "Case no.330, Predicted=[0.99381906 0.03825018]\n",
            "Case no.331, Predicted=[0.0833931 0.9655297]\n",
            "Case no.332, Predicted=[0.9844482  0.01972228]\n",
            "Case no.333, Predicted=[0.83619887 0.58492273]\n",
            "Case no.334, Predicted=[9.9979389e-01 1.8489361e-04]\n",
            "Case no.335, Predicted=[0.02651784 0.99718547]\n",
            "Case no.336, Predicted=[0.9994501  0.01022005]\n",
            "Case no.337, Predicted=[0.34919593 0.7513695 ]\n",
            "Case no.338, Predicted=[0.0050095  0.99677074]\n",
            "Case no.339, Predicted=[0.6155218  0.74036926]\n",
            "Case no.340, Predicted=[0.00707766 0.99208975]\n",
            "Case no.341, Predicted=[0.9626689  0.02852491]\n",
            "Case no.342, Predicted=[9.9979484e-01 4.1100383e-04]\n",
            "Case no.343, Predicted=[0.00540236 0.99346614]\n",
            "Case no.344, Predicted=[9.9988663e-01 5.8445334e-04]\n",
            "Case no.345, Predicted=[0.9997355  0.00105846]\n",
            "Case no.346, Predicted=[0.68918747 0.24767914]\n",
            "Case no.347, Predicted=[9.9997044e-01 5.8755279e-04]\n",
            "Case no.348, Predicted=[0.00310135 0.99722195]\n",
            "Case no.349, Predicted=[7.326305e-04 9.972553e-01]\n",
            "Case no.350, Predicted=[0.99303854 0.06709433]\n",
            "Case no.351, Predicted=[0.9987168  0.00563577]\n",
            "Case no.352, Predicted=[1.6316457e-05 9.9996543e-01]\n",
            "Case no.353, Predicted=[0.68929327 0.39162508]\n",
            "Case no.354, Predicted=[0.09870955 0.7471287 ]\n",
            "Case no.355, Predicted=[0.00652683 0.9907331 ]\n",
            "Case no.356, Predicted=[0.99897146 0.0059638 ]\n",
            "Case no.357, Predicted=[0.01570845 0.9939822 ]\n",
            "Case no.358, Predicted=[0.05509377 0.9530064 ]\n",
            "Case no.359, Predicted=[0.1908969 0.2810346]\n",
            "Case no.360, Predicted=[0.00471807 0.9912783 ]\n",
            "Case no.361, Predicted=[0.02777782 0.97893703]\n",
            "Case no.362, Predicted=[0.0579927 0.9693997]\n",
            "Case no.363, Predicted=[0.9925823  0.01638663]\n",
            "Case no.364, Predicted=[0.01648614 0.9748746 ]\n",
            "Case no.365, Predicted=[9.998933e-01 2.476871e-04]\n",
            "Case no.366, Predicted=[0.00297216 0.99941933]\n",
            "Case no.367, Predicted=[0.9954562  0.01015788]\n",
            "Case no.368, Predicted=[9.9998623e-01 1.6788430e-05]\n",
            "Case no.369, Predicted=[0.97814244 0.11177716]\n",
            "Case no.370, Predicted=[0.999909   0.00152054]\n",
            "Case no.371, Predicted=[0.9057734  0.07318231]\n",
            "Case no.372, Predicted=[0.9991791  0.00170216]\n",
            "Case no.373, Predicted=[9.997174e-01 6.632209e-04]\n",
            "Case no.374, Predicted=[9.9984062e-01 3.0645728e-04]\n",
            "Case no.375, Predicted=[9.9823844e-01 9.5633106e-05]\n",
            "Case no.376, Predicted=[0.99314815 0.00408179]\n",
            "Case no.377, Predicted=[0.84575254 0.5761327 ]\n",
            "Case no.378, Predicted=[9.999962e-01 5.749580e-05]\n",
            "Case no.379, Predicted=[0.04550841 0.98721874]\n",
            "Case no.380, Predicted=[0.0020107 0.9836919]\n",
            "Case no.381, Predicted=[0.9995647  0.00347555]\n",
            "Case no.382, Predicted=[0.6076934 0.7213015]\n",
            "Case no.383, Predicted=[0.9655834 0.0653716]\n",
            "Case no.384, Predicted=[2.9453635e-04 9.9997467e-01]\n",
            "Case no.385, Predicted=[0.9957344  0.00200984]\n",
            "Case no.386, Predicted=[3.6880396e-05 9.9947286e-01]\n",
            "Case no.387, Predicted=[0.99714494 0.02754104]\n",
            "Case no.388, Predicted=[0.00153768 0.9997092 ]\n",
            "Case no.389, Predicted=[9.9988818e-01 2.9295683e-04]\n",
            "Case no.390, Predicted=[0.0064683  0.99224323]\n",
            "Case no.391, Predicted=[9.9988544e-01 7.5222160e-05]\n",
            "Case no.392, Predicted=[6.6092610e-04 9.9573743e-01]\n",
            "Case no.393, Predicted=[0.9364963  0.00551027]\n",
            "Case no.394, Predicted=[0.00492883 0.997519  ]\n",
            "Case no.395, Predicted=[0.01700047 0.9916126 ]\n",
            "Case no.396, Predicted=[2.2697449e-04 9.9954057e-01]\n",
            "Case no.397, Predicted=[9.9993443e-01 2.5823712e-04]\n",
            "Case no.398, Predicted=[0.99864554 0.00228438]\n",
            "Case no.399, Predicted=[0.00281289 0.9964089 ]\n",
            "Case no.400, Predicted=[0.99886274 0.00133878]\n",
            "Case no.401, Predicted=[0.07530656 0.9589834 ]\n",
            "Case no.402, Predicted=[0.00435254 0.9997924 ]\n",
            "Case no.403, Predicted=[0.9666439  0.04395348]\n",
            "Case no.404, Predicted=[0.923067   0.21958962]\n",
            "Case no.405, Predicted=[1.822114e-04 9.999095e-01]\n",
            "Case no.406, Predicted=[0.99941874 0.00121295]\n",
            "Case no.407, Predicted=[0.01024127 0.99370307]\n",
            "Case no.408, Predicted=[9.9992967e-01 8.1017613e-04]\n",
            "Case no.409, Predicted=[9.9999893e-01 1.0758827e-05]\n",
            "Case no.410, Predicted=[0.9987705  0.00252691]\n",
            "Case no.411, Predicted=[0.01958653 0.9951123 ]\n",
            "Case no.412, Predicted=[0.9999527  0.00142753]\n",
            "Case no.413, Predicted=[9.999957e-01 2.196279e-05]\n",
            "Case no.414, Predicted=[0.10324615 0.93144864]\n",
            "Case no.415, Predicted=[0.05920097 0.9802147 ]\n",
            "Case no.416, Predicted=[0.00131491 0.999109  ]\n",
            "Case no.417, Predicted=[9.999584e-01 3.785818e-05]\n",
            "Case no.418, Predicted=[0.01900068 0.9949603 ]\n",
            "Case no.419, Predicted=[0.99990404 0.00190178]\n",
            "Case no.420, Predicted=[0.9954991  0.00565535]\n",
            "Case no.421, Predicted=[0.01179343 0.995847  ]\n",
            "Case no.422, Predicted=[0.07412505 0.985036  ]\n",
            "Case no.423, Predicted=[0.998348   0.00341636]\n",
            "Case no.424, Predicted=[0.9919199  0.01624036]\n",
            "Case no.425, Predicted=[0.9331316  0.02051452]\n",
            "Case no.426, Predicted=[0.9984174  0.00210831]\n",
            "Case no.427, Predicted=[2.2086501e-04 9.9530149e-01]\n",
            "Case no.428, Predicted=[5.4737926e-04 9.9867237e-01]\n",
            "Case no.429, Predicted=[0.16007102 0.70952404]\n",
            "Case no.430, Predicted=[1.0000000e+00 1.8873209e-06]\n",
            "Case no.431, Predicted=[0.99983525 0.00115559]\n",
            "Case no.432, Predicted=[9.9998623e-01 1.6788430e-05]\n",
            "Case no.433, Predicted=[0.05898422 0.9811591 ]\n",
            "Case no.434, Predicted=[9.9997556e-01 6.1879953e-05]\n",
            "Case no.435, Predicted=[0.9539246  0.02140656]\n",
            "Case no.436, Predicted=[0.9965261  0.00442314]\n",
            "Case no.437, Predicted=[0.04036397 0.9423224 ]\n",
            "Case no.438, Predicted=[0.01433522 0.99076045]\n",
            "Case no.439, Predicted=[0.40442058 0.8208668 ]\n",
            "Case no.440, Predicted=[0.00435621 0.996397  ]\n",
            "Case no.441, Predicted=[3.3846498e-04 9.9901450e-01]\n",
            "Case no.442, Predicted=[0.34789062 0.79138625]\n",
            "Case no.443, Predicted=[2.1405524e-05 9.9804270e-01]\n",
            "Case no.444, Predicted=[0.16912395 0.83760333]\n",
            "Case no.445, Predicted=[0.99878466 0.00143999]\n",
            "Case no.446, Predicted=[0.9999765  0.00104541]\n",
            "Case no.447, Predicted=[0.00114349 0.9968853 ]\n",
            "Case no.448, Predicted=[0.99504983 0.02314666]\n",
            "Case no.449, Predicted=[0.02639645 0.98641384]\n",
            "Case no.450, Predicted=[0.00211233 0.998025  ]\n",
            "Case no.451, Predicted=[0.01195464 0.9686519 ]\n",
            "Case no.452, Predicted=[0.7682401  0.59750533]\n",
            "Case no.453, Predicted=[1.718998e-04 9.995234e-01]\n",
            "Case no.454, Predicted=[9.9988198e-01 1.8879771e-04]\n",
            "Case no.455, Predicted=[0.38251203 0.6265286 ]\n",
            "Case no.456, Predicted=[0.96754104 0.00301909]\n",
            "Case no.457, Predicted=[0.99801767 0.0209026 ]\n",
            "Case no.458, Predicted=[9.9999028e-01 3.7203274e-05]\n",
            "Case no.459, Predicted=[0.00123042 0.99985933]\n",
            "Case no.460, Predicted=[0.9953915  0.02224821]\n",
            "Case no.461, Predicted=[0.10681403 0.5247268 ]\n",
            "Case no.462, Predicted=[9.9999821e-01 1.7188622e-05]\n",
            "Case no.463, Predicted=[0.98825634 0.02285504]\n",
            "Case no.464, Predicted=[0.97830224 0.02553776]\n",
            "Case no.465, Predicted=[9.9994755e-01 2.1311641e-04]\n",
            "Case no.466, Predicted=[0.0073421 0.9903095]\n",
            "Case no.467, Predicted=[0.00315884 0.96360785]\n",
            "Case no.468, Predicted=[0.02463469 0.97921616]\n",
            "Case no.469, Predicted=[0.03533846 0.9902575 ]\n",
            "Case no.470, Predicted=[4.7045946e-04 9.9725211e-01]\n",
            "Case no.471, Predicted=[5.7323174e-05 9.9997097e-01]\n",
            "Case no.472, Predicted=[0.99112403 0.0215109 ]\n",
            "Case no.473, Predicted=[0.99524045 0.00281143]\n",
            "Case no.474, Predicted=[9.3408585e-01 8.0043077e-04]\n",
            "Case no.475, Predicted=[0.26331693 0.8966387 ]\n",
            "Case no.476, Predicted=[0.03491595 0.9914499 ]\n",
            "Case no.477, Predicted=[0.04450116 0.5398407 ]\n",
            "Case no.478, Predicted=[0.9882333  0.00286037]\n",
            "Case no.479, Predicted=[0.00588682 0.99042636]\n",
            "Case no.480, Predicted=[5.559591e-06 9.999740e-01]\n",
            "Case no.481, Predicted=[9.999827e-01 7.337852e-05]\n",
            "Case no.482, Predicted=[0.99940753 0.00133598]\n",
            "Case no.483, Predicted=[0.9982662  0.00373414]\n",
            "Case no.484, Predicted=[0.9916861 0.0382213]\n",
            "Case no.485, Predicted=[0.9983783  0.00453135]\n",
            "Case no.486, Predicted=[8.023679e-04 9.991598e-01]\n",
            "Case no.487, Predicted=[9.9962819e-01 7.3325634e-04]\n",
            "Case no.488, Predicted=[0.00671089 0.99345785]\n",
            "Case no.489, Predicted=[9.9977648e-01 2.4747849e-04]\n",
            "Case no.490, Predicted=[5.1927567e-04 9.9811143e-01]\n",
            "Case no.491, Predicted=[0.9980583  0.00420088]\n",
            "Case no.492, Predicted=[9.8096070e-06 9.9996203e-01]\n",
            "Case no.493, Predicted=[0.9887539  0.04873005]\n",
            "Case no.494, Predicted=[0.9921054  0.00944984]\n",
            "Case no.495, Predicted=[0.13626263 0.90239465]\n",
            "Case no.496, Predicted=[4.8278594e-05 9.9996650e-01]\n",
            "Case no.497, Predicted=[0.94815433 0.14382675]\n",
            "Case no.498, Predicted=[9.9998748e-01 3.0443072e-04]\n",
            "Case no.499, Predicted=[0.9891537  0.00448948]\n",
            "Case no.500, Predicted=[9.999970e-01 1.210793e-04]\n",
            "Case no.501, Predicted=[0.00871691 0.9707093 ]\n",
            "Case no.502, Predicted=[9.9999797e-01 4.4434266e-05]\n",
            "Case no.503, Predicted=[4.3529272e-04 9.9983668e-01]\n",
            "Case no.504, Predicted=[0.99779546 0.01615497]\n",
            "Case no.505, Predicted=[0.01507467 0.9850795 ]\n",
            "Case no.506, Predicted=[0.00146151 0.9962701 ]\n",
            "Case no.507, Predicted=[0.00495929 0.9954938 ]\n",
            "Case no.508, Predicted=[0.7907425 0.6625324]\n",
            "Case no.509, Predicted=[3.948675e-05 9.999327e-01]\n",
            "Case no.510, Predicted=[0.6942654  0.10460034]\n",
            "Case no.511, Predicted=[9.9996853e-01 1.9729137e-04]\n",
            "Case no.512, Predicted=[0.99871427 0.00583613]\n",
            "Case no.513, Predicted=[0.9737475 0.0652563]\n",
            "Case no.514, Predicted=[0.00313601 0.9914112 ]\n",
            "Case no.515, Predicted=[0.8207933 0.650573 ]\n",
            "Case no.516, Predicted=[0.9754176  0.01515022]\n",
            "Case no.517, Predicted=[9.9970055e-01 1.6549230e-04]\n",
            "Case no.518, Predicted=[0.992849   0.02729222]\n",
            "Case no.519, Predicted=[0.01510003 0.9913172 ]\n",
            "Case no.520, Predicted=[0.03438038 0.9552692 ]\n",
            "Case no.521, Predicted=[0.9990162  0.02108023]\n",
            "Case no.522, Predicted=[1.6015768e-04 9.9990690e-01]\n",
            "Case no.523, Predicted=[0.0026134  0.99590147]\n",
            "Case no.524, Predicted=[9.999330e-01 1.962781e-04]\n",
            "Case no.525, Predicted=[0.9404167  0.08012906]\n",
            "Case no.526, Predicted=[0.92395943 0.28698933]\n",
            "Case no.527, Predicted=[0.9955846 0.0053958]\n",
            "Case no.528, Predicted=[9.998101e-01 1.282990e-04]\n",
            "Case no.529, Predicted=[0.9378396  0.05120432]\n",
            "Case no.530, Predicted=[0.9952301  0.00396693]\n",
            "Case no.531, Predicted=[9.9999142e-01 1.2686849e-04]\n",
            "Case no.532, Predicted=[0.09967527 0.8689152 ]\n",
            "Case no.533, Predicted=[9.9999613e-01 1.3224474e-05]\n",
            "Case no.534, Predicted=[0.00622335 0.9758092 ]\n",
            "Case no.535, Predicted=[0.9998933  0.00126132]\n",
            "Case no.536, Predicted=[0.94086015 0.02827251]\n",
            "Case no.537, Predicted=[0.00292271 0.99563694]\n",
            "Case no.538, Predicted=[9.9985546e-01 2.1281838e-04]\n",
            "Case no.539, Predicted=[0.19839501 0.73638415]\n",
            "Case no.540, Predicted=[9.9975455e-01 3.0735135e-04]\n",
            "Case no.541, Predicted=[9.9998504e-01 5.3808504e-05]\n",
            "Case no.542, Predicted=[0.99786127 0.00234702]\n",
            "Case no.543, Predicted=[9.997454e-01 3.450215e-04]\n",
            "Case no.544, Predicted=[0.03537449 0.9012033 ]\n",
            "Case no.545, Predicted=[9.9996912e-01 1.9843827e-05]\n",
            "Case no.546, Predicted=[5.339384e-04 9.994364e-01]\n",
            "Case no.547, Predicted=[0.01359534 0.99489915]\n",
            "Case no.548, Predicted=[0.00115433 0.9991149 ]\n",
            "Case no.549, Predicted=[9.9985790e-01 1.8334389e-04]\n",
            "Case no.550, Predicted=[0.01157516 0.9860599 ]\n",
            "Case no.551, Predicted=[0.00626042 0.9944374 ]\n",
            "Case no.552, Predicted=[0.99809957 0.01087368]\n",
            "Case no.553, Predicted=[0.94627994 0.0927344 ]\n",
            "Case no.554, Predicted=[3.9037659e-05 9.9976945e-01]\n",
            "Case no.555, Predicted=[0.08536956 0.9051461 ]\n",
            "Case no.556, Predicted=[0.0029642  0.98483634]\n",
            "Case no.557, Predicted=[0.00277057 0.9941444 ]\n",
            "Case no.558, Predicted=[4.488132e-05 9.997025e-01]\n",
            "Case no.559, Predicted=[1.7434359e-04 9.9973756e-01]\n",
            "Case no.560, Predicted=[0.00264415 0.99967736]\n",
            "Case no.561, Predicted=[0.97311723 0.02769917]\n",
            "Case no.562, Predicted=[0.00424483 0.9987708 ]\n",
            "Case no.563, Predicted=[2.566576e-04 9.996029e-01]\n",
            "Case no.564, Predicted=[0.14016223 0.98083943]\n",
            "Case no.565, Predicted=[0.9996418  0.00231674]\n",
            "Case no.566, Predicted=[0.00459686 0.9986943 ]\n",
            "Case no.567, Predicted=[0.9934797  0.00590399]\n",
            "Case no.568, Predicted=[0.9914273  0.02112156]\n",
            "Case no.569, Predicted=[6.4263745e-06 9.9999011e-01]\n",
            "Case no.570, Predicted=[0.01973465 0.98224163]\n",
            "Case no.571, Predicted=[9.9999356e-01 4.3608423e-05]\n",
            "Case no.572, Predicted=[0.9986957 0.0017983]\n",
            "Case no.573, Predicted=[0.00912952 0.9760983 ]\n",
            "Case no.574, Predicted=[9.992592e-01 4.300773e-04]\n",
            "Case no.575, Predicted=[0.9980076  0.00109041]\n",
            "Case no.576, Predicted=[0.00522268 0.999097  ]\n",
            "Case no.577, Predicted=[0.96503866 0.05353314]\n",
            "Case no.578, Predicted=[0.03773791 0.98510337]\n",
            "Case no.579, Predicted=[9.9989474e-01 2.2801757e-04]\n",
            "Case no.580, Predicted=[9.9942088e-01 8.5908175e-04]\n",
            "Case no.581, Predicted=[0.00871745 0.97895944]\n",
            "Case no.582, Predicted=[0.9795314  0.00579992]\n",
            "Case no.583, Predicted=[9.998342e-01 4.184544e-04]\n",
            "Case no.584, Predicted=[0.9992101  0.00464484]\n",
            "Case no.585, Predicted=[0.01193133 0.99646676]\n",
            "Case no.586, Predicted=[0.9994316  0.00476226]\n",
            "Case no.587, Predicted=[0.5192405 0.8156457]\n",
            "Case no.588, Predicted=[0.1223011 0.9852245]\n",
            "Case no.589, Predicted=[3.7315488e-04 9.9936366e-01]\n",
            "Case no.590, Predicted=[0.00212875 0.99828494]\n",
            "Case no.591, Predicted=[0.00366479 0.9671349 ]\n",
            "Case no.592, Predicted=[0.00262216 0.99049604]\n",
            "Case no.593, Predicted=[0.9965792  0.01203761]\n",
            "Case no.594, Predicted=[0.9958358  0.00712064]\n",
            "Case no.595, Predicted=[0.998135   0.00145349]\n",
            "Case no.596, Predicted=[0.9218844  0.18704605]\n",
            "Case no.597, Predicted=[0.7232159 0.561739 ]\n",
            "Case no.598, Predicted=[0.9438914  0.05443951]\n",
            "Case no.599, Predicted=[0.00978369 0.9770677 ]\n",
            "Case no.600, Predicted=[0.04354391 0.71614504]\n",
            "Case no.601, Predicted=[0.7322521  0.37316805]\n",
            "Case no.602, Predicted=[9.9997962e-01 2.5424853e-05]\n",
            "Case no.603, Predicted=[0.01964742 0.97011805]\n",
            "Case no.604, Predicted=[0.9993087  0.00395373]\n",
            "Case no.605, Predicted=[0.9990208  0.00694087]\n",
            "Case no.606, Predicted=[0.99597377 0.00397703]\n",
            "Case no.607, Predicted=[0.9997468  0.00176987]\n",
            "Case no.608, Predicted=[0.9987442  0.03114721]\n",
            "Case no.609, Predicted=[0.9722075  0.04692069]\n",
            "Case no.610, Predicted=[0.13343796 0.70644027]\n",
            "Case no.611, Predicted=[0.00387594 0.9996463 ]\n",
            "Case no.612, Predicted=[0.02119061 0.99222285]\n",
            "Case no.613, Predicted=[0.02903306 0.8472544 ]\n",
            "Case no.614, Predicted=[9.9997747e-01 6.4703723e-05]\n",
            "Case no.615, Predicted=[9.9975944e-01 8.3950162e-04]\n",
            "Case no.616, Predicted=[9.9988770e-01 1.0684701e-04]\n",
            "Case no.617, Predicted=[0.99791896 0.00115514]\n",
            "Case no.618, Predicted=[9.9997729e-01 5.0321818e-05]\n",
            "Case no.619, Predicted=[0.7618069 0.3656897]\n",
            "Case no.620, Predicted=[0.006199   0.98427844]\n",
            "Case no.621, Predicted=[0.99643916 0.01549059]\n",
            "Case no.622, Predicted=[0.00763276 0.9994438 ]\n",
            "Case no.623, Predicted=[0.98383385 0.03224716]\n",
            "Case no.624, Predicted=[0.01954409 0.9534502 ]\n",
            "Case no.625, Predicted=[0.00678694 0.97402155]\n",
            "Case no.626, Predicted=[0.13288021 0.95093125]\n",
            "Case no.627, Predicted=[9.9986374e-01 6.2280349e-05]\n",
            "Case no.628, Predicted=[3.976822e-04 9.978168e-01]\n",
            "Case no.629, Predicted=[9.9999511e-01 1.0489947e-06]\n",
            "Case no.630, Predicted=[0.99967504 0.00114328]\n",
            "Case no.631, Predicted=[0.9975824  0.00422218]\n",
            "Case no.632, Predicted=[9.9990475e-01 8.0910325e-04]\n",
            "Case no.633, Predicted=[0.00297037 0.9996254 ]\n",
            "Case no.634, Predicted=[0.02095598 0.97596896]\n",
            "Case no.635, Predicted=[0.9664717  0.00927171]\n",
            "Case no.636, Predicted=[4.5497454e-05 9.9994218e-01]\n",
            "Case no.637, Predicted=[0.00150076 0.99749047]\n",
            "Case no.638, Predicted=[9.9999636e-01 2.3537874e-04]\n",
            "Case no.639, Predicted=[9.999472e-01 4.912019e-04]\n",
            "Case no.640, Predicted=[0.06539237 0.5839044 ]\n",
            "Case no.641, Predicted=[0.99507    0.00849113]\n",
            "Case no.642, Predicted=[0.20152014 0.56432307]\n",
            "Case no.643, Predicted=[0.58194065 0.8700553 ]\n",
            "Case no.644, Predicted=[0.00152034 0.99825764]\n",
            "Case no.645, Predicted=[9.9782515e-01 7.5206161e-04]\n",
            "Case no.646, Predicted=[0.08421108 0.8991873 ]\n",
            "Case no.647, Predicted=[0.01111275 0.9852687 ]\n",
            "Case no.648, Predicted=[0.620046  0.5961548]\n",
            "Case no.649, Predicted=[9.9983114e-01 1.3801455e-04]\n",
            "Case no.650, Predicted=[0.9930156  0.01675677]\n",
            "Case no.651, Predicted=[0.00758383 0.99089754]\n",
            "Case no.652, Predicted=[0.9985316  0.00229242]\n",
            "Case no.653, Predicted=[2.5928020e-04 9.9923396e-01]\n",
            "Case no.654, Predicted=[0.0169664  0.99696445]\n",
            "Case no.655, Predicted=[9.9989891e-01 2.7045608e-04]\n",
            "Case no.656, Predicted=[7.5528026e-04 9.7812957e-01]\n",
            "Case no.657, Predicted=[0.00235054 0.99887455]\n",
            "Case no.658, Predicted=[1.3506413e-04 9.9938595e-01]\n",
            "Case no.659, Predicted=[0.99982196 0.00305384]\n",
            "Case no.660, Predicted=[0.44065255 0.8660446 ]\n",
            "Case no.661, Predicted=[0.00380465 0.9963285 ]\n",
            "Case no.662, Predicted=[0.7869696 0.519336 ]\n",
            "Case no.663, Predicted=[0.04109108 0.8584471 ]\n",
            "Case no.664, Predicted=[0.99915266 0.00190461]\n",
            "Case no.665, Predicted=[0.00482365 0.9949913 ]\n",
            "Case no.666, Predicted=[0.01541218 0.97789055]\n",
            "Case no.667, Predicted=[0.09659258 0.9123429 ]\n",
            "Case no.668, Predicted=[9.9999905e-01 8.3843815e-07]\n",
            "Case no.669, Predicted=[0.9990368  0.00496894]\n",
            "Case no.670, Predicted=[0.12667492 0.8696531 ]\n",
            "Case no.671, Predicted=[1.8870831e-04 9.9951875e-01]\n",
            "Case no.672, Predicted=[9.9991918e-01 2.4306774e-04]\n",
            "Case no.673, Predicted=[1.6623735e-04 9.9992788e-01]\n",
            "Case no.674, Predicted=[9.9978888e-01 3.7777424e-04]\n",
            "Case no.675, Predicted=[0.9992571  0.00150949]\n",
            "Case no.676, Predicted=[0.90278167 0.12276849]\n",
            "Case no.677, Predicted=[0.99625576 0.00163016]\n",
            "Case no.678, Predicted=[0.32258615 0.81596136]\n",
            "Case no.679, Predicted=[0.00784767 0.9920604 ]\n",
            "Case no.680, Predicted=[0.00341281 0.99747205]\n",
            "Case no.681, Predicted=[9.9999875e-01 1.0670053e-05]\n",
            "Case no.682, Predicted=[0.01625857 0.98507863]\n",
            "Case no.683, Predicted=[0.17125914 0.6193997 ]\n",
            "Case no.684, Predicted=[0.99937415 0.00648105]\n",
            "Case no.685, Predicted=[0.9965189  0.00241074]\n",
            "Case no.686, Predicted=[0.99962085 0.00252542]\n",
            "Case no.687, Predicted=[0.00593922 0.9788976 ]\n",
            "Case no.688, Predicted=[0.07382125 0.9921584 ]\n",
            "Case no.689, Predicted=[0.98988414 0.00698414]\n",
            "Case no.690, Predicted=[0.01204285 0.99203026]\n",
            "Case no.691, Predicted=[0.99980474 0.00189686]\n",
            "Case no.692, Predicted=[6.9889426e-04 9.8299587e-01]\n",
            "Case no.693, Predicted=[9.995662e-01 7.608235e-04]\n",
            "Case no.694, Predicted=[0.00161824 0.9986888 ]\n",
            "Case no.695, Predicted=[0.00280958 0.9977833 ]\n",
            "Case no.696, Predicted=[9.9977696e-01 2.3832917e-04]\n",
            "Case no.697, Predicted=[0.9976758  0.00830883]\n",
            "Case no.698, Predicted=[0.26696545 0.57173586]\n",
            "Case no.699, Predicted=[0.14191163 0.8574692 ]\n",
            "Case no.700, Predicted=[9.9995923e-01 5.5945107e-05]\n",
            "Case no.701, Predicted=[0.9939872  0.79309356]\n",
            "Case no.702, Predicted=[0.9900255  0.01670611]\n",
            "Case no.703, Predicted=[0.6970672 0.6201758]\n",
            "Case no.704, Predicted=[0.9707916  0.03886935]\n",
            "Case no.705, Predicted=[0.00126249 0.9945886 ]\n",
            "Case no.706, Predicted=[9.9991781e-01 5.2071486e-05]\n",
            "Case no.707, Predicted=[0.38946992 0.8185444 ]\n",
            "Case no.708, Predicted=[0.9976965  0.00412813]\n",
            "Case no.709, Predicted=[0.4205666  0.64281076]\n",
            "Case no.710, Predicted=[0.99870646 0.00195807]\n",
            "Case no.711, Predicted=[0.80875695 0.0844079 ]\n",
            "Case no.712, Predicted=[5.528679e-05 9.999881e-01]\n",
            "Case no.713, Predicted=[9.999474e-01 3.783609e-05]\n",
            "Case no.714, Predicted=[9.9945706e-01 6.4286590e-04]\n",
            "Case no.715, Predicted=[1.13527596e-04 9.99423265e-01]\n",
            "Case no.716, Predicted=[0.2956704 0.9746357]\n",
            "Case no.717, Predicted=[0.00768048 0.9774038 ]\n",
            "Case no.718, Predicted=[0.02211878 0.97460365]\n",
            "Case no.719, Predicted=[9.9990153e-01 2.5367737e-04]\n",
            "Case no.720, Predicted=[9.9998993e-01 3.5879016e-04]\n"
          ]
        }
      ]
    },
    {
      "cell_type": "code",
      "metadata": {
        "id": "9jP9JdGn008V"
      },
      "source": [
        "del result"
      ],
      "execution_count": null,
      "outputs": []
    },
    {
      "cell_type": "code",
      "metadata": {
        "colab": {
          "base_uri": "https://localhost:8080/",
          "height": 205
        },
        "id": "WNYaSNBrWByN",
        "outputId": "4fa26736-d38b-4522-842a-414748581802"
      },
      "source": [
        "result = []\n",
        "for i in range(len(X_val)):\n",
        "  result.append(y_val_pred[i]) # for prob. of prediction outcomes\n",
        "  \n",
        "result = pd.DataFrame(result, columns=['Covid', 'Normal',])\n",
        "result.head()"
      ],
      "execution_count": null,
      "outputs": [
        {
          "output_type": "execute_result",
          "data": {
            "text/html": [
              "<div>\n",
              "<style scoped>\n",
              "    .dataframe tbody tr th:only-of-type {\n",
              "        vertical-align: middle;\n",
              "    }\n",
              "\n",
              "    .dataframe tbody tr th {\n",
              "        vertical-align: top;\n",
              "    }\n",
              "\n",
              "    .dataframe thead th {\n",
              "        text-align: right;\n",
              "    }\n",
              "</style>\n",
              "<table border=\"1\" class=\"dataframe\">\n",
              "  <thead>\n",
              "    <tr style=\"text-align: right;\">\n",
              "      <th></th>\n",
              "      <th>Covid</th>\n",
              "      <th>Normal</th>\n",
              "    </tr>\n",
              "  </thead>\n",
              "  <tbody>\n",
              "    <tr>\n",
              "      <th>0</th>\n",
              "      <td>0.075093</td>\n",
              "      <td>0.968223</td>\n",
              "    </tr>\n",
              "    <tr>\n",
              "      <th>1</th>\n",
              "      <td>0.998150</td>\n",
              "      <td>0.006688</td>\n",
              "    </tr>\n",
              "    <tr>\n",
              "      <th>2</th>\n",
              "      <td>0.028084</td>\n",
              "      <td>0.944985</td>\n",
              "    </tr>\n",
              "    <tr>\n",
              "      <th>3</th>\n",
              "      <td>0.000658</td>\n",
              "      <td>0.999308</td>\n",
              "    </tr>\n",
              "    <tr>\n",
              "      <th>4</th>\n",
              "      <td>0.017140</td>\n",
              "      <td>0.980441</td>\n",
              "    </tr>\n",
              "  </tbody>\n",
              "</table>\n",
              "</div>"
            ],
            "text/plain": [
              "      Covid    Normal\n",
              "0  0.075093  0.968223\n",
              "1  0.998150  0.006688\n",
              "2  0.028084  0.944985\n",
              "3  0.000658  0.999308\n",
              "4  0.017140  0.980441"
            ]
          },
          "metadata": {},
          "execution_count": 41
        }
      ]
    },
    {
      "cell_type": "code",
      "metadata": {
        "colab": {
          "base_uri": "https://localhost:8080/"
        },
        "id": "VHlgdTl2aKxG",
        "outputId": "09af78cc-5b98-4333-9baf-921b013f92ca"
      },
      "source": [
        "y_val = pd.DataFrame(y_val)\n",
        "y_val.shape"
      ],
      "execution_count": null,
      "outputs": [
        {
          "output_type": "execute_result",
          "data": {
            "text/plain": [
              "(720, 2)"
            ]
          },
          "metadata": {},
          "execution_count": 42
        }
      ]
    },
    {
      "cell_type": "code",
      "metadata": {
        "colab": {
          "base_uri": "https://localhost:8080/",
          "height": 286
        },
        "id": "bCaMICuHm5Pz",
        "outputId": "f43e98b4-3574-443a-a773-a024a47e2d15"
      },
      "source": [
        "result2 = pd.concat([result, y_val], axis = 1)"
      ],
      "execution_count": null,
      "outputs": [
        {
          "output_type": "error",
          "ename": "AttributeError",
          "evalue": "ignored",
          "traceback": [
            "\u001b[0;31m---------------------------------------------------------------------------\u001b[0m",
            "\u001b[0;31mAttributeError\u001b[0m                            Traceback (most recent call last)",
            "\u001b[0;32m<ipython-input-45-fbe8474e9aaf>\u001b[0m in \u001b[0;36m<module>\u001b[0;34m()\u001b[0m\n\u001b[0;32m----> 1\u001b[0;31m \u001b[0mresult2\u001b[0m \u001b[0;34m=\u001b[0m \u001b[0mpd\u001b[0m\u001b[0;34m.\u001b[0m\u001b[0mappend\u001b[0m\u001b[0;34m(\u001b[0m\u001b[0;34m[\u001b[0m\u001b[0mresult\u001b[0m\u001b[0;34m,\u001b[0m \u001b[0my_val\u001b[0m\u001b[0;34m]\u001b[0m\u001b[0;34m,\u001b[0m \u001b[0maxis\u001b[0m \u001b[0;34m=\u001b[0m \u001b[0;36m1\u001b[0m\u001b[0;34m)\u001b[0m\u001b[0;34m\u001b[0m\u001b[0;34m\u001b[0m\u001b[0m\n\u001b[0m",
            "\u001b[0;32m/usr/local/lib/python3.7/dist-packages/pandas/__init__.py\u001b[0m in \u001b[0;36m__getattr__\u001b[0;34m(name)\u001b[0m\n\u001b[1;32m    256\u001b[0m             \u001b[0;32mreturn\u001b[0m \u001b[0m_SparseArray\u001b[0m\u001b[0;34m\u001b[0m\u001b[0;34m\u001b[0m\u001b[0m\n\u001b[1;32m    257\u001b[0m \u001b[0;34m\u001b[0m\u001b[0m\n\u001b[0;32m--> 258\u001b[0;31m         \u001b[0;32mraise\u001b[0m \u001b[0mAttributeError\u001b[0m\u001b[0;34m(\u001b[0m\u001b[0;34mf\"module 'pandas' has no attribute '{name}'\"\u001b[0m\u001b[0;34m)\u001b[0m\u001b[0;34m\u001b[0m\u001b[0;34m\u001b[0m\u001b[0m\n\u001b[0m\u001b[1;32m    259\u001b[0m \u001b[0;34m\u001b[0m\u001b[0m\n\u001b[1;32m    260\u001b[0m \u001b[0;34m\u001b[0m\u001b[0m\n",
            "\u001b[0;31mAttributeError\u001b[0m: module 'pandas' has no attribute 'append'"
          ]
        }
      ]
    },
    {
      "cell_type": "code",
      "metadata": {
        "id": "njN5P3bWh6CD"
      },
      "source": [
        "del result2"
      ],
      "execution_count": null,
      "outputs": []
    },
    {
      "cell_type": "code",
      "metadata": {
        "colab": {
          "base_uri": "https://localhost:8080/"
        },
        "id": "KSb-Au5om7_x",
        "outputId": "902dfb7d-1c37-47b2-b1cd-e2ead7c40e46"
      },
      "source": [
        "print(result2)"
      ],
      "execution_count": null,
      "outputs": [
        {
          "output_type": "stream",
          "name": "stdout",
          "text": [
            "         Covid    Normal  COVID  Normal\n",
            "0     0.075093  0.968223    1.0     0.0\n",
            "1     0.998150  0.006688    1.0     0.0\n",
            "2     0.028084  0.944985    NaN     NaN\n",
            "3     0.000658  0.999308    1.0     0.0\n",
            "4     0.017140  0.980441    NaN     NaN\n",
            "...        ...       ...    ...     ...\n",
            "3989       NaN       NaN    0.0     1.0\n",
            "3990       NaN       NaN    0.0     1.0\n",
            "3991       NaN       NaN    0.0     1.0\n",
            "3992       NaN       NaN    0.0     1.0\n",
            "3994       NaN       NaN    0.0     1.0\n",
            "\n",
            "[1299 rows x 4 columns]\n"
          ]
        }
      ]
    },
    {
      "cell_type": "code",
      "metadata": {
        "id": "T975GYTmObOy"
      },
      "source": [
        "# export to excel\n",
        "result_path = '/content/drive/MyDrive/aom_AI/Covid19/results/'\n",
        "result.to_excel(result_path +\"results.xlsx\", index=True)"
      ],
      "execution_count": null,
      "outputs": []
    },
    {
      "cell_type": "code",
      "metadata": {
        "id": "1Lz1MmT_NTPd"
      },
      "source": [
        "class GradCAM:\n",
        "\tdef __init__(self, model, classIdx, layerName=None):\n",
        "\t\t# store the model, the class index used to measure the class\n",
        "\t\t# activation map, and the layer to be used when visualizing\n",
        "\t\t# the class activation map\n",
        "\t\tself.model = model\n",
        "\t\tself.classIdx = classIdx\n",
        "\t\tself.layerName = layerName\n",
        "\t\t# if the layer name is None, attempt to automatically find\n",
        "\t\t# the target output layer\n",
        "\t\tif self.layerName is None:\n",
        "\t\t\tself.layerName = self.find_target_layer()"
      ],
      "execution_count": null,
      "outputs": []
    },
    {
      "cell_type": "code",
      "metadata": {
        "id": "dXMq7gdefTFy",
        "colab": {
          "base_uri": "https://localhost:8080/",
          "height": 246
        },
        "outputId": "fb74c32b-23d1-46c2-a09b-f2db20ae705b"
      },
      "source": [
        "heatmap = GradCAM(new_cxr_pretrained_densenet, y_val_pred[0], layerName=None)"
      ],
      "execution_count": null,
      "outputs": [
        {
          "output_type": "error",
          "ename": "AttributeError",
          "evalue": "ignored",
          "traceback": [
            "\u001b[0;31m---------------------------------------------------------------------------\u001b[0m",
            "\u001b[0;31mAttributeError\u001b[0m                            Traceback (most recent call last)",
            "\u001b[0;32m<ipython-input-58-773534beb46f>\u001b[0m in \u001b[0;36m<module>\u001b[0;34m()\u001b[0m\n\u001b[0;32m----> 1\u001b[0;31m \u001b[0mheatmap\u001b[0m \u001b[0;34m=\u001b[0m \u001b[0mGradCAM\u001b[0m\u001b[0;34m(\u001b[0m\u001b[0mnew_cxr_pretrained_densenet\u001b[0m\u001b[0;34m,\u001b[0m \u001b[0my_val_pred\u001b[0m\u001b[0;34m[\u001b[0m\u001b[0;36m0\u001b[0m\u001b[0;34m]\u001b[0m\u001b[0;34m,\u001b[0m \u001b[0mlayerName\u001b[0m\u001b[0;34m=\u001b[0m\u001b[0;32mNone\u001b[0m\u001b[0;34m)\u001b[0m\u001b[0;34m\u001b[0m\u001b[0;34m\u001b[0m\u001b[0m\n\u001b[0m",
            "\u001b[0;32m<ipython-input-55-91f9f6f87f56>\u001b[0m in \u001b[0;36m__init__\u001b[0;34m(self, model, classIdx, layerName)\u001b[0m\n\u001b[1;32m     10\u001b[0m                 \u001b[0;31m# the target output layer\u001b[0m\u001b[0;34m\u001b[0m\u001b[0;34m\u001b[0m\u001b[0;34m\u001b[0m\u001b[0m\n\u001b[1;32m     11\u001b[0m                 \u001b[0;32mif\u001b[0m \u001b[0mself\u001b[0m\u001b[0;34m.\u001b[0m\u001b[0mlayerName\u001b[0m \u001b[0;32mis\u001b[0m \u001b[0;32mNone\u001b[0m\u001b[0;34m:\u001b[0m\u001b[0;34m\u001b[0m\u001b[0;34m\u001b[0m\u001b[0m\n\u001b[0;32m---> 12\u001b[0;31m                         \u001b[0mself\u001b[0m\u001b[0;34m.\u001b[0m\u001b[0mlayerName\u001b[0m \u001b[0;34m=\u001b[0m \u001b[0mself\u001b[0m\u001b[0;34m.\u001b[0m\u001b[0mfind_target_layer\u001b[0m\u001b[0;34m(\u001b[0m\u001b[0;34m)\u001b[0m\u001b[0;34m\u001b[0m\u001b[0;34m\u001b[0m\u001b[0m\n\u001b[0m",
            "\u001b[0;31mAttributeError\u001b[0m: 'GradCAM' object has no attribute 'find_target_layer'"
          ]
        }
      ]
    },
    {
      "cell_type": "markdown",
      "metadata": {
        "id": "0fSZkLyC13Mc"
      },
      "source": [
        "## ROC curve"
      ]
    },
    {
      "cell_type": "code",
      "metadata": {
        "colab": {
          "base_uri": "https://localhost:8080/",
          "height": 431
        },
        "id": "wSpwhgdS4SEa",
        "outputId": "ffd74891-54a8-4594-9724-ea35c1dc45d1"
      },
      "source": [
        "from sklearn.metrics import roc_curve, auc\n",
        "\n",
        "nn_fpr_keras, nn_tpr_keras, nn_thresholds_keras = roc_curve(y_test,\\\n",
        "                                                            y_test_pred_new)\n",
        "auc_keras = auc(nn_fpr_keras,\\\n",
        "                nn_tpr_keras)\n",
        "plt.plot(nn_fpr_keras,\\\n",
        "         nn_tpr_keras,\\\n",
        "         marker='.',\\\n",
        "         label='Neural Network (auc = %0.3f)' % auc_keras)\n",
        "\n"
      ],
      "execution_count": null,
      "outputs": [
        {
          "output_type": "error",
          "ename": "ValueError",
          "evalue": "ignored",
          "traceback": [
            "\u001b[0;31m---------------------------------------------------------------------------\u001b[0m",
            "\u001b[0;31mValueError\u001b[0m                                Traceback (most recent call last)",
            "\u001b[0;32m<ipython-input-54-b6b213e871a2>\u001b[0m in \u001b[0;36m<module>\u001b[0;34m()\u001b[0m\n\u001b[1;32m      1\u001b[0m \u001b[0;32mfrom\u001b[0m \u001b[0msklearn\u001b[0m\u001b[0;34m.\u001b[0m\u001b[0mmetrics\u001b[0m \u001b[0;32mimport\u001b[0m \u001b[0mroc_curve\u001b[0m\u001b[0;34m,\u001b[0m \u001b[0mauc\u001b[0m\u001b[0;34m\u001b[0m\u001b[0;34m\u001b[0m\u001b[0m\n\u001b[1;32m      2\u001b[0m \u001b[0;34m\u001b[0m\u001b[0m\n\u001b[0;32m----> 3\u001b[0;31m \u001b[0mnn_fpr_keras\u001b[0m\u001b[0;34m,\u001b[0m \u001b[0mnn_tpr_keras\u001b[0m\u001b[0;34m,\u001b[0m \u001b[0mnn_thresholds_keras\u001b[0m \u001b[0;34m=\u001b[0m \u001b[0mroc_curve\u001b[0m\u001b[0;34m(\u001b[0m\u001b[0my_test\u001b[0m\u001b[0;34m,\u001b[0m                                                            \u001b[0my_test_pred_new\u001b[0m\u001b[0;34m)\u001b[0m\u001b[0;34m\u001b[0m\u001b[0;34m\u001b[0m\u001b[0m\n\u001b[0m\u001b[1;32m      4\u001b[0m \u001b[0mauc_keras\u001b[0m \u001b[0;34m=\u001b[0m \u001b[0mauc\u001b[0m\u001b[0;34m(\u001b[0m\u001b[0mnn_fpr_keras\u001b[0m\u001b[0;34m,\u001b[0m                \u001b[0mnn_tpr_keras\u001b[0m\u001b[0;34m)\u001b[0m\u001b[0;34m\u001b[0m\u001b[0;34m\u001b[0m\u001b[0m\n\u001b[1;32m      5\u001b[0m \u001b[0mplt\u001b[0m\u001b[0;34m.\u001b[0m\u001b[0mplot\u001b[0m\u001b[0;34m(\u001b[0m\u001b[0mnn_fpr_keras\u001b[0m\u001b[0;34m,\u001b[0m         \u001b[0mnn_tpr_keras\u001b[0m\u001b[0;34m,\u001b[0m         \u001b[0mmarker\u001b[0m\u001b[0;34m=\u001b[0m\u001b[0;34m'.'\u001b[0m\u001b[0;34m,\u001b[0m         \u001b[0mlabel\u001b[0m\u001b[0;34m=\u001b[0m\u001b[0;34m'Neural Network (auc = %0.3f)'\u001b[0m \u001b[0;34m%\u001b[0m \u001b[0mauc_keras\u001b[0m\u001b[0;34m)\u001b[0m\u001b[0;34m\u001b[0m\u001b[0;34m\u001b[0m\u001b[0m\n",
            "\u001b[0;32m/usr/local/lib/python3.7/dist-packages/sklearn/metrics/_ranking.py\u001b[0m in \u001b[0;36mroc_curve\u001b[0;34m(y_true, y_score, pos_label, sample_weight, drop_intermediate)\u001b[0m\n\u001b[1;32m    769\u001b[0m     \"\"\"\n\u001b[1;32m    770\u001b[0m     fps, tps, thresholds = _binary_clf_curve(\n\u001b[0;32m--> 771\u001b[0;31m         y_true, y_score, pos_label=pos_label, sample_weight=sample_weight)\n\u001b[0m\u001b[1;32m    772\u001b[0m \u001b[0;34m\u001b[0m\u001b[0m\n\u001b[1;32m    773\u001b[0m     \u001b[0;31m# Attempt to drop thresholds corresponding to points in between and\u001b[0m\u001b[0;34m\u001b[0m\u001b[0;34m\u001b[0m\u001b[0;34m\u001b[0m\u001b[0m\n",
            "\u001b[0;32m/usr/local/lib/python3.7/dist-packages/sklearn/metrics/_ranking.py\u001b[0m in \u001b[0;36m_binary_clf_curve\u001b[0;34m(y_true, y_score, pos_label, sample_weight)\u001b[0m\n\u001b[1;32m    534\u001b[0m     if not (y_type == \"binary\" or\n\u001b[1;32m    535\u001b[0m             (y_type == \"multiclass\" and pos_label is not None)):\n\u001b[0;32m--> 536\u001b[0;31m         \u001b[0;32mraise\u001b[0m \u001b[0mValueError\u001b[0m\u001b[0;34m(\u001b[0m\u001b[0;34m\"{0} format is not supported\"\u001b[0m\u001b[0;34m.\u001b[0m\u001b[0mformat\u001b[0m\u001b[0;34m(\u001b[0m\u001b[0my_type\u001b[0m\u001b[0;34m)\u001b[0m\u001b[0;34m)\u001b[0m\u001b[0;34m\u001b[0m\u001b[0;34m\u001b[0m\u001b[0m\n\u001b[0m\u001b[1;32m    537\u001b[0m \u001b[0;34m\u001b[0m\u001b[0m\n\u001b[1;32m    538\u001b[0m     \u001b[0mcheck_consistent_length\u001b[0m\u001b[0;34m(\u001b[0m\u001b[0my_true\u001b[0m\u001b[0;34m,\u001b[0m \u001b[0my_score\u001b[0m\u001b[0;34m,\u001b[0m \u001b[0msample_weight\u001b[0m\u001b[0;34m)\u001b[0m\u001b[0;34m\u001b[0m\u001b[0;34m\u001b[0m\u001b[0m\n",
            "\u001b[0;31mValueError\u001b[0m: multilabel-indicator format is not supported"
          ]
        }
      ]
    },
    {
      "cell_type": "markdown",
      "metadata": {
        "id": "pyZpxpgR5EWf"
      },
      "source": [
        "## Visualizing learning with GradCam"
      ]
    },
    {
      "cell_type": "code",
      "metadata": {
        "colab": {
          "base_uri": "https://localhost:8080/"
        },
        "id": "SSB2FsZVCddo",
        "outputId": "50de5b59-2a91-4dc4-d084-1ea7290c17a2"
      },
      "source": [
        "!pip3 install utils"
      ],
      "execution_count": null,
      "outputs": [
        {
          "output_type": "stream",
          "name": "stdout",
          "text": [
            "Collecting utils\n",
            "  Downloading utils-1.0.1-py2.py3-none-any.whl (21 kB)\n",
            "Installing collected packages: utils\n",
            "Successfully installed utils-1.0.1\n"
          ]
        }
      ]
    },
    {
      "cell_type": "code",
      "metadata": {
        "id": "vswCLSI_12D-"
      },
      "source": [
        "#df = pd.read_csv(\"nih/train-small.csv\")\n",
        "#IMAGE_DIR = \"nih/images-small/\"\n",
        "labels = ['Covid', 'Normal']\n",
        "\n",
        "# only show the lables with top 4 AUC\n",
        "#labels_to_show = np.take(labels, np.argsort(auc_rocs)[::-1])[:4]"
      ],
      "execution_count": null,
      "outputs": []
    },
    {
      "cell_type": "code",
      "metadata": {
        "colab": {
          "base_uri": "https://localhost:8080/",
          "height": 200
        },
        "id": "2CcFD69W5UdK",
        "outputId": "52a08615-9bc4-4dd3-c00b-237dbb843c3c"
      },
      "source": [
        "from utils import *\n",
        "import utils\n",
        "utils.compute_gradcam(new_cxr_pretrained_densenet, X_test[0], labels)"
      ],
      "execution_count": null,
      "outputs": [
        {
          "output_type": "error",
          "ename": "AttributeError",
          "evalue": "ignored",
          "traceback": [
            "\u001b[0;31m---------------------------------------------------------------------------\u001b[0m",
            "\u001b[0;31mAttributeError\u001b[0m                            Traceback (most recent call last)",
            "\u001b[0;32m<ipython-input-88-6cefbf1bf044>\u001b[0m in \u001b[0;36m<module>\u001b[0;34m()\u001b[0m\n\u001b[1;32m      1\u001b[0m \u001b[0;32mfrom\u001b[0m \u001b[0mutils\u001b[0m \u001b[0;32mimport\u001b[0m \u001b[0;34m*\u001b[0m\u001b[0;34m\u001b[0m\u001b[0;34m\u001b[0m\u001b[0m\n\u001b[1;32m      2\u001b[0m \u001b[0;32mimport\u001b[0m \u001b[0mutils\u001b[0m\u001b[0;34m\u001b[0m\u001b[0;34m\u001b[0m\u001b[0m\n\u001b[0;32m----> 3\u001b[0;31m \u001b[0mutils\u001b[0m\u001b[0;34m.\u001b[0m\u001b[0mcompute_gradcam\u001b[0m\u001b[0;34m(\u001b[0m\u001b[0mnew_cxr_pretrained_densenet\u001b[0m\u001b[0;34m,\u001b[0m \u001b[0mX_test\u001b[0m\u001b[0;34m[\u001b[0m\u001b[0;36m0\u001b[0m\u001b[0;34m]\u001b[0m\u001b[0;34m,\u001b[0m \u001b[0mlabels\u001b[0m\u001b[0;34m)\u001b[0m\u001b[0;34m\u001b[0m\u001b[0;34m\u001b[0m\u001b[0m\n\u001b[0m",
            "\u001b[0;31mAttributeError\u001b[0m: module 'utils' has no attribute 'compute_gradcam'"
          ]
        }
      ]
    },
    {
      "cell_type": "code",
      "metadata": {
        "id": "obyq8tty5ZNU"
      },
      "source": [
        "util.compute_gradcam(model, '00011355_002.png', IMAGE_DIR, df, labels)"
      ],
      "execution_count": null,
      "outputs": []
    },
    {
      "cell_type": "markdown",
      "metadata": {
        "id": "1hTYzGnOC8Cz"
      },
      "source": [
        ""
      ]
    }
  ]
}