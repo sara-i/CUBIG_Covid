{
  "nbformat": 4,
  "nbformat_minor": 0,
  "metadata": {
    "colab": {
      "name": "Covid19_2021_training.ipynb",
      "provenance": [],
      "collapsed_sections": [],
      "authorship_tag": "ABX9TyMAe5X4UrylppuCL1+oBHmS",
      "include_colab_link": true
    },
    "kernelspec": {
      "name": "python3",
      "display_name": "Python 3"
    },
    "language_info": {
      "name": "python"
    },
    "accelerator": "GPU"
  },
  "cells": [
    {
      "cell_type": "markdown",
      "metadata": {
        "id": "view-in-github",
        "colab_type": "text"
      },
      "source": [
        "<a href=\"https://colab.research.google.com/github/sara-i/CUBIG_Covid/blob/main/Covid19_2021_training.ipynb\" target=\"_parent\"><img src=\"https://colab.research.google.com/assets/colab-badge.svg\" alt=\"Open In Colab\"/></a>"
      ]
    },
    {
      "cell_type": "markdown",
      "metadata": {
        "id": "MUy26aqokW3M"
      },
      "source": [
        "# **Chest X-Ray Medical Diagnosis with Deep Learning**"
      ]
    },
    {
      "cell_type": "markdown",
      "metadata": {
        "id": "2A4NymQx3-zE"
      },
      "source": [
        "## **KAGGLE DATASET:**\n",
        "## COVID-19 Radiography Database [Click here](https://www.kaggle.com/tawsifurrahman/covid19-radiography-database)\n",
        "### (This dataset is used for model training)\n",
        "---\n",
        "\n",
        "- Ref for prob. prediction [Click here](https://machinelearningmastery.com/how-to-make-classification-and-regression-predictions-for-deep-learning-models-in-keras/)\n",
        "\n",
        "\n",
        "---\n",
        "\n"
      ]
    },
    {
      "cell_type": "markdown",
      "metadata": {
        "id": "JEGwaBkIkkbn"
      },
      "source": [
        "## **1. import packages and functions**"
      ]
    },
    {
      "cell_type": "code",
      "metadata": {
        "id": "OHnfIY_JM0mm"
      },
      "source": [
        "#Data preprocessing\n",
        "import numpy as np\n",
        "import pandas as pd \n",
        "import h5py\n",
        "import seaborn as sns\n",
        "import matplotlib.pyplot as plt\n",
        "import matplotlib.image as mpimg\n",
        "from matplotlib.offsetbox import OffsetImage, AnnotationBbox\n",
        "from glob import glob\n",
        "from tqdm import tqdm\n",
        "from PIL import Image\n",
        "import os, random, cv2\n",
        "from os import listdir\n",
        "from IPython.display import display_html\n",
        "\n",
        "from keras.models import *\n",
        "from keras.layers import *\n",
        "from keras.optimizers import *\n",
        "from keras import backend as keras\n",
        "from keras.preprocessing.image import ImageDataGenerator\n",
        "from keras.callbacks import ModelCheckpoint, LearningRateScheduler\n",
        "\n",
        "from sklearn.preprocessing import OneHotEncoder\n",
        "from sklearn.model_selection import train_test_split\n",
        "from sklearn.metrics import accuracy_score, confusion_matrix, classification_report\n",
        "\n",
        "from tensorflow.keras.applications import DenseNet121\n",
        "from tensorflow.keras.models import Model, Sequential\n",
        "from tensorflow.keras.layers import Dense, InputLayer, Conv2D, MaxPool2D, Activation, Flatten, GlobalAveragePooling2D\n",
        "\n",
        "from tensorflow.keras.optimizers import Adam\n",
        "from tensorflow.keras.callbacks import TensorBoard, ModelCheckpoint, ReduceLROnPlateau\n",
        "\n",
        "import tensorflow as tf\n",
        "import tensorflow.keras.layers as layers\n",
        "\n",
        "class color:\n",
        "    BOLD = '\\033[1m' + '\\033[94m'\n",
        "    END = '\\033[0m'"
      ],
      "execution_count": null,
      "outputs": []
    },
    {
      "cell_type": "markdown",
      "metadata": {
        "id": "m2qmIgwDH4jN"
      },
      "source": [
        "## **2. Mount this colab sheet with google drive (to import image and export some training weight)**\n",
        "1. mount drive\n",
        "2. display file name of covid dataset in our drive\n",
        "3. unzip dataset\n",
        "4. display all file that contain in zipfile\n",
        "5. check some file name"
      ]
    },
    {
      "cell_type": "code",
      "metadata": {
        "colab": {
          "base_uri": "https://localhost:8080/"
        },
        "id": "5-J9mDWR47VT",
        "outputId": "6ff0542c-70df-4135-a976-d43498ab8524"
      },
      "source": [
        "from google.colab import drive\n",
        "drive.mount('/content/drive')"
      ],
      "execution_count": null,
      "outputs": [
        {
          "output_type": "stream",
          "name": "stdout",
          "text": [
            "Mounted at /content/drive\n"
          ]
        }
      ]
    },
    {
      "cell_type": "code",
      "metadata": {
        "colab": {
          "base_uri": "https://localhost:8080/"
        },
        "id": "8yUk4D9HMNeX",
        "outputId": "213c7e6b-3d04-41ea-fd8e-07a2ca889612"
      },
      "source": [
        "listdir('/content/drive/MyDrive/aom_AI/Covid19')"
      ],
      "execution_count": null,
      "outputs": [
        {
          "output_type": "execute_result",
          "data": {
            "text/plain": [
              "['COVID-19_Radiography_Database.zip',\n",
              " 'COVID19_pretrained_densenet121.ckpt',\n",
              " 'my_model_densenet_weights.h5',\n",
              " 'COVID19_pretrained_new_densenet121.ckpt',\n",
              " 'my_model_densenet_weights_tuning.h5']"
            ]
          },
          "metadata": {},
          "execution_count": 4
        }
      ]
    },
    {
      "cell_type": "code",
      "metadata": {
        "id": "NI8pFG4MMvUM"
      },
      "source": [
        "!unzip -q '/content/drive/MyDrive/aom_AI/Covid19/COVID-19_Radiography_Database.zip'"
      ],
      "execution_count": null,
      "outputs": []
    },
    {
      "cell_type": "code",
      "metadata": {
        "colab": {
          "base_uri": "https://localhost:8080/"
        },
        "id": "hwL4soRhM_wB",
        "outputId": "daf82c34-d5b9-4006-afc4-a348ecaea767"
      },
      "source": [
        "listdir('COVID-19_Radiography_Dataset/')"
      ],
      "execution_count": null,
      "outputs": [
        {
          "output_type": "execute_result",
          "data": {
            "text/plain": [
              "['Viral Pneumonia.metadata.xlsx',\n",
              " 'Viral Pneumonia',\n",
              " 'COVID.metadata.xlsx',\n",
              " 'Normal',\n",
              " 'Lung_Opacity.metadata.xlsx',\n",
              " 'Lung_Opacity',\n",
              " 'COVID',\n",
              " 'README.md.txt',\n",
              " 'Normal.metadata.xlsx']"
            ]
          },
          "metadata": {},
          "execution_count": 4
        }
      ]
    },
    {
      "cell_type": "code",
      "metadata": {
        "colab": {
          "base_uri": "https://localhost:8080/",
          "height": 267
        },
        "id": "WbNvC9bQpoBF",
        "outputId": "1577aedc-fde7-4e3e-e2d9-b8f39a9594f2"
      },
      "source": [
        "# Read in metadata\n",
        "Normal_excel = pd.read_excel(\"COVID-19_Radiography_Dataset/Normal.metadata.xlsx\")\n",
        "Covid_excel = pd.read_excel(\"COVID-19_Radiography_Dataset/COVID.metadata.xlsx\")\n",
        "\n",
        "print(color.BOLD + \"Normal case Shape:\" + color.END, Normal_excel.shape, \"\\n\" +\n",
        "      color.BOLD + \"Covid case Shape:\" + color.END, Covid_excel.shape, \"\\n\")\n",
        "\n",
        "# Head of our 2 training metadata\n",
        "df1_styler = Normal_excel.head(3).style.set_table_attributes(\"style='display:inline'\").\\\n",
        "                                set_caption('NORMAL CASE')\n",
        "df2_styler = Covid_excel.head(3).style.set_table_attributes(\"style='display:inline'\").\\\n",
        "                                set_caption('COVID CASE')\n",
        "\n",
        "display_html(df1_styler._repr_html_(), raw=True) \n",
        "display_html(df2_styler._repr_html_(), raw=True)"
      ],
      "execution_count": null,
      "outputs": [
        {
          "output_type": "stream",
          "name": "stdout",
          "text": [
            "\u001b[1m\u001b[94mNormal case Shape:\u001b[0m (10192, 4) \n",
            "\u001b[1m\u001b[94mCovid case Shape:\u001b[0m (3616, 4) \n",
            "\n"
          ]
        },
        {
          "output_type": "display_data",
          "data": {
            "text/html": [
              "<style  type=\"text/css\" >\n",
              "</style><table id=\"T_558a778a_1f3e_11ec_ace1_0242ac1c0002\" style='display:inline'><caption>NORMAL CASE</caption><thead>    <tr>        <th class=\"blank level0\" ></th>        <th class=\"col_heading level0 col0\" >FILE NAME</th>        <th class=\"col_heading level0 col1\" >FORMAT</th>        <th class=\"col_heading level0 col2\" >SIZE</th>        <th class=\"col_heading level0 col3\" >URL</th>    </tr></thead><tbody>\n",
              "                <tr>\n",
              "                        <th id=\"T_558a778a_1f3e_11ec_ace1_0242ac1c0002level0_row0\" class=\"row_heading level0 row0\" >0</th>\n",
              "                        <td id=\"T_558a778a_1f3e_11ec_ace1_0242ac1c0002row0_col0\" class=\"data row0 col0\" >NORMAL-1</td>\n",
              "                        <td id=\"T_558a778a_1f3e_11ec_ace1_0242ac1c0002row0_col1\" class=\"data row0 col1\" >PNG</td>\n",
              "                        <td id=\"T_558a778a_1f3e_11ec_ace1_0242ac1c0002row0_col2\" class=\"data row0 col2\" >256*256</td>\n",
              "                        <td id=\"T_558a778a_1f3e_11ec_ace1_0242ac1c0002row0_col3\" class=\"data row0 col3\" >https://www.kaggle.com/c/rsna-pneumonia-detection-challenge/data</td>\n",
              "            </tr>\n",
              "            <tr>\n",
              "                        <th id=\"T_558a778a_1f3e_11ec_ace1_0242ac1c0002level0_row1\" class=\"row_heading level0 row1\" >1</th>\n",
              "                        <td id=\"T_558a778a_1f3e_11ec_ace1_0242ac1c0002row1_col0\" class=\"data row1 col0\" >NORMAL-2</td>\n",
              "                        <td id=\"T_558a778a_1f3e_11ec_ace1_0242ac1c0002row1_col1\" class=\"data row1 col1\" >PNG</td>\n",
              "                        <td id=\"T_558a778a_1f3e_11ec_ace1_0242ac1c0002row1_col2\" class=\"data row1 col2\" >256*256</td>\n",
              "                        <td id=\"T_558a778a_1f3e_11ec_ace1_0242ac1c0002row1_col3\" class=\"data row1 col3\" >https://www.kaggle.com/c/rsna-pneumonia-detection-challenge/data</td>\n",
              "            </tr>\n",
              "            <tr>\n",
              "                        <th id=\"T_558a778a_1f3e_11ec_ace1_0242ac1c0002level0_row2\" class=\"row_heading level0 row2\" >2</th>\n",
              "                        <td id=\"T_558a778a_1f3e_11ec_ace1_0242ac1c0002row2_col0\" class=\"data row2 col0\" >NORMAL-3</td>\n",
              "                        <td id=\"T_558a778a_1f3e_11ec_ace1_0242ac1c0002row2_col1\" class=\"data row2 col1\" >PNG</td>\n",
              "                        <td id=\"T_558a778a_1f3e_11ec_ace1_0242ac1c0002row2_col2\" class=\"data row2 col2\" >256*256</td>\n",
              "                        <td id=\"T_558a778a_1f3e_11ec_ace1_0242ac1c0002row2_col3\" class=\"data row2 col3\" >https://www.kaggle.com/c/rsna-pneumonia-detection-challenge/data</td>\n",
              "            </tr>\n",
              "    </tbody></table>"
            ]
          },
          "metadata": {}
        },
        {
          "output_type": "display_data",
          "data": {
            "text/html": [
              "<style  type=\"text/css\" >\n",
              "</style><table id=\"T_558c4b64_1f3e_11ec_ace1_0242ac1c0002\" style='display:inline'><caption>COVID CASE</caption><thead>    <tr>        <th class=\"blank level0\" ></th>        <th class=\"col_heading level0 col0\" >FILE NAME</th>        <th class=\"col_heading level0 col1\" >FORMAT</th>        <th class=\"col_heading level0 col2\" >SIZE</th>        <th class=\"col_heading level0 col3\" >URL</th>    </tr></thead><tbody>\n",
              "                <tr>\n",
              "                        <th id=\"T_558c4b64_1f3e_11ec_ace1_0242ac1c0002level0_row0\" class=\"row_heading level0 row0\" >0</th>\n",
              "                        <td id=\"T_558c4b64_1f3e_11ec_ace1_0242ac1c0002row0_col0\" class=\"data row0 col0\" >COVID-1</td>\n",
              "                        <td id=\"T_558c4b64_1f3e_11ec_ace1_0242ac1c0002row0_col1\" class=\"data row0 col1\" >PNG</td>\n",
              "                        <td id=\"T_558c4b64_1f3e_11ec_ace1_0242ac1c0002row0_col2\" class=\"data row0 col2\" >256*256</td>\n",
              "                        <td id=\"T_558c4b64_1f3e_11ec_ace1_0242ac1c0002row0_col3\" class=\"data row0 col3\" >https://sirm.org/category/senza-categoria/covid-19/</td>\n",
              "            </tr>\n",
              "            <tr>\n",
              "                        <th id=\"T_558c4b64_1f3e_11ec_ace1_0242ac1c0002level0_row1\" class=\"row_heading level0 row1\" >1</th>\n",
              "                        <td id=\"T_558c4b64_1f3e_11ec_ace1_0242ac1c0002row1_col0\" class=\"data row1 col0\" >COVID-2</td>\n",
              "                        <td id=\"T_558c4b64_1f3e_11ec_ace1_0242ac1c0002row1_col1\" class=\"data row1 col1\" >PNG</td>\n",
              "                        <td id=\"T_558c4b64_1f3e_11ec_ace1_0242ac1c0002row1_col2\" class=\"data row1 col2\" >256*256</td>\n",
              "                        <td id=\"T_558c4b64_1f3e_11ec_ace1_0242ac1c0002row1_col3\" class=\"data row1 col3\" >https://sirm.org/category/senza-categoria/covid-19/</td>\n",
              "            </tr>\n",
              "            <tr>\n",
              "                        <th id=\"T_558c4b64_1f3e_11ec_ace1_0242ac1c0002level0_row2\" class=\"row_heading level0 row2\" >2</th>\n",
              "                        <td id=\"T_558c4b64_1f3e_11ec_ace1_0242ac1c0002row2_col0\" class=\"data row2 col0\" >COVID-3</td>\n",
              "                        <td id=\"T_558c4b64_1f3e_11ec_ace1_0242ac1c0002row2_col1\" class=\"data row2 col1\" >PNG</td>\n",
              "                        <td id=\"T_558c4b64_1f3e_11ec_ace1_0242ac1c0002row2_col2\" class=\"data row2 col2\" >256*256</td>\n",
              "                        <td id=\"T_558c4b64_1f3e_11ec_ace1_0242ac1c0002row2_col3\" class=\"data row2 col3\" >https://sirm.org/category/senza-categoria/covid-19/</td>\n",
              "            </tr>\n",
              "    </tbody></table>"
            ]
          },
          "metadata": {}
        }
      ]
    },
    {
      "cell_type": "markdown",
      "metadata": {
        "id": "97QkkanpNkRZ"
      },
      "source": [
        "#### We will use DIR \"Normal\" and \"COVID\" ที่มี file .png อยู่ด้านใน และใช้ truth จาก file name\n",
        "\n",
        "\n",
        "---\n"
      ]
    },
    {
      "cell_type": "markdown",
      "metadata": {
        "id": "WhSKxHT6I-yv"
      },
      "source": [
        "## **3. Data preparation**\n",
        "\n",
        "1. create path name, normal case and COVID case\n",
        "2. display some image from pathname that we created\n",
        "3. create label (truth) from directory name"
      ]
    },
    {
      "cell_type": "markdown",
      "metadata": {
        "id": "Om_zoXzIkBoJ"
      },
      "source": [
        "### **3.1 Create image path**"
      ]
    },
    {
      "cell_type": "code",
      "metadata": {
        "id": "3eeePS2INYZV"
      },
      "source": [
        "NormalPaths = []\n",
        "for dirname, _, filenames in os.walk('COVID-19_Radiography_Dataset/Normal/'):\n",
        "    for filename in filenames:\n",
        "        if (filename[:6] == 'Normal'):  #ถ้าในfile นั้นๆ ขึ้นต้นด้วย Normal ให้ save path ไว้ใน \"NormalPaths\"\n",
        "            NormalPaths.append(os.path.join(dirname, filename))\n",
        "\n",
        "COVIDPaths = []\n",
        "for dirname, _, filenames in os.walk('COVID-19_Radiography_Dataset/COVID/'):\n",
        "    for filename in filenames:\n",
        "        if (filename[:5] == 'COVID'):  #ถ้าในfile นั้นๆ ขึ้นต้นด้วย COVID ให้ save path ไว้ใน \"COVIDPaths\"\n",
        "            COVIDPaths.append(os.path.join(dirname, filename))\n",
        "\n",
        "#Concat NormalPaths and COVIDPaths\n",
        "all_ImagePath = NormalPaths + COVIDPaths"
      ],
      "execution_count": null,
      "outputs": []
    },
    {
      "cell_type": "code",
      "metadata": {
        "colab": {
          "base_uri": "https://localhost:8080/",
          "height": 419
        },
        "id": "XLbgKNxKyGk8",
        "outputId": "57da0dab-872a-48cf-f318-20859573568f"
      },
      "source": [
        "#Number of CXR item and image path\n",
        "print(color.BOLD + \"NomalPath: {} items // \".\\\n",
        "            format(len(NormalPaths)) + color.END + NormalPaths[0],\\\n",
        "\"\\n\" + color.BOLD + \"COVIDPath: {} items // \".\\\n",
        "            format(len(COVIDPaths)) + color.END + COVIDPaths[0],\n",
        "\"\\n\" + color.BOLD + \"all_ImagePath: {} items // \".\\\n",
        "            format(len(all_ImagePath)) + color.END + all_ImagePath[0],\n",
        "\"\\n\")\n",
        "\n",
        "#display some image\n",
        "normal_image = cv2.imread(NormalPaths[0]) #ยกตัวอย่าง case ที่ 1 ใน Normal file\n",
        "covid_image = cv2.imread(COVIDPaths[0]) #ยกตัวอย่าง case ที่ 1 ใน COVID file\n",
        "\n",
        "plt.figure(figsize = (10,5))\n",
        "plt.subplot(1, 2, 1); plt.imshow(normal_image), plt.title(\"Normal case\")\n",
        "plt.subplot(1, 2, 2); plt.imshow(covid_image), plt.title(\"COVID case\")\n",
        "plt.show()\n",
        "\n",
        "print(color.BOLD + \"Image shape of normal case = \" + color.END, normal_image.shape,\\\n",
        "\"\\n\" + color.BOLD + \"Image shape of Covid case = \" + color.END, covid_image.shape)"
      ],
      "execution_count": null,
      "outputs": [
        {
          "output_type": "stream",
          "name": "stdout",
          "text": [
            "\u001b[1m\u001b[94mNomalPath: 10192 items // \u001b[0mCOVID-19_Radiography_Dataset/Normal/Normal-9384.png \n",
            "\u001b[1m\u001b[94mCOVIDPath: 3616 items // \u001b[0mCOVID-19_Radiography_Dataset/COVID/COVID-2072.png \n",
            "\u001b[1m\u001b[94mall_ImagePath: 13808 items // \u001b[0mCOVID-19_Radiography_Dataset/Normal/Normal-9384.png \n",
            "\n"
          ]
        },
        {
          "output_type": "display_data",
          "data": {
            "image/png": "[encoded data removed]",
            "text/plain": [
              "<Figure size 720x360 with 2 Axes>"
            ]
          },
          "metadata": {
            "needs_background": "light"
          }
        },
        {
          "output_type": "stream",
          "name": "stdout",
          "text": [
            "\u001b[1m\u001b[94mImage shape of normal case = \u001b[0m (299, 299, 3) \n",
            "\u001b[1m\u001b[94mImage shape of Covid case = \u001b[0m (299, 299, 3)\n"
          ]
        }
      ]
    },
    {
      "cell_type": "markdown",
      "metadata": {
        "id": "6nHlsizKX5UY"
      },
      "source": [
        "\n",
        "---\n",
        "\n",
        "## **/// Initial training (Create only 2000 cases per class) ///**\n",
        "\n"
      ]
    },
    {
      "cell_type": "code",
      "metadata": {
        "id": "e3MT8KmlX4IO"
      },
      "source": [
        "#Keep only 2000 of normal case and 2000 of Covid case.\n",
        "#For X (image)\n",
        "COVIDPaths_2000 = COVIDPaths[:2000]\n",
        "NormalPaths_2000 = NormalPaths[:2000]\n",
        "all_ImagePath_2000 = COVIDPaths_2000 + NormalPaths_2000"
      ],
      "execution_count": null,
      "outputs": []
    },
    {
      "cell_type": "code",
      "metadata": {
        "id": "VP_mNMF1f5m2"
      },
      "source": [
        "del COVIDPaths, NormalPaths, all_ImagePath"
      ],
      "execution_count": null,
      "outputs": []
    },
    {
      "cell_type": "markdown",
      "metadata": {
        "id": "hA2S0RZsYCsQ"
      },
      "source": [
        "## **/// Delete above when run all dataset ///**\n",
        "\n",
        "### **(อย่าลืมเปลี่ยน all_ImagePath_2000 >> all_ImagePath)**\n",
        "\n",
        "\n",
        "---\n",
        "\n"
      ]
    },
    {
      "cell_type": "markdown",
      "metadata": {
        "id": "CiGBdr4q1898"
      },
      "source": [
        "## Write image ให้น้อง + ต่อไปถ้าจะ training dataset น้องให้ใช้อันนี้\n",
        "\n",
        "\n",
        "\n",
        "```\n",
        "DIR_FOR_SEG = '/content/drive/MyDrive/aom_AI/Covid19/Dataset_for_segmentation/'\n",
        "```\n",
        "\n"
      ]
    },
    {
      "cell_type": "code",
      "metadata": {
        "colab": {
          "base_uri": "https://localhost:8080/",
          "height": 35
        },
        "id": "xOfHUrET6mv5",
        "outputId": "7ff37df7-ec37-4d3c-bc6e-8cea407a4faa"
      },
      "source": [
        "all_ImagePath_2000[0]"
      ],
      "execution_count": null,
      "outputs": [
        {
          "output_type": "execute_result",
          "data": {
            "application/vnd.google.colaboratory.intrinsic+json": {
              "type": "string"
            },
            "text/plain": [
              "'COVID-19_Radiography_Dataset/COVID/COVID-2072.png'"
            ]
          },
          "metadata": {},
          "execution_count": 10
        }
      ]
    },
    {
      "cell_type": "code",
      "metadata": {
        "id": "MkreW3V817ak"
      },
      "source": [
        "DIR_FOR_SEG = '/content/drive/MyDrive/aom_AI/Covid19/Dataset_for_segmentation/'\n",
        "\n",
        "for i in all_ImagePath_2000: #\n",
        "    img = cv2.imread(i)\n",
        "    write = cv2.imwrite(DIR_FOR_SEG + i.split(os.path.sep)[-1], img)"
      ],
      "execution_count": null,
      "outputs": []
    },
    {
      "cell_type": "markdown",
      "metadata": {
        "id": "khBgvYzBkHBL"
      },
      "source": [
        "### **3.2 Create label**"
      ]
    },
    {
      "cell_type": "code",
      "metadata": {
        "id": "Zjvhdk4a-PhA"
      },
      "source": [
        "X = [] #create image dataset that contain both normal and COVID\n",
        "y = [] #create label in each case\n",
        "\n",
        "for i in all_ImagePath_2000: #\n",
        "    #split path แยกระหว่าง file dir กับ file name ออกจากกัน (-1)คือตำแหน่งชื่อ file Normal/COVID-xxx.png\n",
        "    label = i.split(os.path.sep)[-1].split('-')[0] \n",
        "    img = cv2.imread(i)\n",
        "    img = tf.image.resize(img, (224, 224))\n",
        "    #put label and image into X and y list\n",
        "    X.append(img)\n",
        "    y.append(label)\n",
        "\n",
        "X = np.array(X)\n",
        "y = np.array(y)"
      ],
      "execution_count": null,
      "outputs": []
    },
    {
      "cell_type": "code",
      "metadata": {
        "colab": {
          "base_uri": "https://localhost:8080/"
        },
        "id": "lFXDK0pnrMcM",
        "outputId": "2fe988cd-294e-4f35-d41a-db646819f9d0"
      },
      "source": [
        "import collections\n",
        "counter=collections.Counter(y)\n",
        "print(dict(counter))"
      ],
      "execution_count": null,
      "outputs": [
        {
          "output_type": "stream",
          "name": "stdout",
          "text": [
            "{'COVID': 2000, 'Normal': 2000}\n"
          ]
        }
      ]
    },
    {
      "cell_type": "code",
      "metadata": {
        "id": "z-yayr59xqka"
      },
      "source": [
        "pd.DataFrame(y)\n",
        "y = pd.get_dummies(y)"
      ],
      "execution_count": null,
      "outputs": []
    },
    {
      "cell_type": "code",
      "metadata": {
        "colab": {
          "base_uri": "https://localhost:8080/"
        },
        "id": "-aNOsDsDoQoh",
        "outputId": "f2e84b53-c805-4711-c67d-a62c92aab733"
      },
      "source": [
        "y.columns = [\"COVID\", \"Normal\"]\n",
        "print(y.head(3),\\\n",
        "\"\\n\", y.tail(3))\n",
        "\n",
        "print(color.BOLD + \"Number of COVID case after get_dummies:\" + color.END, y[\"COVID\"].sum(),\\\n",
        "\"\\n\"+ color.BOLD + \"Number of Normal case after get_dummies:\" + color.END, y[\"Normal\"].sum())"
      ],
      "execution_count": null,
      "outputs": [
        {
          "output_type": "stream",
          "name": "stdout",
          "text": [
            "   COVID  Normal\n",
            "0      1       0\n",
            "1      1       0\n",
            "2      1       0 \n",
            "       COVID  Normal\n",
            "3997      0       1\n",
            "3998      0       1\n",
            "3999      0       1\n",
            "\u001b[1m\u001b[94mNumber of COVID case after get_dummies:\u001b[0m 2000 \n",
            "\u001b[1m\u001b[94mNumber of Normal case after get_dummies:\u001b[0m 2000\n"
          ]
        }
      ]
    },
    {
      "cell_type": "markdown",
      "metadata": {
        "id": "E8xM8x1oVEoS"
      },
      "source": [
        "##**สรุป**\n",
        "ตอนนี้เรามี ....\n",
        "1. **\" X \"** contained all image เป็น matrix แล้ว (both normal and COVID case)\n",
        "2. **\" y \"** contained all truth เป็นค่า 0/1 (both normal and COVID case)"
      ]
    },
    {
      "cell_type": "markdown",
      "metadata": {
        "id": "DKJEi6uTj562"
      },
      "source": [
        "## Split data into 70-20-10 train-val-test\n",
        "โดยใช้ input = X (image data) , output = y_onehot (truth)"
      ]
    },
    {
      "cell_type": "code",
      "metadata": {
        "id": "yVsBMQ9ud2l0"
      },
      "source": [
        "X_train, X_test, y_train, y_test = train_test_split(X, y, test_size = 0.1, stratify = y, \\\n",
        "                                                    shuffle = True, random_state = 9559)\n",
        "X_train, X_val, y_train, y_val = train_test_split(X_train, y_train, test_size = 0.2, stratify = y_train, \\\n",
        "                                                  shuffle = True, random_state = 9559)"
      ],
      "execution_count": null,
      "outputs": []
    },
    {
      "cell_type": "code",
      "metadata": {
        "colab": {
          "base_uri": "https://localhost:8080/"
        },
        "id": "ecD64ND5n4Co",
        "outputId": "778ba4ac-f1b4-4cdc-f219-15f71c4eba1c"
      },
      "source": [
        "#Recheck จำนวนทั้งหมด\n",
        "print(color.BOLD + \"Training set: \" + color.END, len(X_train), \"cases\",\\\n",
        "\"\\n\"+ color.BOLD + \"Validation set: \" + color.END, len(X_val), \"cases\",\\\n",
        "\"\\n\"+ color.BOLD + \"Test set: \" + color.END, len(X_test), \"cases\")"
      ],
      "execution_count": null,
      "outputs": [
        {
          "output_type": "stream",
          "name": "stdout",
          "text": [
            "\u001b[1m\u001b[94mTraining set: \u001b[0m 2880 cases \n",
            "\u001b[1m\u001b[94mValidation set: \u001b[0m 720 cases \n",
            "\u001b[1m\u001b[94mTest set: \u001b[0m 400 cases\n"
          ]
        }
      ]
    },
    {
      "cell_type": "code",
      "metadata": {
        "id": "7sYsNKInqB1V"
      },
      "source": [
        "del X"
      ],
      "execution_count": null,
      "outputs": []
    },
    {
      "cell_type": "code",
      "metadata": {
        "colab": {
          "base_uri": "https://localhost:8080/"
        },
        "id": "G368A9L52VIu",
        "outputId": "394e91a9-a647-41b9-b16d-fbe49a051a74"
      },
      "source": [
        "#image shape\n",
        "X_train.shape"
      ],
      "execution_count": null,
      "outputs": [
        {
          "output_type": "execute_result",
          "data": {
            "text/plain": [
              "(2880, 224, 224, 3)"
            ]
          },
          "metadata": {},
          "execution_count": 19
        }
      ]
    },
    {
      "cell_type": "markdown",
      "metadata": {
        "id": "h6nN39VKsTSF"
      },
      "source": [
        "## Download and prepare Neural Network\n",
        "*  Model : Densenet121\n",
        "*  Weights : imagenet"
      ]
    },
    {
      "cell_type": "code",
      "metadata": {
        "id": "i_IoNUuhmXId"
      },
      "source": [
        "def generate_cxr_pretrained_densenet121():\n",
        "    base_model = tf.keras.applications.DenseNet121(input_shape = (224, 224, 3), weights = 'imagenet', include_top = False)\n",
        "    base_model.trainable = False ## freeze convolutional part\n",
        "\n",
        "    x = layers.GlobalAveragePooling2D()(base_model.output)\n",
        "    x = layers.Dense(512, activation = 'relu')(x)\n",
        "    x = layers.BatchNormalization()(x)\n",
        "    x = layers.Dropout(0.2)(x)\n",
        "    x = layers.Dense(2, activation = 'sigmoid')(x)\n",
        "    model = tf.keras.Model(base_model.input, outputs = x)\n",
        "    #compile model\n",
        "    model.compile(loss = 'binary_crossentropy', optimizer = Adam(learning_rate = 1e-4), metrics = ['accuracy'])\n",
        "    \n",
        "    return model "
      ],
      "execution_count": null,
      "outputs": []
    },
    {
      "cell_type": "code",
      "metadata": {
        "colab": {
          "base_uri": "https://localhost:8080/"
        },
        "id": "6F0BInwNs1f-",
        "outputId": "8d601867-8cdc-41da-aed7-c52dd949c316"
      },
      "source": [
        "cxr_pretrained_densenet = generate_cxr_pretrained_densenet121()\n",
        "cxr_pretrained_densenet.summary()"
      ],
      "execution_count": null,
      "outputs": [
        {
          "output_type": "stream",
          "name": "stdout",
          "text": [
            "Downloading data from https://storage.googleapis.com/tensorflow/keras-applications/densenet/densenet121_weights_tf_dim_ordering_tf_kernels_notop.h5\n",
            "29089792/29084464 [==============================] - 1s 0us/step\n",
            "29097984/29084464 [==============================] - 1s 0us/step\n",
            "Model: \"model\"\n",
            "__________________________________________________________________________________________________\n",
            "Layer (type)                    Output Shape         Param #     Connected to                     \n",
            "==================================================================================================\n",
            "input_1 (InputLayer)            [(None, 224, 224, 3) 0                                            \n",
            "__________________________________________________________________________________________________\n",
            "zero_padding2d (ZeroPadding2D)  (None, 230, 230, 3)  0           input_1[0][0]                    \n",
            "__________________________________________________________________________________________________\n",
            "conv1/conv (Conv2D)             (None, 112, 112, 64) 9408        zero_padding2d[0][0]             \n",
            "__________________________________________________________________________________________________\n",
            "conv1/bn (BatchNormalization)   (None, 112, 112, 64) 256         conv1/conv[0][0]                 \n",
            "__________________________________________________________________________________________________\n",
            "conv1/relu (Activation)         (None, 112, 112, 64) 0           conv1/bn[0][0]                   \n",
            "__________________________________________________________________________________________________\n",
            "zero_padding2d_1 (ZeroPadding2D (None, 114, 114, 64) 0           conv1/relu[0][0]                 \n",
            "__________________________________________________________________________________________________\n",
            "pool1 (MaxPooling2D)            (None, 56, 56, 64)   0           zero_padding2d_1[0][0]           \n",
            "__________________________________________________________________________________________________\n",
            "conv2_block1_0_bn (BatchNormali (None, 56, 56, 64)   256         pool1[0][0]                      \n",
            "__________________________________________________________________________________________________\n",
            "conv2_block1_0_relu (Activation (None, 56, 56, 64)   0           conv2_block1_0_bn[0][0]          \n",
            "__________________________________________________________________________________________________\n",
            "conv2_block1_1_conv (Conv2D)    (None, 56, 56, 128)  8192        conv2_block1_0_relu[0][0]        \n",
            "__________________________________________________________________________________________________\n",
            "conv2_block1_1_bn (BatchNormali (None, 56, 56, 128)  512         conv2_block1_1_conv[0][0]        \n",
            "__________________________________________________________________________________________________\n",
            "conv2_block1_1_relu (Activation (None, 56, 56, 128)  0           conv2_block1_1_bn[0][0]          \n",
            "__________________________________________________________________________________________________\n",
            "conv2_block1_2_conv (Conv2D)    (None, 56, 56, 32)   36864       conv2_block1_1_relu[0][0]        \n",
            "__________________________________________________________________________________________________\n",
            "conv2_block1_concat (Concatenat (None, 56, 56, 96)   0           pool1[0][0]                      \n",
            "                                                                 conv2_block1_2_conv[0][0]        \n",
            "__________________________________________________________________________________________________\n",
            "conv2_block2_0_bn (BatchNormali (None, 56, 56, 96)   384         conv2_block1_concat[0][0]        \n",
            "__________________________________________________________________________________________________\n",
            "conv2_block2_0_relu (Activation (None, 56, 56, 96)   0           conv2_block2_0_bn[0][0]          \n",
            "__________________________________________________________________________________________________\n",
            "conv2_block2_1_conv (Conv2D)    (None, 56, 56, 128)  12288       conv2_block2_0_relu[0][0]        \n",
            "__________________________________________________________________________________________________\n",
            "conv2_block2_1_bn (BatchNormali (None, 56, 56, 128)  512         conv2_block2_1_conv[0][0]        \n",
            "__________________________________________________________________________________________________\n",
            "conv2_block2_1_relu (Activation (None, 56, 56, 128)  0           conv2_block2_1_bn[0][0]          \n",
            "__________________________________________________________________________________________________\n",
            "conv2_block2_2_conv (Conv2D)    (None, 56, 56, 32)   36864       conv2_block2_1_relu[0][0]        \n",
            "__________________________________________________________________________________________________\n",
            "conv2_block2_concat (Concatenat (None, 56, 56, 128)  0           conv2_block1_concat[0][0]        \n",
            "                                                                 conv2_block2_2_conv[0][0]        \n",
            "__________________________________________________________________________________________________\n",
            "conv2_block3_0_bn (BatchNormali (None, 56, 56, 128)  512         conv2_block2_concat[0][0]        \n",
            "__________________________________________________________________________________________________\n",
            "conv2_block3_0_relu (Activation (None, 56, 56, 128)  0           conv2_block3_0_bn[0][0]          \n",
            "__________________________________________________________________________________________________\n",
            "conv2_block3_1_conv (Conv2D)    (None, 56, 56, 128)  16384       conv2_block3_0_relu[0][0]        \n",
            "__________________________________________________________________________________________________\n",
            "conv2_block3_1_bn (BatchNormali (None, 56, 56, 128)  512         conv2_block3_1_conv[0][0]        \n",
            "__________________________________________________________________________________________________\n",
            "conv2_block3_1_relu (Activation (None, 56, 56, 128)  0           conv2_block3_1_bn[0][0]          \n",
            "__________________________________________________________________________________________________\n",
            "conv2_block3_2_conv (Conv2D)    (None, 56, 56, 32)   36864       conv2_block3_1_relu[0][0]        \n",
            "__________________________________________________________________________________________________\n",
            "conv2_block3_concat (Concatenat (None, 56, 56, 160)  0           conv2_block2_concat[0][0]        \n",
            "                                                                 conv2_block3_2_conv[0][0]        \n",
            "__________________________________________________________________________________________________\n",
            "conv2_block4_0_bn (BatchNormali (None, 56, 56, 160)  640         conv2_block3_concat[0][0]        \n",
            "__________________________________________________________________________________________________\n",
            "conv2_block4_0_relu (Activation (None, 56, 56, 160)  0           conv2_block4_0_bn[0][0]          \n",
            "__________________________________________________________________________________________________\n",
            "conv2_block4_1_conv (Conv2D)    (None, 56, 56, 128)  20480       conv2_block4_0_relu[0][0]        \n",
            "__________________________________________________________________________________________________\n",
            "conv2_block4_1_bn (BatchNormali (None, 56, 56, 128)  512         conv2_block4_1_conv[0][0]        \n",
            "__________________________________________________________________________________________________\n",
            "conv2_block4_1_relu (Activation (None, 56, 56, 128)  0           conv2_block4_1_bn[0][0]          \n",
            "__________________________________________________________________________________________________\n",
            "conv2_block4_2_conv (Conv2D)    (None, 56, 56, 32)   36864       conv2_block4_1_relu[0][0]        \n",
            "__________________________________________________________________________________________________\n",
            "conv2_block4_concat (Concatenat (None, 56, 56, 192)  0           conv2_block3_concat[0][0]        \n",
            "                                                                 conv2_block4_2_conv[0][0]        \n",
            "__________________________________________________________________________________________________\n",
            "conv2_block5_0_bn (BatchNormali (None, 56, 56, 192)  768         conv2_block4_concat[0][0]        \n",
            "__________________________________________________________________________________________________\n",
            "conv2_block5_0_relu (Activation (None, 56, 56, 192)  0           conv2_block5_0_bn[0][0]          \n",
            "__________________________________________________________________________________________________\n",
            "conv2_block5_1_conv (Conv2D)    (None, 56, 56, 128)  24576       conv2_block5_0_relu[0][0]        \n",
            "__________________________________________________________________________________________________\n",
            "conv2_block5_1_bn (BatchNormali (None, 56, 56, 128)  512         conv2_block5_1_conv[0][0]        \n",
            "__________________________________________________________________________________________________\n",
            "conv2_block5_1_relu (Activation (None, 56, 56, 128)  0           conv2_block5_1_bn[0][0]          \n",
            "__________________________________________________________________________________________________\n",
            "conv2_block5_2_conv (Conv2D)    (None, 56, 56, 32)   36864       conv2_block5_1_relu[0][0]        \n",
            "__________________________________________________________________________________________________\n",
            "conv2_block5_concat (Concatenat (None, 56, 56, 224)  0           conv2_block4_concat[0][0]        \n",
            "                                                                 conv2_block5_2_conv[0][0]        \n",
            "__________________________________________________________________________________________________\n",
            "conv2_block6_0_bn (BatchNormali (None, 56, 56, 224)  896         conv2_block5_concat[0][0]        \n",
            "__________________________________________________________________________________________________\n",
            "conv2_block6_0_relu (Activation (None, 56, 56, 224)  0           conv2_block6_0_bn[0][0]          \n",
            "__________________________________________________________________________________________________\n",
            "conv2_block6_1_conv (Conv2D)    (None, 56, 56, 128)  28672       conv2_block6_0_relu[0][0]        \n",
            "__________________________________________________________________________________________________\n",
            "conv2_block6_1_bn (BatchNormali (None, 56, 56, 128)  512         conv2_block6_1_conv[0][0]        \n",
            "__________________________________________________________________________________________________\n",
            "conv2_block6_1_relu (Activation (None, 56, 56, 128)  0           conv2_block6_1_bn[0][0]          \n",
            "__________________________________________________________________________________________________\n",
            "conv2_block6_2_conv (Conv2D)    (None, 56, 56, 32)   36864       conv2_block6_1_relu[0][0]        \n",
            "__________________________________________________________________________________________________\n",
            "conv2_block6_concat (Concatenat (None, 56, 56, 256)  0           conv2_block5_concat[0][0]        \n",
            "                                                                 conv2_block6_2_conv[0][0]        \n",
            "__________________________________________________________________________________________________\n",
            "pool2_bn (BatchNormalization)   (None, 56, 56, 256)  1024        conv2_block6_concat[0][0]        \n",
            "__________________________________________________________________________________________________\n",
            "pool2_relu (Activation)         (None, 56, 56, 256)  0           pool2_bn[0][0]                   \n",
            "__________________________________________________________________________________________________\n",
            "pool2_conv (Conv2D)             (None, 56, 56, 128)  32768       pool2_relu[0][0]                 \n",
            "__________________________________________________________________________________________________\n",
            "pool2_pool (AveragePooling2D)   (None, 28, 28, 128)  0           pool2_conv[0][0]                 \n",
            "__________________________________________________________________________________________________\n",
            "conv3_block1_0_bn (BatchNormali (None, 28, 28, 128)  512         pool2_pool[0][0]                 \n",
            "__________________________________________________________________________________________________\n",
            "conv3_block1_0_relu (Activation (None, 28, 28, 128)  0           conv3_block1_0_bn[0][0]          \n",
            "__________________________________________________________________________________________________\n",
            "conv3_block1_1_conv (Conv2D)    (None, 28, 28, 128)  16384       conv3_block1_0_relu[0][0]        \n",
            "__________________________________________________________________________________________________\n",
            "conv3_block1_1_bn (BatchNormali (None, 28, 28, 128)  512         conv3_block1_1_conv[0][0]        \n",
            "__________________________________________________________________________________________________\n",
            "conv3_block1_1_relu (Activation (None, 28, 28, 128)  0           conv3_block1_1_bn[0][0]          \n",
            "__________________________________________________________________________________________________\n",
            "conv3_block1_2_conv (Conv2D)    (None, 28, 28, 32)   36864       conv3_block1_1_relu[0][0]        \n",
            "__________________________________________________________________________________________________\n",
            "conv3_block1_concat (Concatenat (None, 28, 28, 160)  0           pool2_pool[0][0]                 \n",
            "                                                                 conv3_block1_2_conv[0][0]        \n",
            "__________________________________________________________________________________________________\n",
            "conv3_block2_0_bn (BatchNormali (None, 28, 28, 160)  640         conv3_block1_concat[0][0]        \n",
            "__________________________________________________________________________________________________\n",
            "conv3_block2_0_relu (Activation (None, 28, 28, 160)  0           conv3_block2_0_bn[0][0]          \n",
            "__________________________________________________________________________________________________\n",
            "conv3_block2_1_conv (Conv2D)    (None, 28, 28, 128)  20480       conv3_block2_0_relu[0][0]        \n",
            "__________________________________________________________________________________________________\n",
            "conv3_block2_1_bn (BatchNormali (None, 28, 28, 128)  512         conv3_block2_1_conv[0][0]        \n",
            "__________________________________________________________________________________________________\n",
            "conv3_block2_1_relu (Activation (None, 28, 28, 128)  0           conv3_block2_1_bn[0][0]          \n",
            "__________________________________________________________________________________________________\n",
            "conv3_block2_2_conv (Conv2D)    (None, 28, 28, 32)   36864       conv3_block2_1_relu[0][0]        \n",
            "__________________________________________________________________________________________________\n",
            "conv3_block2_concat (Concatenat (None, 28, 28, 192)  0           conv3_block1_concat[0][0]        \n",
            "                                                                 conv3_block2_2_conv[0][0]        \n",
            "__________________________________________________________________________________________________\n",
            "conv3_block3_0_bn (BatchNormali (None, 28, 28, 192)  768         conv3_block2_concat[0][0]        \n",
            "__________________________________________________________________________________________________\n",
            "conv3_block3_0_relu (Activation (None, 28, 28, 192)  0           conv3_block3_0_bn[0][0]          \n",
            "__________________________________________________________________________________________________\n",
            "conv3_block3_1_conv (Conv2D)    (None, 28, 28, 128)  24576       conv3_block3_0_relu[0][0]        \n",
            "__________________________________________________________________________________________________\n",
            "conv3_block3_1_bn (BatchNormali (None, 28, 28, 128)  512         conv3_block3_1_conv[0][0]        \n",
            "__________________________________________________________________________________________________\n",
            "conv3_block3_1_relu (Activation (None, 28, 28, 128)  0           conv3_block3_1_bn[0][0]          \n",
            "__________________________________________________________________________________________________\n",
            "conv3_block3_2_conv (Conv2D)    (None, 28, 28, 32)   36864       conv3_block3_1_relu[0][0]        \n",
            "__________________________________________________________________________________________________\n",
            "conv3_block3_concat (Concatenat (None, 28, 28, 224)  0           conv3_block2_concat[0][0]        \n",
            "                                                                 conv3_block3_2_conv[0][0]        \n",
            "__________________________________________________________________________________________________\n",
            "conv3_block4_0_bn (BatchNormali (None, 28, 28, 224)  896         conv3_block3_concat[0][0]        \n",
            "__________________________________________________________________________________________________\n",
            "conv3_block4_0_relu (Activation (None, 28, 28, 224)  0           conv3_block4_0_bn[0][0]          \n",
            "__________________________________________________________________________________________________\n",
            "conv3_block4_1_conv (Conv2D)    (None, 28, 28, 128)  28672       conv3_block4_0_relu[0][0]        \n",
            "__________________________________________________________________________________________________\n",
            "conv3_block4_1_bn (BatchNormali (None, 28, 28, 128)  512         conv3_block4_1_conv[0][0]        \n",
            "__________________________________________________________________________________________________\n",
            "conv3_block4_1_relu (Activation (None, 28, 28, 128)  0           conv3_block4_1_bn[0][0]          \n",
            "__________________________________________________________________________________________________\n",
            "conv3_block4_2_conv (Conv2D)    (None, 28, 28, 32)   36864       conv3_block4_1_relu[0][0]        \n",
            "__________________________________________________________________________________________________\n",
            "conv3_block4_concat (Concatenat (None, 28, 28, 256)  0           conv3_block3_concat[0][0]        \n",
            "                                                                 conv3_block4_2_conv[0][0]        \n",
            "__________________________________________________________________________________________________\n",
            "conv3_block5_0_bn (BatchNormali (None, 28, 28, 256)  1024        conv3_block4_concat[0][0]        \n",
            "__________________________________________________________________________________________________\n",
            "conv3_block5_0_relu (Activation (None, 28, 28, 256)  0           conv3_block5_0_bn[0][0]          \n",
            "__________________________________________________________________________________________________\n",
            "conv3_block5_1_conv (Conv2D)    (None, 28, 28, 128)  32768       conv3_block5_0_relu[0][0]        \n",
            "__________________________________________________________________________________________________\n",
            "conv3_block5_1_bn (BatchNormali (None, 28, 28, 128)  512         conv3_block5_1_conv[0][0]        \n",
            "__________________________________________________________________________________________________\n",
            "conv3_block5_1_relu (Activation (None, 28, 28, 128)  0           conv3_block5_1_bn[0][0]          \n",
            "__________________________________________________________________________________________________\n",
            "conv3_block5_2_conv (Conv2D)    (None, 28, 28, 32)   36864       conv3_block5_1_relu[0][0]        \n",
            "__________________________________________________________________________________________________\n",
            "conv3_block5_concat (Concatenat (None, 28, 28, 288)  0           conv3_block4_concat[0][0]        \n",
            "                                                                 conv3_block5_2_conv[0][0]        \n",
            "__________________________________________________________________________________________________\n",
            "conv3_block6_0_bn (BatchNormali (None, 28, 28, 288)  1152        conv3_block5_concat[0][0]        \n",
            "__________________________________________________________________________________________________\n",
            "conv3_block6_0_relu (Activation (None, 28, 28, 288)  0           conv3_block6_0_bn[0][0]          \n",
            "__________________________________________________________________________________________________\n",
            "conv3_block6_1_conv (Conv2D)    (None, 28, 28, 128)  36864       conv3_block6_0_relu[0][0]        \n",
            "__________________________________________________________________________________________________\n",
            "conv3_block6_1_bn (BatchNormali (None, 28, 28, 128)  512         conv3_block6_1_conv[0][0]        \n",
            "__________________________________________________________________________________________________\n",
            "conv3_block6_1_relu (Activation (None, 28, 28, 128)  0           conv3_block6_1_bn[0][0]          \n",
            "__________________________________________________________________________________________________\n",
            "conv3_block6_2_conv (Conv2D)    (None, 28, 28, 32)   36864       conv3_block6_1_relu[0][0]        \n",
            "__________________________________________________________________________________________________\n",
            "conv3_block6_concat (Concatenat (None, 28, 28, 320)  0           conv3_block5_concat[0][0]        \n",
            "                                                                 conv3_block6_2_conv[0][0]        \n",
            "__________________________________________________________________________________________________\n",
            "conv3_block7_0_bn (BatchNormali (None, 28, 28, 320)  1280        conv3_block6_concat[0][0]        \n",
            "__________________________________________________________________________________________________\n",
            "conv3_block7_0_relu (Activation (None, 28, 28, 320)  0           conv3_block7_0_bn[0][0]          \n",
            "__________________________________________________________________________________________________\n",
            "conv3_block7_1_conv (Conv2D)    (None, 28, 28, 128)  40960       conv3_block7_0_relu[0][0]        \n",
            "__________________________________________________________________________________________________\n",
            "conv3_block7_1_bn (BatchNormali (None, 28, 28, 128)  512         conv3_block7_1_conv[0][0]        \n",
            "__________________________________________________________________________________________________\n",
            "conv3_block7_1_relu (Activation (None, 28, 28, 128)  0           conv3_block7_1_bn[0][0]          \n",
            "__________________________________________________________________________________________________\n",
            "conv3_block7_2_conv (Conv2D)    (None, 28, 28, 32)   36864       conv3_block7_1_relu[0][0]        \n",
            "__________________________________________________________________________________________________\n",
            "conv3_block7_concat (Concatenat (None, 28, 28, 352)  0           conv3_block6_concat[0][0]        \n",
            "                                                                 conv3_block7_2_conv[0][0]        \n",
            "__________________________________________________________________________________________________\n",
            "conv3_block8_0_bn (BatchNormali (None, 28, 28, 352)  1408        conv3_block7_concat[0][0]        \n",
            "__________________________________________________________________________________________________\n",
            "conv3_block8_0_relu (Activation (None, 28, 28, 352)  0           conv3_block8_0_bn[0][0]          \n",
            "__________________________________________________________________________________________________\n",
            "conv3_block8_1_conv (Conv2D)    (None, 28, 28, 128)  45056       conv3_block8_0_relu[0][0]        \n",
            "__________________________________________________________________________________________________\n",
            "conv3_block8_1_bn (BatchNormali (None, 28, 28, 128)  512         conv3_block8_1_conv[0][0]        \n",
            "__________________________________________________________________________________________________\n",
            "conv3_block8_1_relu (Activation (None, 28, 28, 128)  0           conv3_block8_1_bn[0][0]          \n",
            "__________________________________________________________________________________________________\n",
            "conv3_block8_2_conv (Conv2D)    (None, 28, 28, 32)   36864       conv3_block8_1_relu[0][0]        \n",
            "__________________________________________________________________________________________________\n",
            "conv3_block8_concat (Concatenat (None, 28, 28, 384)  0           conv3_block7_concat[0][0]        \n",
            "                                                                 conv3_block8_2_conv[0][0]        \n",
            "__________________________________________________________________________________________________\n",
            "conv3_block9_0_bn (BatchNormali (None, 28, 28, 384)  1536        conv3_block8_concat[0][0]        \n",
            "__________________________________________________________________________________________________\n",
            "conv3_block9_0_relu (Activation (None, 28, 28, 384)  0           conv3_block9_0_bn[0][0]          \n",
            "__________________________________________________________________________________________________\n",
            "conv3_block9_1_conv (Conv2D)    (None, 28, 28, 128)  49152       conv3_block9_0_relu[0][0]        \n",
            "__________________________________________________________________________________________________\n",
            "conv3_block9_1_bn (BatchNormali (None, 28, 28, 128)  512         conv3_block9_1_conv[0][0]        \n",
            "__________________________________________________________________________________________________\n",
            "conv3_block9_1_relu (Activation (None, 28, 28, 128)  0           conv3_block9_1_bn[0][0]          \n",
            "__________________________________________________________________________________________________\n",
            "conv3_block9_2_conv (Conv2D)    (None, 28, 28, 32)   36864       conv3_block9_1_relu[0][0]        \n",
            "__________________________________________________________________________________________________\n",
            "conv3_block9_concat (Concatenat (None, 28, 28, 416)  0           conv3_block8_concat[0][0]        \n",
            "                                                                 conv3_block9_2_conv[0][0]        \n",
            "__________________________________________________________________________________________________\n",
            "conv3_block10_0_bn (BatchNormal (None, 28, 28, 416)  1664        conv3_block9_concat[0][0]        \n",
            "__________________________________________________________________________________________________\n",
            "conv3_block10_0_relu (Activatio (None, 28, 28, 416)  0           conv3_block10_0_bn[0][0]         \n",
            "__________________________________________________________________________________________________\n",
            "conv3_block10_1_conv (Conv2D)   (None, 28, 28, 128)  53248       conv3_block10_0_relu[0][0]       \n",
            "__________________________________________________________________________________________________\n",
            "conv3_block10_1_bn (BatchNormal (None, 28, 28, 128)  512         conv3_block10_1_conv[0][0]       \n",
            "__________________________________________________________________________________________________\n",
            "conv3_block10_1_relu (Activatio (None, 28, 28, 128)  0           conv3_block10_1_bn[0][0]         \n",
            "__________________________________________________________________________________________________\n",
            "conv3_block10_2_conv (Conv2D)   (None, 28, 28, 32)   36864       conv3_block10_1_relu[0][0]       \n",
            "__________________________________________________________________________________________________\n",
            "conv3_block10_concat (Concatena (None, 28, 28, 448)  0           conv3_block9_concat[0][0]        \n",
            "                                                                 conv3_block10_2_conv[0][0]       \n",
            "__________________________________________________________________________________________________\n",
            "conv3_block11_0_bn (BatchNormal (None, 28, 28, 448)  1792        conv3_block10_concat[0][0]       \n",
            "__________________________________________________________________________________________________\n",
            "conv3_block11_0_relu (Activatio (None, 28, 28, 448)  0           conv3_block11_0_bn[0][0]         \n",
            "__________________________________________________________________________________________________\n",
            "conv3_block11_1_conv (Conv2D)   (None, 28, 28, 128)  57344       conv3_block11_0_relu[0][0]       \n",
            "__________________________________________________________________________________________________\n",
            "conv3_block11_1_bn (BatchNormal (None, 28, 28, 128)  512         conv3_block11_1_conv[0][0]       \n",
            "__________________________________________________________________________________________________\n",
            "conv3_block11_1_relu (Activatio (None, 28, 28, 128)  0           conv3_block11_1_bn[0][0]         \n",
            "__________________________________________________________________________________________________\n",
            "conv3_block11_2_conv (Conv2D)   (None, 28, 28, 32)   36864       conv3_block11_1_relu[0][0]       \n",
            "__________________________________________________________________________________________________\n",
            "conv3_block11_concat (Concatena (None, 28, 28, 480)  0           conv3_block10_concat[0][0]       \n",
            "                                                                 conv3_block11_2_conv[0][0]       \n",
            "__________________________________________________________________________________________________\n",
            "conv3_block12_0_bn (BatchNormal (None, 28, 28, 480)  1920        conv3_block11_concat[0][0]       \n",
            "__________________________________________________________________________________________________\n",
            "conv3_block12_0_relu (Activatio (None, 28, 28, 480)  0           conv3_block12_0_bn[0][0]         \n",
            "__________________________________________________________________________________________________\n",
            "conv3_block12_1_conv (Conv2D)   (None, 28, 28, 128)  61440       conv3_block12_0_relu[0][0]       \n",
            "__________________________________________________________________________________________________\n",
            "conv3_block12_1_bn (BatchNormal (None, 28, 28, 128)  512         conv3_block12_1_conv[0][0]       \n",
            "__________________________________________________________________________________________________\n",
            "conv3_block12_1_relu (Activatio (None, 28, 28, 128)  0           conv3_block12_1_bn[0][0]         \n",
            "__________________________________________________________________________________________________\n",
            "conv3_block12_2_conv (Conv2D)   (None, 28, 28, 32)   36864       conv3_block12_1_relu[0][0]       \n",
            "__________________________________________________________________________________________________\n",
            "conv3_block12_concat (Concatena (None, 28, 28, 512)  0           conv3_block11_concat[0][0]       \n",
            "                                                                 conv3_block12_2_conv[0][0]       \n",
            "__________________________________________________________________________________________________\n",
            "pool3_bn (BatchNormalization)   (None, 28, 28, 512)  2048        conv3_block12_concat[0][0]       \n",
            "__________________________________________________________________________________________________\n",
            "pool3_relu (Activation)         (None, 28, 28, 512)  0           pool3_bn[0][0]                   \n",
            "__________________________________________________________________________________________________\n",
            "pool3_conv (Conv2D)             (None, 28, 28, 256)  131072      pool3_relu[0][0]                 \n",
            "__________________________________________________________________________________________________\n",
            "pool3_pool (AveragePooling2D)   (None, 14, 14, 256)  0           pool3_conv[0][0]                 \n",
            "__________________________________________________________________________________________________\n",
            "conv4_block1_0_bn (BatchNormali (None, 14, 14, 256)  1024        pool3_pool[0][0]                 \n",
            "__________________________________________________________________________________________________\n",
            "conv4_block1_0_relu (Activation (None, 14, 14, 256)  0           conv4_block1_0_bn[0][0]          \n",
            "__________________________________________________________________________________________________\n",
            "conv4_block1_1_conv (Conv2D)    (None, 14, 14, 128)  32768       conv4_block1_0_relu[0][0]        \n",
            "__________________________________________________________________________________________________\n",
            "conv4_block1_1_bn (BatchNormali (None, 14, 14, 128)  512         conv4_block1_1_conv[0][0]        \n",
            "__________________________________________________________________________________________________\n",
            "conv4_block1_1_relu (Activation (None, 14, 14, 128)  0           conv4_block1_1_bn[0][0]          \n",
            "__________________________________________________________________________________________________\n",
            "conv4_block1_2_conv (Conv2D)    (None, 14, 14, 32)   36864       conv4_block1_1_relu[0][0]        \n",
            "__________________________________________________________________________________________________\n",
            "conv4_block1_concat (Concatenat (None, 14, 14, 288)  0           pool3_pool[0][0]                 \n",
            "                                                                 conv4_block1_2_conv[0][0]        \n",
            "__________________________________________________________________________________________________\n",
            "conv4_block2_0_bn (BatchNormali (None, 14, 14, 288)  1152        conv4_block1_concat[0][0]        \n",
            "__________________________________________________________________________________________________\n",
            "conv4_block2_0_relu (Activation (None, 14, 14, 288)  0           conv4_block2_0_bn[0][0]          \n",
            "__________________________________________________________________________________________________\n",
            "conv4_block2_1_conv (Conv2D)    (None, 14, 14, 128)  36864       conv4_block2_0_relu[0][0]        \n",
            "__________________________________________________________________________________________________\n",
            "conv4_block2_1_bn (BatchNormali (None, 14, 14, 128)  512         conv4_block2_1_conv[0][0]        \n",
            "__________________________________________________________________________________________________\n",
            "conv4_block2_1_relu (Activation (None, 14, 14, 128)  0           conv4_block2_1_bn[0][0]          \n",
            "__________________________________________________________________________________________________\n",
            "conv4_block2_2_conv (Conv2D)    (None, 14, 14, 32)   36864       conv4_block2_1_relu[0][0]        \n",
            "__________________________________________________________________________________________________\n",
            "conv4_block2_concat (Concatenat (None, 14, 14, 320)  0           conv4_block1_concat[0][0]        \n",
            "                                                                 conv4_block2_2_conv[0][0]        \n",
            "__________________________________________________________________________________________________\n",
            "conv4_block3_0_bn (BatchNormali (None, 14, 14, 320)  1280        conv4_block2_concat[0][0]        \n",
            "__________________________________________________________________________________________________\n",
            "conv4_block3_0_relu (Activation (None, 14, 14, 320)  0           conv4_block3_0_bn[0][0]          \n",
            "__________________________________________________________________________________________________\n",
            "conv4_block3_1_conv (Conv2D)    (None, 14, 14, 128)  40960       conv4_block3_0_relu[0][0]        \n",
            "__________________________________________________________________________________________________\n",
            "conv4_block3_1_bn (BatchNormali (None, 14, 14, 128)  512         conv4_block3_1_conv[0][0]        \n",
            "__________________________________________________________________________________________________\n",
            "conv4_block3_1_relu (Activation (None, 14, 14, 128)  0           conv4_block3_1_bn[0][0]          \n",
            "__________________________________________________________________________________________________\n",
            "conv4_block3_2_conv (Conv2D)    (None, 14, 14, 32)   36864       conv4_block3_1_relu[0][0]        \n",
            "__________________________________________________________________________________________________\n",
            "conv4_block3_concat (Concatenat (None, 14, 14, 352)  0           conv4_block2_concat[0][0]        \n",
            "                                                                 conv4_block3_2_conv[0][0]        \n",
            "__________________________________________________________________________________________________\n",
            "conv4_block4_0_bn (BatchNormali (None, 14, 14, 352)  1408        conv4_block3_concat[0][0]        \n",
            "__________________________________________________________________________________________________\n",
            "conv4_block4_0_relu (Activation (None, 14, 14, 352)  0           conv4_block4_0_bn[0][0]          \n",
            "__________________________________________________________________________________________________\n",
            "conv4_block4_1_conv (Conv2D)    (None, 14, 14, 128)  45056       conv4_block4_0_relu[0][0]        \n",
            "__________________________________________________________________________________________________\n",
            "conv4_block4_1_bn (BatchNormali (None, 14, 14, 128)  512         conv4_block4_1_conv[0][0]        \n",
            "__________________________________________________________________________________________________\n",
            "conv4_block4_1_relu (Activation (None, 14, 14, 128)  0           conv4_block4_1_bn[0][0]          \n",
            "__________________________________________________________________________________________________\n",
            "conv4_block4_2_conv (Conv2D)    (None, 14, 14, 32)   36864       conv4_block4_1_relu[0][0]        \n",
            "__________________________________________________________________________________________________\n",
            "conv4_block4_concat (Concatenat (None, 14, 14, 384)  0           conv4_block3_concat[0][0]        \n",
            "                                                                 conv4_block4_2_conv[0][0]        \n",
            "__________________________________________________________________________________________________\n",
            "conv4_block5_0_bn (BatchNormali (None, 14, 14, 384)  1536        conv4_block4_concat[0][0]        \n",
            "__________________________________________________________________________________________________\n",
            "conv4_block5_0_relu (Activation (None, 14, 14, 384)  0           conv4_block5_0_bn[0][0]          \n",
            "__________________________________________________________________________________________________\n",
            "conv4_block5_1_conv (Conv2D)    (None, 14, 14, 128)  49152       conv4_block5_0_relu[0][0]        \n",
            "__________________________________________________________________________________________________\n",
            "conv4_block5_1_bn (BatchNormali (None, 14, 14, 128)  512         conv4_block5_1_conv[0][0]        \n",
            "__________________________________________________________________________________________________\n",
            "conv4_block5_1_relu (Activation (None, 14, 14, 128)  0           conv4_block5_1_bn[0][0]          \n",
            "__________________________________________________________________________________________________\n",
            "conv4_block5_2_conv (Conv2D)    (None, 14, 14, 32)   36864       conv4_block5_1_relu[0][0]        \n",
            "__________________________________________________________________________________________________\n",
            "conv4_block5_concat (Concatenat (None, 14, 14, 416)  0           conv4_block4_concat[0][0]        \n",
            "                                                                 conv4_block5_2_conv[0][0]        \n",
            "__________________________________________________________________________________________________\n",
            "conv4_block6_0_bn (BatchNormali (None, 14, 14, 416)  1664        conv4_block5_concat[0][0]        \n",
            "__________________________________________________________________________________________________\n",
            "conv4_block6_0_relu (Activation (None, 14, 14, 416)  0           conv4_block6_0_bn[0][0]          \n",
            "__________________________________________________________________________________________________\n",
            "conv4_block6_1_conv (Conv2D)    (None, 14, 14, 128)  53248       conv4_block6_0_relu[0][0]        \n",
            "__________________________________________________________________________________________________\n",
            "conv4_block6_1_bn (BatchNormali (None, 14, 14, 128)  512         conv4_block6_1_conv[0][0]        \n",
            "__________________________________________________________________________________________________\n",
            "conv4_block6_1_relu (Activation (None, 14, 14, 128)  0           conv4_block6_1_bn[0][0]          \n",
            "__________________________________________________________________________________________________\n",
            "conv4_block6_2_conv (Conv2D)    (None, 14, 14, 32)   36864       conv4_block6_1_relu[0][0]        \n",
            "__________________________________________________________________________________________________\n",
            "conv4_block6_concat (Concatenat (None, 14, 14, 448)  0           conv4_block5_concat[0][0]        \n",
            "                                                                 conv4_block6_2_conv[0][0]        \n",
            "__________________________________________________________________________________________________\n",
            "conv4_block7_0_bn (BatchNormali (None, 14, 14, 448)  1792        conv4_block6_concat[0][0]        \n",
            "__________________________________________________________________________________________________\n",
            "conv4_block7_0_relu (Activation (None, 14, 14, 448)  0           conv4_block7_0_bn[0][0]          \n",
            "__________________________________________________________________________________________________\n",
            "conv4_block7_1_conv (Conv2D)    (None, 14, 14, 128)  57344       conv4_block7_0_relu[0][0]        \n",
            "__________________________________________________________________________________________________\n",
            "conv4_block7_1_bn (BatchNormali (None, 14, 14, 128)  512         conv4_block7_1_conv[0][0]        \n",
            "__________________________________________________________________________________________________\n",
            "conv4_block7_1_relu (Activation (None, 14, 14, 128)  0           conv4_block7_1_bn[0][0]          \n",
            "__________________________________________________________________________________________________\n",
            "conv4_block7_2_conv (Conv2D)    (None, 14, 14, 32)   36864       conv4_block7_1_relu[0][0]        \n",
            "__________________________________________________________________________________________________\n",
            "conv4_block7_concat (Concatenat (None, 14, 14, 480)  0           conv4_block6_concat[0][0]        \n",
            "                                                                 conv4_block7_2_conv[0][0]        \n",
            "__________________________________________________________________________________________________\n",
            "conv4_block8_0_bn (BatchNormali (None, 14, 14, 480)  1920        conv4_block7_concat[0][0]        \n",
            "__________________________________________________________________________________________________\n",
            "conv4_block8_0_relu (Activation (None, 14, 14, 480)  0           conv4_block8_0_bn[0][0]          \n",
            "__________________________________________________________________________________________________\n",
            "conv4_block8_1_conv (Conv2D)    (None, 14, 14, 128)  61440       conv4_block8_0_relu[0][0]        \n",
            "__________________________________________________________________________________________________\n",
            "conv4_block8_1_bn (BatchNormali (None, 14, 14, 128)  512         conv4_block8_1_conv[0][0]        \n",
            "__________________________________________________________________________________________________\n",
            "conv4_block8_1_relu (Activation (None, 14, 14, 128)  0           conv4_block8_1_bn[0][0]          \n",
            "__________________________________________________________________________________________________\n",
            "conv4_block8_2_conv (Conv2D)    (None, 14, 14, 32)   36864       conv4_block8_1_relu[0][0]        \n",
            "__________________________________________________________________________________________________\n",
            "conv4_block8_concat (Concatenat (None, 14, 14, 512)  0           conv4_block7_concat[0][0]        \n",
            "                                                                 conv4_block8_2_conv[0][0]        \n",
            "__________________________________________________________________________________________________\n",
            "conv4_block9_0_bn (BatchNormali (None, 14, 14, 512)  2048        conv4_block8_concat[0][0]        \n",
            "__________________________________________________________________________________________________\n",
            "conv4_block9_0_relu (Activation (None, 14, 14, 512)  0           conv4_block9_0_bn[0][0]          \n",
            "__________________________________________________________________________________________________\n",
            "conv4_block9_1_conv (Conv2D)    (None, 14, 14, 128)  65536       conv4_block9_0_relu[0][0]        \n",
            "__________________________________________________________________________________________________\n",
            "conv4_block9_1_bn (BatchNormali (None, 14, 14, 128)  512         conv4_block9_1_conv[0][0]        \n",
            "__________________________________________________________________________________________________\n",
            "conv4_block9_1_relu (Activation (None, 14, 14, 128)  0           conv4_block9_1_bn[0][0]          \n",
            "__________________________________________________________________________________________________\n",
            "conv4_block9_2_conv (Conv2D)    (None, 14, 14, 32)   36864       conv4_block9_1_relu[0][0]        \n",
            "__________________________________________________________________________________________________\n",
            "conv4_block9_concat (Concatenat (None, 14, 14, 544)  0           conv4_block8_concat[0][0]        \n",
            "                                                                 conv4_block9_2_conv[0][0]        \n",
            "__________________________________________________________________________________________________\n",
            "conv4_block10_0_bn (BatchNormal (None, 14, 14, 544)  2176        conv4_block9_concat[0][0]        \n",
            "__________________________________________________________________________________________________\n",
            "conv4_block10_0_relu (Activatio (None, 14, 14, 544)  0           conv4_block10_0_bn[0][0]         \n",
            "__________________________________________________________________________________________________\n",
            "conv4_block10_1_conv (Conv2D)   (None, 14, 14, 128)  69632       conv4_block10_0_relu[0][0]       \n",
            "__________________________________________________________________________________________________\n",
            "conv4_block10_1_bn (BatchNormal (None, 14, 14, 128)  512         conv4_block10_1_conv[0][0]       \n",
            "__________________________________________________________________________________________________\n",
            "conv4_block10_1_relu (Activatio (None, 14, 14, 128)  0           conv4_block10_1_bn[0][0]         \n",
            "__________________________________________________________________________________________________\n",
            "conv4_block10_2_conv (Conv2D)   (None, 14, 14, 32)   36864       conv4_block10_1_relu[0][0]       \n",
            "__________________________________________________________________________________________________\n",
            "conv4_block10_concat (Concatena (None, 14, 14, 576)  0           conv4_block9_concat[0][0]        \n",
            "                                                                 conv4_block10_2_conv[0][0]       \n",
            "__________________________________________________________________________________________________\n",
            "conv4_block11_0_bn (BatchNormal (None, 14, 14, 576)  2304        conv4_block10_concat[0][0]       \n",
            "__________________________________________________________________________________________________\n",
            "conv4_block11_0_relu (Activatio (None, 14, 14, 576)  0           conv4_block11_0_bn[0][0]         \n",
            "__________________________________________________________________________________________________\n",
            "conv4_block11_1_conv (Conv2D)   (None, 14, 14, 128)  73728       conv4_block11_0_relu[0][0]       \n",
            "__________________________________________________________________________________________________\n",
            "conv4_block11_1_bn (BatchNormal (None, 14, 14, 128)  512         conv4_block11_1_conv[0][0]       \n",
            "__________________________________________________________________________________________________\n",
            "conv4_block11_1_relu (Activatio (None, 14, 14, 128)  0           conv4_block11_1_bn[0][0]         \n",
            "__________________________________________________________________________________________________\n",
            "conv4_block11_2_conv (Conv2D)   (None, 14, 14, 32)   36864       conv4_block11_1_relu[0][0]       \n",
            "__________________________________________________________________________________________________\n",
            "conv4_block11_concat (Concatena (None, 14, 14, 608)  0           conv4_block10_concat[0][0]       \n",
            "                                                                 conv4_block11_2_conv[0][0]       \n",
            "__________________________________________________________________________________________________\n",
            "conv4_block12_0_bn (BatchNormal (None, 14, 14, 608)  2432        conv4_block11_concat[0][0]       \n",
            "__________________________________________________________________________________________________\n",
            "conv4_block12_0_relu (Activatio (None, 14, 14, 608)  0           conv4_block12_0_bn[0][0]         \n",
            "__________________________________________________________________________________________________\n",
            "conv4_block12_1_conv (Conv2D)   (None, 14, 14, 128)  77824       conv4_block12_0_relu[0][0]       \n",
            "__________________________________________________________________________________________________\n",
            "conv4_block12_1_bn (BatchNormal (None, 14, 14, 128)  512         conv4_block12_1_conv[0][0]       \n",
            "__________________________________________________________________________________________________\n",
            "conv4_block12_1_relu (Activatio (None, 14, 14, 128)  0           conv4_block12_1_bn[0][0]         \n",
            "__________________________________________________________________________________________________\n",
            "conv4_block12_2_conv (Conv2D)   (None, 14, 14, 32)   36864       conv4_block12_1_relu[0][0]       \n",
            "__________________________________________________________________________________________________\n",
            "conv4_block12_concat (Concatena (None, 14, 14, 640)  0           conv4_block11_concat[0][0]       \n",
            "                                                                 conv4_block12_2_conv[0][0]       \n",
            "__________________________________________________________________________________________________\n",
            "conv4_block13_0_bn (BatchNormal (None, 14, 14, 640)  2560        conv4_block12_concat[0][0]       \n",
            "__________________________________________________________________________________________________\n",
            "conv4_block13_0_relu (Activatio (None, 14, 14, 640)  0           conv4_block13_0_bn[0][0]         \n",
            "__________________________________________________________________________________________________\n",
            "conv4_block13_1_conv (Conv2D)   (None, 14, 14, 128)  81920       conv4_block13_0_relu[0][0]       \n",
            "__________________________________________________________________________________________________\n",
            "conv4_block13_1_bn (BatchNormal (None, 14, 14, 128)  512         conv4_block13_1_conv[0][0]       \n",
            "__________________________________________________________________________________________________\n",
            "conv4_block13_1_relu (Activatio (None, 14, 14, 128)  0           conv4_block13_1_bn[0][0]         \n",
            "__________________________________________________________________________________________________\n",
            "conv4_block13_2_conv (Conv2D)   (None, 14, 14, 32)   36864       conv4_block13_1_relu[0][0]       \n",
            "__________________________________________________________________________________________________\n",
            "conv4_block13_concat (Concatena (None, 14, 14, 672)  0           conv4_block12_concat[0][0]       \n",
            "                                                                 conv4_block13_2_conv[0][0]       \n",
            "__________________________________________________________________________________________________\n",
            "conv4_block14_0_bn (BatchNormal (None, 14, 14, 672)  2688        conv4_block13_concat[0][0]       \n",
            "__________________________________________________________________________________________________\n",
            "conv4_block14_0_relu (Activatio (None, 14, 14, 672)  0           conv4_block14_0_bn[0][0]         \n",
            "__________________________________________________________________________________________________\n",
            "conv4_block14_1_conv (Conv2D)   (None, 14, 14, 128)  86016       conv4_block14_0_relu[0][0]       \n",
            "__________________________________________________________________________________________________\n",
            "conv4_block14_1_bn (BatchNormal (None, 14, 14, 128)  512         conv4_block14_1_conv[0][0]       \n",
            "__________________________________________________________________________________________________\n",
            "conv4_block14_1_relu (Activatio (None, 14, 14, 128)  0           conv4_block14_1_bn[0][0]         \n",
            "__________________________________________________________________________________________________\n",
            "conv4_block14_2_conv (Conv2D)   (None, 14, 14, 32)   36864       conv4_block14_1_relu[0][0]       \n",
            "__________________________________________________________________________________________________\n",
            "conv4_block14_concat (Concatena (None, 14, 14, 704)  0           conv4_block13_concat[0][0]       \n",
            "                                                                 conv4_block14_2_conv[0][0]       \n",
            "__________________________________________________________________________________________________\n",
            "conv4_block15_0_bn (BatchNormal (None, 14, 14, 704)  2816        conv4_block14_concat[0][0]       \n",
            "__________________________________________________________________________________________________\n",
            "conv4_block15_0_relu (Activatio (None, 14, 14, 704)  0           conv4_block15_0_bn[0][0]         \n",
            "__________________________________________________________________________________________________\n",
            "conv4_block15_1_conv (Conv2D)   (None, 14, 14, 128)  90112       conv4_block15_0_relu[0][0]       \n",
            "__________________________________________________________________________________________________\n",
            "conv4_block15_1_bn (BatchNormal (None, 14, 14, 128)  512         conv4_block15_1_conv[0][0]       \n",
            "__________________________________________________________________________________________________\n",
            "conv4_block15_1_relu (Activatio (None, 14, 14, 128)  0           conv4_block15_1_bn[0][0]         \n",
            "__________________________________________________________________________________________________\n",
            "conv4_block15_2_conv (Conv2D)   (None, 14, 14, 32)   36864       conv4_block15_1_relu[0][0]       \n",
            "__________________________________________________________________________________________________\n",
            "conv4_block15_concat (Concatena (None, 14, 14, 736)  0           conv4_block14_concat[0][0]       \n",
            "                                                                 conv4_block15_2_conv[0][0]       \n",
            "__________________________________________________________________________________________________\n",
            "conv4_block16_0_bn (BatchNormal (None, 14, 14, 736)  2944        conv4_block15_concat[0][0]       \n",
            "__________________________________________________________________________________________________\n",
            "conv4_block16_0_relu (Activatio (None, 14, 14, 736)  0           conv4_block16_0_bn[0][0]         \n",
            "__________________________________________________________________________________________________\n",
            "conv4_block16_1_conv (Conv2D)   (None, 14, 14, 128)  94208       conv4_block16_0_relu[0][0]       \n",
            "__________________________________________________________________________________________________\n",
            "conv4_block16_1_bn (BatchNormal (None, 14, 14, 128)  512         conv4_block16_1_conv[0][0]       \n",
            "__________________________________________________________________________________________________\n",
            "conv4_block16_1_relu (Activatio (None, 14, 14, 128)  0           conv4_block16_1_bn[0][0]         \n",
            "__________________________________________________________________________________________________\n",
            "conv4_block16_2_conv (Conv2D)   (None, 14, 14, 32)   36864       conv4_block16_1_relu[0][0]       \n",
            "__________________________________________________________________________________________________\n",
            "conv4_block16_concat (Concatena (None, 14, 14, 768)  0           conv4_block15_concat[0][0]       \n",
            "                                                                 conv4_block16_2_conv[0][0]       \n",
            "__________________________________________________________________________________________________\n",
            "conv4_block17_0_bn (BatchNormal (None, 14, 14, 768)  3072        conv4_block16_concat[0][0]       \n",
            "__________________________________________________________________________________________________\n",
            "conv4_block17_0_relu (Activatio (None, 14, 14, 768)  0           conv4_block17_0_bn[0][0]         \n",
            "__________________________________________________________________________________________________\n",
            "conv4_block17_1_conv (Conv2D)   (None, 14, 14, 128)  98304       conv4_block17_0_relu[0][0]       \n",
            "__________________________________________________________________________________________________\n",
            "conv4_block17_1_bn (BatchNormal (None, 14, 14, 128)  512         conv4_block17_1_conv[0][0]       \n",
            "__________________________________________________________________________________________________\n",
            "conv4_block17_1_relu (Activatio (None, 14, 14, 128)  0           conv4_block17_1_bn[0][0]         \n",
            "__________________________________________________________________________________________________\n",
            "conv4_block17_2_conv (Conv2D)   (None, 14, 14, 32)   36864       conv4_block17_1_relu[0][0]       \n",
            "__________________________________________________________________________________________________\n",
            "conv4_block17_concat (Concatena (None, 14, 14, 800)  0           conv4_block16_concat[0][0]       \n",
            "                                                                 conv4_block17_2_conv[0][0]       \n",
            "__________________________________________________________________________________________________\n",
            "conv4_block18_0_bn (BatchNormal (None, 14, 14, 800)  3200        conv4_block17_concat[0][0]       \n",
            "__________________________________________________________________________________________________\n",
            "conv4_block18_0_relu (Activatio (None, 14, 14, 800)  0           conv4_block18_0_bn[0][0]         \n",
            "__________________________________________________________________________________________________\n",
            "conv4_block18_1_conv (Conv2D)   (None, 14, 14, 128)  102400      conv4_block18_0_relu[0][0]       \n",
            "__________________________________________________________________________________________________\n",
            "conv4_block18_1_bn (BatchNormal (None, 14, 14, 128)  512         conv4_block18_1_conv[0][0]       \n",
            "__________________________________________________________________________________________________\n",
            "conv4_block18_1_relu (Activatio (None, 14, 14, 128)  0           conv4_block18_1_bn[0][0]         \n",
            "__________________________________________________________________________________________________\n",
            "conv4_block18_2_conv (Conv2D)   (None, 14, 14, 32)   36864       conv4_block18_1_relu[0][0]       \n",
            "__________________________________________________________________________________________________\n",
            "conv4_block18_concat (Concatena (None, 14, 14, 832)  0           conv4_block17_concat[0][0]       \n",
            "                                                                 conv4_block18_2_conv[0][0]       \n",
            "__________________________________________________________________________________________________\n",
            "conv4_block19_0_bn (BatchNormal (None, 14, 14, 832)  3328        conv4_block18_concat[0][0]       \n",
            "__________________________________________________________________________________________________\n",
            "conv4_block19_0_relu (Activatio (None, 14, 14, 832)  0           conv4_block19_0_bn[0][0]         \n",
            "__________________________________________________________________________________________________\n",
            "conv4_block19_1_conv (Conv2D)   (None, 14, 14, 128)  106496      conv4_block19_0_relu[0][0]       \n",
            "__________________________________________________________________________________________________\n",
            "conv4_block19_1_bn (BatchNormal (None, 14, 14, 128)  512         conv4_block19_1_conv[0][0]       \n",
            "__________________________________________________________________________________________________\n",
            "conv4_block19_1_relu (Activatio (None, 14, 14, 128)  0           conv4_block19_1_bn[0][0]         \n",
            "__________________________________________________________________________________________________\n",
            "conv4_block19_2_conv (Conv2D)   (None, 14, 14, 32)   36864       conv4_block19_1_relu[0][0]       \n",
            "__________________________________________________________________________________________________\n",
            "conv4_block19_concat (Concatena (None, 14, 14, 864)  0           conv4_block18_concat[0][0]       \n",
            "                                                                 conv4_block19_2_conv[0][0]       \n",
            "__________________________________________________________________________________________________\n",
            "conv4_block20_0_bn (BatchNormal (None, 14, 14, 864)  3456        conv4_block19_concat[0][0]       \n",
            "__________________________________________________________________________________________________\n",
            "conv4_block20_0_relu (Activatio (None, 14, 14, 864)  0           conv4_block20_0_bn[0][0]         \n",
            "__________________________________________________________________________________________________\n",
            "conv4_block20_1_conv (Conv2D)   (None, 14, 14, 128)  110592      conv4_block20_0_relu[0][0]       \n",
            "__________________________________________________________________________________________________\n",
            "conv4_block20_1_bn (BatchNormal (None, 14, 14, 128)  512         conv4_block20_1_conv[0][0]       \n",
            "__________________________________________________________________________________________________\n",
            "conv4_block20_1_relu (Activatio (None, 14, 14, 128)  0           conv4_block20_1_bn[0][0]         \n",
            "__________________________________________________________________________________________________\n",
            "conv4_block20_2_conv (Conv2D)   (None, 14, 14, 32)   36864       conv4_block20_1_relu[0][0]       \n",
            "__________________________________________________________________________________________________\n",
            "conv4_block20_concat (Concatena (None, 14, 14, 896)  0           conv4_block19_concat[0][0]       \n",
            "                                                                 conv4_block20_2_conv[0][0]       \n",
            "__________________________________________________________________________________________________\n",
            "conv4_block21_0_bn (BatchNormal (None, 14, 14, 896)  3584        conv4_block20_concat[0][0]       \n",
            "__________________________________________________________________________________________________\n",
            "conv4_block21_0_relu (Activatio (None, 14, 14, 896)  0           conv4_block21_0_bn[0][0]         \n",
            "__________________________________________________________________________________________________\n",
            "conv4_block21_1_conv (Conv2D)   (None, 14, 14, 128)  114688      conv4_block21_0_relu[0][0]       \n",
            "__________________________________________________________________________________________________\n",
            "conv4_block21_1_bn (BatchNormal (None, 14, 14, 128)  512         conv4_block21_1_conv[0][0]       \n",
            "__________________________________________________________________________________________________\n",
            "conv4_block21_1_relu (Activatio (None, 14, 14, 128)  0           conv4_block21_1_bn[0][0]         \n",
            "__________________________________________________________________________________________________\n",
            "conv4_block21_2_conv (Conv2D)   (None, 14, 14, 32)   36864       conv4_block21_1_relu[0][0]       \n",
            "__________________________________________________________________________________________________\n",
            "conv4_block21_concat (Concatena (None, 14, 14, 928)  0           conv4_block20_concat[0][0]       \n",
            "                                                                 conv4_block21_2_conv[0][0]       \n",
            "__________________________________________________________________________________________________\n",
            "conv4_block22_0_bn (BatchNormal (None, 14, 14, 928)  3712        conv4_block21_concat[0][0]       \n",
            "__________________________________________________________________________________________________\n",
            "conv4_block22_0_relu (Activatio (None, 14, 14, 928)  0           conv4_block22_0_bn[0][0]         \n",
            "__________________________________________________________________________________________________\n",
            "conv4_block22_1_conv (Conv2D)   (None, 14, 14, 128)  118784      conv4_block22_0_relu[0][0]       \n",
            "__________________________________________________________________________________________________\n",
            "conv4_block22_1_bn (BatchNormal (None, 14, 14, 128)  512         conv4_block22_1_conv[0][0]       \n",
            "__________________________________________________________________________________________________\n",
            "conv4_block22_1_relu (Activatio (None, 14, 14, 128)  0           conv4_block22_1_bn[0][0]         \n",
            "__________________________________________________________________________________________________\n",
            "conv4_block22_2_conv (Conv2D)   (None, 14, 14, 32)   36864       conv4_block22_1_relu[0][0]       \n",
            "__________________________________________________________________________________________________\n",
            "conv4_block22_concat (Concatena (None, 14, 14, 960)  0           conv4_block21_concat[0][0]       \n",
            "                                                                 conv4_block22_2_conv[0][0]       \n",
            "__________________________________________________________________________________________________\n",
            "conv4_block23_0_bn (BatchNormal (None, 14, 14, 960)  3840        conv4_block22_concat[0][0]       \n",
            "__________________________________________________________________________________________________\n",
            "conv4_block23_0_relu (Activatio (None, 14, 14, 960)  0           conv4_block23_0_bn[0][0]         \n",
            "__________________________________________________________________________________________________\n",
            "conv4_block23_1_conv (Conv2D)   (None, 14, 14, 128)  122880      conv4_block23_0_relu[0][0]       \n",
            "__________________________________________________________________________________________________\n",
            "conv4_block23_1_bn (BatchNormal (None, 14, 14, 128)  512         conv4_block23_1_conv[0][0]       \n",
            "__________________________________________________________________________________________________\n",
            "conv4_block23_1_relu (Activatio (None, 14, 14, 128)  0           conv4_block23_1_bn[0][0]         \n",
            "__________________________________________________________________________________________________\n",
            "conv4_block23_2_conv (Conv2D)   (None, 14, 14, 32)   36864       conv4_block23_1_relu[0][0]       \n",
            "__________________________________________________________________________________________________\n",
            "conv4_block23_concat (Concatena (None, 14, 14, 992)  0           conv4_block22_concat[0][0]       \n",
            "                                                                 conv4_block23_2_conv[0][0]       \n",
            "__________________________________________________________________________________________________\n",
            "conv4_block24_0_bn (BatchNormal (None, 14, 14, 992)  3968        conv4_block23_concat[0][0]       \n",
            "__________________________________________________________________________________________________\n",
            "conv4_block24_0_relu (Activatio (None, 14, 14, 992)  0           conv4_block24_0_bn[0][0]         \n",
            "__________________________________________________________________________________________________\n",
            "conv4_block24_1_conv (Conv2D)   (None, 14, 14, 128)  126976      conv4_block24_0_relu[0][0]       \n",
            "__________________________________________________________________________________________________\n",
            "conv4_block24_1_bn (BatchNormal (None, 14, 14, 128)  512         conv4_block24_1_conv[0][0]       \n",
            "__________________________________________________________________________________________________\n",
            "conv4_block24_1_relu (Activatio (None, 14, 14, 128)  0           conv4_block24_1_bn[0][0]         \n",
            "__________________________________________________________________________________________________\n",
            "conv4_block24_2_conv (Conv2D)   (None, 14, 14, 32)   36864       conv4_block24_1_relu[0][0]       \n",
            "__________________________________________________________________________________________________\n",
            "conv4_block24_concat (Concatena (None, 14, 14, 1024) 0           conv4_block23_concat[0][0]       \n",
            "                                                                 conv4_block24_2_conv[0][0]       \n",
            "__________________________________________________________________________________________________\n",
            "pool4_bn (BatchNormalization)   (None, 14, 14, 1024) 4096        conv4_block24_concat[0][0]       \n",
            "__________________________________________________________________________________________________\n",
            "pool4_relu (Activation)         (None, 14, 14, 1024) 0           pool4_bn[0][0]                   \n",
            "__________________________________________________________________________________________________\n",
            "pool4_conv (Conv2D)             (None, 14, 14, 512)  524288      pool4_relu[0][0]                 \n",
            "__________________________________________________________________________________________________\n",
            "pool4_pool (AveragePooling2D)   (None, 7, 7, 512)    0           pool4_conv[0][0]                 \n",
            "__________________________________________________________________________________________________\n",
            "conv5_block1_0_bn (BatchNormali (None, 7, 7, 512)    2048        pool4_pool[0][0]                 \n",
            "__________________________________________________________________________________________________\n",
            "conv5_block1_0_relu (Activation (None, 7, 7, 512)    0           conv5_block1_0_bn[0][0]          \n",
            "__________________________________________________________________________________________________\n",
            "conv5_block1_1_conv (Conv2D)    (None, 7, 7, 128)    65536       conv5_block1_0_relu[0][0]        \n",
            "__________________________________________________________________________________________________\n",
            "conv5_block1_1_bn (BatchNormali (None, 7, 7, 128)    512         conv5_block1_1_conv[0][0]        \n",
            "__________________________________________________________________________________________________\n",
            "conv5_block1_1_relu (Activation (None, 7, 7, 128)    0           conv5_block1_1_bn[0][0]          \n",
            "__________________________________________________________________________________________________\n",
            "conv5_block1_2_conv (Conv2D)    (None, 7, 7, 32)     36864       conv5_block1_1_relu[0][0]        \n",
            "__________________________________________________________________________________________________\n",
            "conv5_block1_concat (Concatenat (None, 7, 7, 544)    0           pool4_pool[0][0]                 \n",
            "                                                                 conv5_block1_2_conv[0][0]        \n",
            "__________________________________________________________________________________________________\n",
            "conv5_block2_0_bn (BatchNormali (None, 7, 7, 544)    2176        conv5_block1_concat[0][0]        \n",
            "__________________________________________________________________________________________________\n",
            "conv5_block2_0_relu (Activation (None, 7, 7, 544)    0           conv5_block2_0_bn[0][0]          \n",
            "__________________________________________________________________________________________________\n",
            "conv5_block2_1_conv (Conv2D)    (None, 7, 7, 128)    69632       conv5_block2_0_relu[0][0]        \n",
            "__________________________________________________________________________________________________\n",
            "conv5_block2_1_bn (BatchNormali (None, 7, 7, 128)    512         conv5_block2_1_conv[0][0]        \n",
            "__________________________________________________________________________________________________\n",
            "conv5_block2_1_relu (Activation (None, 7, 7, 128)    0           conv5_block2_1_bn[0][0]          \n",
            "__________________________________________________________________________________________________\n",
            "conv5_block2_2_conv (Conv2D)    (None, 7, 7, 32)     36864       conv5_block2_1_relu[0][0]        \n",
            "__________________________________________________________________________________________________\n",
            "conv5_block2_concat (Concatenat (None, 7, 7, 576)    0           conv5_block1_concat[0][0]        \n",
            "                                                                 conv5_block2_2_conv[0][0]        \n",
            "__________________________________________________________________________________________________\n",
            "conv5_block3_0_bn (BatchNormali (None, 7, 7, 576)    2304        conv5_block2_concat[0][0]        \n",
            "__________________________________________________________________________________________________\n",
            "conv5_block3_0_relu (Activation (None, 7, 7, 576)    0           conv5_block3_0_bn[0][0]          \n",
            "__________________________________________________________________________________________________\n",
            "conv5_block3_1_conv (Conv2D)    (None, 7, 7, 128)    73728       conv5_block3_0_relu[0][0]        \n",
            "__________________________________________________________________________________________________\n",
            "conv5_block3_1_bn (BatchNormali (None, 7, 7, 128)    512         conv5_block3_1_conv[0][0]        \n",
            "__________________________________________________________________________________________________\n",
            "conv5_block3_1_relu (Activation (None, 7, 7, 128)    0           conv5_block3_1_bn[0][0]          \n",
            "__________________________________________________________________________________________________\n",
            "conv5_block3_2_conv (Conv2D)    (None, 7, 7, 32)     36864       conv5_block3_1_relu[0][0]        \n",
            "__________________________________________________________________________________________________\n",
            "conv5_block3_concat (Concatenat (None, 7, 7, 608)    0           conv5_block2_concat[0][0]        \n",
            "                                                                 conv5_block3_2_conv[0][0]        \n",
            "__________________________________________________________________________________________________\n",
            "conv5_block4_0_bn (BatchNormali (None, 7, 7, 608)    2432        conv5_block3_concat[0][0]        \n",
            "__________________________________________________________________________________________________\n",
            "conv5_block4_0_relu (Activation (None, 7, 7, 608)    0           conv5_block4_0_bn[0][0]          \n",
            "__________________________________________________________________________________________________\n",
            "conv5_block4_1_conv (Conv2D)    (None, 7, 7, 128)    77824       conv5_block4_0_relu[0][0]        \n",
            "__________________________________________________________________________________________________\n",
            "conv5_block4_1_bn (BatchNormali (None, 7, 7, 128)    512         conv5_block4_1_conv[0][0]        \n",
            "__________________________________________________________________________________________________\n",
            "conv5_block4_1_relu (Activation (None, 7, 7, 128)    0           conv5_block4_1_bn[0][0]          \n",
            "__________________________________________________________________________________________________\n",
            "conv5_block4_2_conv (Conv2D)    (None, 7, 7, 32)     36864       conv5_block4_1_relu[0][0]        \n",
            "__________________________________________________________________________________________________\n",
            "conv5_block4_concat (Concatenat (None, 7, 7, 640)    0           conv5_block3_concat[0][0]        \n",
            "                                                                 conv5_block4_2_conv[0][0]        \n",
            "__________________________________________________________________________________________________\n",
            "conv5_block5_0_bn (BatchNormali (None, 7, 7, 640)    2560        conv5_block4_concat[0][0]        \n",
            "__________________________________________________________________________________________________\n",
            "conv5_block5_0_relu (Activation (None, 7, 7, 640)    0           conv5_block5_0_bn[0][0]          \n",
            "__________________________________________________________________________________________________\n",
            "conv5_block5_1_conv (Conv2D)    (None, 7, 7, 128)    81920       conv5_block5_0_relu[0][0]        \n",
            "__________________________________________________________________________________________________\n",
            "conv5_block5_1_bn (BatchNormali (None, 7, 7, 128)    512         conv5_block5_1_conv[0][0]        \n",
            "__________________________________________________________________________________________________\n",
            "conv5_block5_1_relu (Activation (None, 7, 7, 128)    0           conv5_block5_1_bn[0][0]          \n",
            "__________________________________________________________________________________________________\n",
            "conv5_block5_2_conv (Conv2D)    (None, 7, 7, 32)     36864       conv5_block5_1_relu[0][0]        \n",
            "__________________________________________________________________________________________________\n",
            "conv5_block5_concat (Concatenat (None, 7, 7, 672)    0           conv5_block4_concat[0][0]        \n",
            "                                                                 conv5_block5_2_conv[0][0]        \n",
            "__________________________________________________________________________________________________\n",
            "conv5_block6_0_bn (BatchNormali (None, 7, 7, 672)    2688        conv5_block5_concat[0][0]        \n",
            "__________________________________________________________________________________________________\n",
            "conv5_block6_0_relu (Activation (None, 7, 7, 672)    0           conv5_block6_0_bn[0][0]          \n",
            "__________________________________________________________________________________________________\n",
            "conv5_block6_1_conv (Conv2D)    (None, 7, 7, 128)    86016       conv5_block6_0_relu[0][0]        \n",
            "__________________________________________________________________________________________________\n",
            "conv5_block6_1_bn (BatchNormali (None, 7, 7, 128)    512         conv5_block6_1_conv[0][0]        \n",
            "__________________________________________________________________________________________________\n",
            "conv5_block6_1_relu (Activation (None, 7, 7, 128)    0           conv5_block6_1_bn[0][0]          \n",
            "__________________________________________________________________________________________________\n",
            "conv5_block6_2_conv (Conv2D)    (None, 7, 7, 32)     36864       conv5_block6_1_relu[0][0]        \n",
            "__________________________________________________________________________________________________\n",
            "conv5_block6_concat (Concatenat (None, 7, 7, 704)    0           conv5_block5_concat[0][0]        \n",
            "                                                                 conv5_block6_2_conv[0][0]        \n",
            "__________________________________________________________________________________________________\n",
            "conv5_block7_0_bn (BatchNormali (None, 7, 7, 704)    2816        conv5_block6_concat[0][0]        \n",
            "__________________________________________________________________________________________________\n",
            "conv5_block7_0_relu (Activation (None, 7, 7, 704)    0           conv5_block7_0_bn[0][0]          \n",
            "__________________________________________________________________________________________________\n",
            "conv5_block7_1_conv (Conv2D)    (None, 7, 7, 128)    90112       conv5_block7_0_relu[0][0]        \n",
            "__________________________________________________________________________________________________\n",
            "conv5_block7_1_bn (BatchNormali (None, 7, 7, 128)    512         conv5_block7_1_conv[0][0]        \n",
            "__________________________________________________________________________________________________\n",
            "conv5_block7_1_relu (Activation (None, 7, 7, 128)    0           conv5_block7_1_bn[0][0]          \n",
            "__________________________________________________________________________________________________\n",
            "conv5_block7_2_conv (Conv2D)    (None, 7, 7, 32)     36864       conv5_block7_1_relu[0][0]        \n",
            "__________________________________________________________________________________________________\n",
            "conv5_block7_concat (Concatenat (None, 7, 7, 736)    0           conv5_block6_concat[0][0]        \n",
            "                                                                 conv5_block7_2_conv[0][0]        \n",
            "__________________________________________________________________________________________________\n",
            "conv5_block8_0_bn (BatchNormali (None, 7, 7, 736)    2944        conv5_block7_concat[0][0]        \n",
            "__________________________________________________________________________________________________\n",
            "conv5_block8_0_relu (Activation (None, 7, 7, 736)    0           conv5_block8_0_bn[0][0]          \n",
            "__________________________________________________________________________________________________\n",
            "conv5_block8_1_conv (Conv2D)    (None, 7, 7, 128)    94208       conv5_block8_0_relu[0][0]        \n",
            "__________________________________________________________________________________________________\n",
            "conv5_block8_1_bn (BatchNormali (None, 7, 7, 128)    512         conv5_block8_1_conv[0][0]        \n",
            "__________________________________________________________________________________________________\n",
            "conv5_block8_1_relu (Activation (None, 7, 7, 128)    0           conv5_block8_1_bn[0][0]          \n",
            "__________________________________________________________________________________________________\n",
            "conv5_block8_2_conv (Conv2D)    (None, 7, 7, 32)     36864       conv5_block8_1_relu[0][0]        \n",
            "__________________________________________________________________________________________________\n",
            "conv5_block8_concat (Concatenat (None, 7, 7, 768)    0           conv5_block7_concat[0][0]        \n",
            "                                                                 conv5_block8_2_conv[0][0]        \n",
            "__________________________________________________________________________________________________\n",
            "conv5_block9_0_bn (BatchNormali (None, 7, 7, 768)    3072        conv5_block8_concat[0][0]        \n",
            "__________________________________________________________________________________________________\n",
            "conv5_block9_0_relu (Activation (None, 7, 7, 768)    0           conv5_block9_0_bn[0][0]          \n",
            "__________________________________________________________________________________________________\n",
            "conv5_block9_1_conv (Conv2D)    (None, 7, 7, 128)    98304       conv5_block9_0_relu[0][0]        \n",
            "__________________________________________________________________________________________________\n",
            "conv5_block9_1_bn (BatchNormali (None, 7, 7, 128)    512         conv5_block9_1_conv[0][0]        \n",
            "__________________________________________________________________________________________________\n",
            "conv5_block9_1_relu (Activation (None, 7, 7, 128)    0           conv5_block9_1_bn[0][0]          \n",
            "__________________________________________________________________________________________________\n",
            "conv5_block9_2_conv (Conv2D)    (None, 7, 7, 32)     36864       conv5_block9_1_relu[0][0]        \n",
            "__________________________________________________________________________________________________\n",
            "conv5_block9_concat (Concatenat (None, 7, 7, 800)    0           conv5_block8_concat[0][0]        \n",
            "                                                                 conv5_block9_2_conv[0][0]        \n",
            "__________________________________________________________________________________________________\n",
            "conv5_block10_0_bn (BatchNormal (None, 7, 7, 800)    3200        conv5_block9_concat[0][0]        \n",
            "__________________________________________________________________________________________________\n",
            "conv5_block10_0_relu (Activatio (None, 7, 7, 800)    0           conv5_block10_0_bn[0][0]         \n",
            "__________________________________________________________________________________________________\n",
            "conv5_block10_1_conv (Conv2D)   (None, 7, 7, 128)    102400      conv5_block10_0_relu[0][0]       \n",
            "__________________________________________________________________________________________________\n",
            "conv5_block10_1_bn (BatchNormal (None, 7, 7, 128)    512         conv5_block10_1_conv[0][0]       \n",
            "__________________________________________________________________________________________________\n",
            "conv5_block10_1_relu (Activatio (None, 7, 7, 128)    0           conv5_block10_1_bn[0][0]         \n",
            "__________________________________________________________________________________________________\n",
            "conv5_block10_2_conv (Conv2D)   (None, 7, 7, 32)     36864       conv5_block10_1_relu[0][0]       \n",
            "__________________________________________________________________________________________________\n",
            "conv5_block10_concat (Concatena (None, 7, 7, 832)    0           conv5_block9_concat[0][0]        \n",
            "                                                                 conv5_block10_2_conv[0][0]       \n",
            "__________________________________________________________________________________________________\n",
            "conv5_block11_0_bn (BatchNormal (None, 7, 7, 832)    3328        conv5_block10_concat[0][0]       \n",
            "__________________________________________________________________________________________________\n",
            "conv5_block11_0_relu (Activatio (None, 7, 7, 832)    0           conv5_block11_0_bn[0][0]         \n",
            "__________________________________________________________________________________________________\n",
            "conv5_block11_1_conv (Conv2D)   (None, 7, 7, 128)    106496      conv5_block11_0_relu[0][0]       \n",
            "__________________________________________________________________________________________________\n",
            "conv5_block11_1_bn (BatchNormal (None, 7, 7, 128)    512         conv5_block11_1_conv[0][0]       \n",
            "__________________________________________________________________________________________________\n",
            "conv5_block11_1_relu (Activatio (None, 7, 7, 128)    0           conv5_block11_1_bn[0][0]         \n",
            "__________________________________________________________________________________________________\n",
            "conv5_block11_2_conv (Conv2D)   (None, 7, 7, 32)     36864       conv5_block11_1_relu[0][0]       \n",
            "__________________________________________________________________________________________________\n",
            "conv5_block11_concat (Concatena (None, 7, 7, 864)    0           conv5_block10_concat[0][0]       \n",
            "                                                                 conv5_block11_2_conv[0][0]       \n",
            "__________________________________________________________________________________________________\n",
            "conv5_block12_0_bn (BatchNormal (None, 7, 7, 864)    3456        conv5_block11_concat[0][0]       \n",
            "__________________________________________________________________________________________________\n",
            "conv5_block12_0_relu (Activatio (None, 7, 7, 864)    0           conv5_block12_0_bn[0][0]         \n",
            "__________________________________________________________________________________________________\n",
            "conv5_block12_1_conv (Conv2D)   (None, 7, 7, 128)    110592      conv5_block12_0_relu[0][0]       \n",
            "__________________________________________________________________________________________________\n",
            "conv5_block12_1_bn (BatchNormal (None, 7, 7, 128)    512         conv5_block12_1_conv[0][0]       \n",
            "__________________________________________________________________________________________________\n",
            "conv5_block12_1_relu (Activatio (None, 7, 7, 128)    0           conv5_block12_1_bn[0][0]         \n",
            "__________________________________________________________________________________________________\n",
            "conv5_block12_2_conv (Conv2D)   (None, 7, 7, 32)     36864       conv5_block12_1_relu[0][0]       \n",
            "__________________________________________________________________________________________________\n",
            "conv5_block12_concat (Concatena (None, 7, 7, 896)    0           conv5_block11_concat[0][0]       \n",
            "                                                                 conv5_block12_2_conv[0][0]       \n",
            "__________________________________________________________________________________________________\n",
            "conv5_block13_0_bn (BatchNormal (None, 7, 7, 896)    3584        conv5_block12_concat[0][0]       \n",
            "__________________________________________________________________________________________________\n",
            "conv5_block13_0_relu (Activatio (None, 7, 7, 896)    0           conv5_block13_0_bn[0][0]         \n",
            "__________________________________________________________________________________________________\n",
            "conv5_block13_1_conv (Conv2D)   (None, 7, 7, 128)    114688      conv5_block13_0_relu[0][0]       \n",
            "__________________________________________________________________________________________________\n",
            "conv5_block13_1_bn (BatchNormal (None, 7, 7, 128)    512         conv5_block13_1_conv[0][0]       \n",
            "__________________________________________________________________________________________________\n",
            "conv5_block13_1_relu (Activatio (None, 7, 7, 128)    0           conv5_block13_1_bn[0][0]         \n",
            "__________________________________________________________________________________________________\n",
            "conv5_block13_2_conv (Conv2D)   (None, 7, 7, 32)     36864       conv5_block13_1_relu[0][0]       \n",
            "__________________________________________________________________________________________________\n",
            "conv5_block13_concat (Concatena (None, 7, 7, 928)    0           conv5_block12_concat[0][0]       \n",
            "                                                                 conv5_block13_2_conv[0][0]       \n",
            "__________________________________________________________________________________________________\n",
            "conv5_block14_0_bn (BatchNormal (None, 7, 7, 928)    3712        conv5_block13_concat[0][0]       \n",
            "__________________________________________________________________________________________________\n",
            "conv5_block14_0_relu (Activatio (None, 7, 7, 928)    0           conv5_block14_0_bn[0][0]         \n",
            "__________________________________________________________________________________________________\n",
            "conv5_block14_1_conv (Conv2D)   (None, 7, 7, 128)    118784      conv5_block14_0_relu[0][0]       \n",
            "__________________________________________________________________________________________________\n",
            "conv5_block14_1_bn (BatchNormal (None, 7, 7, 128)    512         conv5_block14_1_conv[0][0]       \n",
            "__________________________________________________________________________________________________\n",
            "conv5_block14_1_relu (Activatio (None, 7, 7, 128)    0           conv5_block14_1_bn[0][0]         \n",
            "__________________________________________________________________________________________________\n",
            "conv5_block14_2_conv (Conv2D)   (None, 7, 7, 32)     36864       conv5_block14_1_relu[0][0]       \n",
            "__________________________________________________________________________________________________\n",
            "conv5_block14_concat (Concatena (None, 7, 7, 960)    0           conv5_block13_concat[0][0]       \n",
            "                                                                 conv5_block14_2_conv[0][0]       \n",
            "__________________________________________________________________________________________________\n",
            "conv5_block15_0_bn (BatchNormal (None, 7, 7, 960)    3840        conv5_block14_concat[0][0]       \n",
            "__________________________________________________________________________________________________\n",
            "conv5_block15_0_relu (Activatio (None, 7, 7, 960)    0           conv5_block15_0_bn[0][0]         \n",
            "__________________________________________________________________________________________________\n",
            "conv5_block15_1_conv (Conv2D)   (None, 7, 7, 128)    122880      conv5_block15_0_relu[0][0]       \n",
            "__________________________________________________________________________________________________\n",
            "conv5_block15_1_bn (BatchNormal (None, 7, 7, 128)    512         conv5_block15_1_conv[0][0]       \n",
            "__________________________________________________________________________________________________\n",
            "conv5_block15_1_relu (Activatio (None, 7, 7, 128)    0           conv5_block15_1_bn[0][0]         \n",
            "__________________________________________________________________________________________________\n",
            "conv5_block15_2_conv (Conv2D)   (None, 7, 7, 32)     36864       conv5_block15_1_relu[0][0]       \n",
            "__________________________________________________________________________________________________\n",
            "conv5_block15_concat (Concatena (None, 7, 7, 992)    0           conv5_block14_concat[0][0]       \n",
            "                                                                 conv5_block15_2_conv[0][0]       \n",
            "__________________________________________________________________________________________________\n",
            "conv5_block16_0_bn (BatchNormal (None, 7, 7, 992)    3968        conv5_block15_concat[0][0]       \n",
            "__________________________________________________________________________________________________\n",
            "conv5_block16_0_relu (Activatio (None, 7, 7, 992)    0           conv5_block16_0_bn[0][0]         \n",
            "__________________________________________________________________________________________________\n",
            "conv5_block16_1_conv (Conv2D)   (None, 7, 7, 128)    126976      conv5_block16_0_relu[0][0]       \n",
            "__________________________________________________________________________________________________\n",
            "conv5_block16_1_bn (BatchNormal (None, 7, 7, 128)    512         conv5_block16_1_conv[0][0]       \n",
            "__________________________________________________________________________________________________\n",
            "conv5_block16_1_relu (Activatio (None, 7, 7, 128)    0           conv5_block16_1_bn[0][0]         \n",
            "__________________________________________________________________________________________________\n",
            "conv5_block16_2_conv (Conv2D)   (None, 7, 7, 32)     36864       conv5_block16_1_relu[0][0]       \n",
            "__________________________________________________________________________________________________\n",
            "conv5_block16_concat (Concatena (None, 7, 7, 1024)   0           conv5_block15_concat[0][0]       \n",
            "                                                                 conv5_block16_2_conv[0][0]       \n",
            "__________________________________________________________________________________________________\n",
            "bn (BatchNormalization)         (None, 7, 7, 1024)   4096        conv5_block16_concat[0][0]       \n",
            "__________________________________________________________________________________________________\n",
            "relu (Activation)               (None, 7, 7, 1024)   0           bn[0][0]                         \n",
            "__________________________________________________________________________________________________\n",
            "global_average_pooling2d (Globa (None, 1024)         0           relu[0][0]                       \n",
            "__________________________________________________________________________________________________\n",
            "dense (Dense)                   (None, 512)          524800      global_average_pooling2d[0][0]   \n",
            "__________________________________________________________________________________________________\n",
            "batch_normalization (BatchNorma (None, 512)          2048        dense[0][0]                      \n",
            "__________________________________________________________________________________________________\n",
            "dropout (Dropout)               (None, 512)          0           batch_normalization[0][0]        \n",
            "__________________________________________________________________________________________________\n",
            "dense_1 (Dense)                 (None, 2)            1026        dropout[0][0]                    \n",
            "==================================================================================================\n",
            "Total params: 7,565,378\n",
            "Trainable params: 526,850\n",
            "Non-trainable params: 7,038,528\n",
            "__________________________________________________________________________________________________\n"
          ]
        }
      ]
    },
    {
      "cell_type": "code",
      "metadata": {
        "id": "dfQnkRHAwwch"
      },
      "source": [
        "#Data augmentation\n",
        "datagen = tf.keras.preprocessing.image.ImageDataGenerator(\n",
        "    rotation_range = 10,\n",
        "    width_shift_range = 0.1,\n",
        "    height_shift_range = 0.1)\n",
        "\n",
        "datagen.fit(X_train)"
      ],
      "execution_count": null,
      "outputs": []
    },
    {
      "cell_type": "markdown",
      "metadata": {
        "id": "BJ3rE3vwk8uv"
      },
      "source": [
        "## Train model"
      ]
    },
    {
      "cell_type": "code",
      "metadata": {
        "id": "WpiLFkyRkYkH"
      },
      "source": [
        "EPOCHS = 10\n",
        "BATCH = 32\n",
        "STEP = 30\n",
        "CHECK_POINT = '/content/drive/MyDrive/aom_AI/Covid19'\n",
        "#load weight \n",
        "cxr_pretrained_densenet.load_weights(CHECK_POINT + '/my_model_densenet_weights.h5')\n",
        "cxr_pretrained_densenet.compile(loss = 'binary_crossentropy', optimizer = Adam(learning_rate = 1e-4), metrics = ['accuracy'])"
      ],
      "execution_count": null,
      "outputs": []
    },
    {
      "cell_type": "code",
      "metadata": {
        "id": "iPZm_70zwfOQ"
      },
      "source": [
        "#เอาไว้ callback model\n",
        "densenet121_pretrained_callback = ModelCheckpoint(CHECK_POINT + \"/COVID19_pretrained_densenet121.ckpt\", verbose = 0)"
      ],
      "execution_count": null,
      "outputs": []
    },
    {
      "cell_type": "code",
      "metadata": {
        "id": "8llI9MbZwg5-",
        "colab": {
          "base_uri": "https://localhost:8080/"
        },
        "outputId": "e094d564-1fb8-42ea-86fa-fe8ac6e47c09"
      },
      "source": [
        "tf.random.set_seed(9559)\n",
        "densenet121_history = cxr_pretrained_densenet.fit(datagen.flow(X_train, y_train,\n",
        "                                                              batch_size = BATCH),\n",
        "                                                              epochs = EPOCHS,\n",
        "                                                              steps_per_epoch = STEP,                                                              \n",
        "                                                              validation_data = (X_val, y_val),\n",
        "                                                              verbose = 1,\n",
        "                                                              callbacks = [densenet121_pretrained_callback])"
      ],
      "execution_count": null,
      "outputs": [
        {
          "output_type": "stream",
          "name": "stdout",
          "text": [
            "Epoch 1/10\n",
            "30/30 [==============================] - 60s 729ms/step - loss: 0.3434 - accuracy: 0.8687 - val_loss: 0.4369 - val_accuracy: 0.7778\n",
            "INFO:tensorflow:Assets written to: /content/drive/MyDrive/aom_AI/Covid19/COVID19_pretrained_densenet121.ckpt/assets\n",
            "Epoch 2/10\n",
            "30/30 [==============================] - 18s 597ms/step - loss: 0.3775 - accuracy: 0.8458 - val_loss: 0.3155 - val_accuracy: 0.8889\n",
            "INFO:tensorflow:Assets written to: /content/drive/MyDrive/aom_AI/Covid19/COVID19_pretrained_densenet121.ckpt/assets\n",
            "Epoch 3/10\n",
            "30/30 [==============================] - 18s 597ms/step - loss: 0.3215 - accuracy: 0.8677 - val_loss: 0.2813 - val_accuracy: 0.8889\n",
            "INFO:tensorflow:Assets written to: /content/drive/MyDrive/aom_AI/Covid19/COVID19_pretrained_densenet121.ckpt/assets\n",
            "Epoch 4/10\n",
            "30/30 [==============================] - 18s 599ms/step - loss: 0.3336 - accuracy: 0.8500 - val_loss: 0.2780 - val_accuracy: 0.8931\n",
            "INFO:tensorflow:Assets written to: /content/drive/MyDrive/aom_AI/Covid19/COVID19_pretrained_densenet121.ckpt/assets\n",
            "Epoch 5/10\n",
            "30/30 [==============================] - 18s 598ms/step - loss: 0.3383 - accuracy: 0.8594 - val_loss: 0.2913 - val_accuracy: 0.8861\n",
            "INFO:tensorflow:Assets written to: /content/drive/MyDrive/aom_AI/Covid19/COVID19_pretrained_densenet121.ckpt/assets\n",
            "Epoch 6/10\n",
            "30/30 [==============================] - 18s 594ms/step - loss: 0.3069 - accuracy: 0.8740 - val_loss: 0.2737 - val_accuracy: 0.8917\n",
            "INFO:tensorflow:Assets written to: /content/drive/MyDrive/aom_AI/Covid19/COVID19_pretrained_densenet121.ckpt/assets\n",
            "Epoch 7/10\n",
            "30/30 [==============================] - 18s 591ms/step - loss: 0.3098 - accuracy: 0.8750 - val_loss: 0.3152 - val_accuracy: 0.8819\n",
            "INFO:tensorflow:Assets written to: /content/drive/MyDrive/aom_AI/Covid19/COVID19_pretrained_densenet121.ckpt/assets\n",
            "Epoch 8/10\n",
            "30/30 [==============================] - 18s 595ms/step - loss: 0.3014 - accuracy: 0.8813 - val_loss: 0.2871 - val_accuracy: 0.8944\n",
            "INFO:tensorflow:Assets written to: /content/drive/MyDrive/aom_AI/Covid19/COVID19_pretrained_densenet121.ckpt/assets\n",
            "Epoch 9/10\n",
            "30/30 [==============================] - 18s 601ms/step - loss: 0.2910 - accuracy: 0.8917 - val_loss: 0.2702 - val_accuracy: 0.9042\n",
            "INFO:tensorflow:Assets written to: /content/drive/MyDrive/aom_AI/Covid19/COVID19_pretrained_densenet121.ckpt/assets\n",
            "Epoch 10/10\n",
            "30/30 [==============================] - 18s 598ms/step - loss: 0.3036 - accuracy: 0.8896 - val_loss: 0.3306 - val_accuracy: 0.8681\n",
            "INFO:tensorflow:Assets written to: /content/drive/MyDrive/aom_AI/Covid19/COVID19_pretrained_densenet121.ckpt/assets\n"
          ]
        }
      ]
    },
    {
      "cell_type": "code",
      "metadata": {
        "id": "FXH_p2xvkmti"
      },
      "source": [
        "#save weight\n",
        "cxr_pretrained_densenet.save_weights(CHECK_POINT + '/my_model_densenet_weights.h5')"
      ],
      "execution_count": null,
      "outputs": []
    },
    {
      "cell_type": "code",
      "metadata": {
        "id": "jAAsldCbkyPn",
        "colab": {
          "base_uri": "https://localhost:8080/",
          "height": 336
        },
        "outputId": "d67cbcb1-c0d5-45ea-ae86-7a132f371a1c"
      },
      "source": [
        "plt.figure(figsize = (5, 5))\n",
        "plt.plot(densenet121_history.history['accuracy'], label = 'train accuracy')\n",
        "plt.plot(densenet121_history.history['val_accuracy'], label = 'validation accuracy')\n",
        "plt.title('Before Fine-tuning')\n",
        "\n",
        "plt.legend();\n",
        "plt.show()"
      ],
      "execution_count": null,
      "outputs": [
        {
          "output_type": "display_data",
          "data": {
            "image/png": "[encoded data removed]",
            "text/plain": [
              "<Figure size 360x360 with 1 Axes>"
            ]
          },
          "metadata": {
            "needs_background": "light"
          }
        }
      ]
    },
    {
      "cell_type": "code",
      "metadata": {
        "colab": {
          "base_uri": "https://localhost:8080/"
        },
        "id": "UUdUOl89rYWN",
        "outputId": "3163f850-e797-4990-cf72-32672744cbc6"
      },
      "source": [
        "y_test_pred = cxr_pretrained_densenet.predict(X_test)\n",
        "\n",
        "print('prediction accuracy on test set:', accuracy_score(y_test, y_test_pred > 0.5))"
      ],
      "execution_count": null,
      "outputs": [
        {
          "output_type": "stream",
          "name": "stdout",
          "text": [
            "prediction accuracy on test set: 0.81\n"
          ]
        }
      ]
    },
    {
      "cell_type": "markdown",
      "metadata": {
        "id": "t_tvYgvCrzzK"
      },
      "source": [
        "## Fine tuning"
      ]
    },
    {
      "cell_type": "code",
      "metadata": {
        "id": "Silom_d_ru4p"
      },
      "source": [
        "def new_cxr_pretrained_densenet121():\n",
        "    base_model = tf.keras.applications.DenseNet121(input_shape = (224, 224, 3), weights = None , include_top = False)\n",
        "    base_model.trainable = True ## Unfreeze convolutional part\n",
        "\n",
        "    x = layers.GlobalAveragePooling2D()(base_model.output)\n",
        "    x = layers.Dense(512, activation = 'relu')(x)\n",
        "    x = layers.BatchNormalization()(x)\n",
        "    x = layers.Dropout(0.2)(x)\n",
        "    x = layers.Dense(2, activation = 'sigmoid')(x)\n",
        "    model = tf.keras.Model(base_model.input, outputs = x)\n",
        "\n",
        "    return model  "
      ],
      "execution_count": null,
      "outputs": []
    },
    {
      "cell_type": "code",
      "metadata": {
        "id": "KDW3mEM2r42P"
      },
      "source": [
        "new_cxr_pretrained_densenet = new_cxr_pretrained_densenet121()"
      ],
      "execution_count": null,
      "outputs": []
    },
    {
      "cell_type": "code",
      "metadata": {
        "id": "xAOKqKasr6Rl"
      },
      "source": [
        "#load weight มาจากmodel เริ่มต้นที่train โดยfreeze CNNมาแล้ว 30 epocs\n",
        "new_cxr_pretrained_densenet.load_weights(CHECK_POINT + '/my_model_densenet_weights.h5')"
      ],
      "execution_count": null,
      "outputs": []
    },
    {
      "cell_type": "code",
      "metadata": {
        "id": "KzocIlRFsQpD"
      },
      "source": [
        "#compile model\n",
        "new_cxr_pretrained_densenet.compile(loss = 'binary_crossentropy', optimizer = Adam(learning_rate = 1e-5), metrics = ['accuracy'])"
      ],
      "execution_count": null,
      "outputs": []
    },
    {
      "cell_type": "code",
      "metadata": {
        "id": "KtaFLJiPsU-m"
      },
      "source": [
        "densenet121_pretrained_new_callback = ModelCheckpoint(CHECK_POINT + \"/COVID19_pretrained_new_densenet121.ckpt\", verbose = 0)"
      ],
      "execution_count": null,
      "outputs": []
    },
    {
      "cell_type": "code",
      "metadata": {
        "colab": {
          "base_uri": "https://localhost:8080/"
        },
        "id": "MuOkeSdWsWN_",
        "outputId": "fc0a6e72-c95a-4942-e6f9-e996a2cad2e3"
      },
      "source": [
        "#เนื่องจากเรา unfreeze pretrained model ทำให้มันต้องใช้ RAM สูงมากๆ หนึ่งในวิธีการป้องกันการเกิด ResourceExhaustedError คือ ลด batch_size\n",
        "tf.random.set_seed(9559)\n",
        "new_densenet121_history = new_cxr_pretrained_densenet.fit(datagen.flow(X_train, y_train,\n",
        "                                                                       batch_size = 32),\n",
        "                                                                       epochs = 20,\n",
        "                                                                       steps_per_epoch = STEP,\n",
        "                                                                       validation_data = (X_val, y_val),\n",
        "                                                                       verbose = 1,\n",
        "                                                                       callbacks = [densenet121_pretrained_new_callback])"
      ],
      "execution_count": null,
      "outputs": [
        {
          "output_type": "stream",
          "name": "stdout",
          "text": [
            "Epoch 1/20\n",
            "30/30 [==============================] - 48s 1s/step - loss: 0.6980 - accuracy: 0.6917 - val_loss: 1.4786 - val_accuracy: 0.5000\n",
            "INFO:tensorflow:Assets written to: /content/drive/MyDrive/aom_AI/Covid19/COVID19_pretrained_new_densenet121.ckpt/assets\n",
            "Epoch 2/20\n",
            "30/30 [==============================] - 27s 894ms/step - loss: 0.4951 - accuracy: 0.8073 - val_loss: 0.9740 - val_accuracy: 0.5181\n",
            "INFO:tensorflow:Assets written to: /content/drive/MyDrive/aom_AI/Covid19/COVID19_pretrained_new_densenet121.ckpt/assets\n",
            "Epoch 3/20\n",
            "30/30 [==============================] - 27s 891ms/step - loss: 0.4207 - accuracy: 0.8240 - val_loss: 0.6604 - val_accuracy: 0.6292\n",
            "INFO:tensorflow:Assets written to: /content/drive/MyDrive/aom_AI/Covid19/COVID19_pretrained_new_densenet121.ckpt/assets\n",
            "Epoch 4/20\n",
            "30/30 [==============================] - 27s 890ms/step - loss: 0.3362 - accuracy: 0.8635 - val_loss: 0.5228 - val_accuracy: 0.7417\n",
            "INFO:tensorflow:Assets written to: /content/drive/MyDrive/aom_AI/Covid19/COVID19_pretrained_new_densenet121.ckpt/assets\n",
            "Epoch 5/20\n",
            "30/30 [==============================] - 27s 891ms/step - loss: 0.2769 - accuracy: 0.8938 - val_loss: 0.4074 - val_accuracy: 0.8431\n",
            "INFO:tensorflow:Assets written to: /content/drive/MyDrive/aom_AI/Covid19/COVID19_pretrained_new_densenet121.ckpt/assets\n",
            "Epoch 6/20\n",
            "30/30 [==============================] - 27s 890ms/step - loss: 0.2713 - accuracy: 0.8938 - val_loss: 0.3452 - val_accuracy: 0.8722\n",
            "INFO:tensorflow:Assets written to: /content/drive/MyDrive/aom_AI/Covid19/COVID19_pretrained_new_densenet121.ckpt/assets\n",
            "Epoch 7/20\n",
            "30/30 [==============================] - 27s 889ms/step - loss: 0.2377 - accuracy: 0.9187 - val_loss: 0.3427 - val_accuracy: 0.8486\n",
            "INFO:tensorflow:Assets written to: /content/drive/MyDrive/aom_AI/Covid19/COVID19_pretrained_new_densenet121.ckpt/assets\n",
            "Epoch 8/20\n",
            "30/30 [==============================] - 27s 892ms/step - loss: 0.2350 - accuracy: 0.9073 - val_loss: 0.2610 - val_accuracy: 0.8986\n",
            "INFO:tensorflow:Assets written to: /content/drive/MyDrive/aom_AI/Covid19/COVID19_pretrained_new_densenet121.ckpt/assets\n",
            "Epoch 9/20\n",
            "30/30 [==============================] - 27s 889ms/step - loss: 0.2257 - accuracy: 0.9167 - val_loss: 0.2197 - val_accuracy: 0.9333\n",
            "INFO:tensorflow:Assets written to: /content/drive/MyDrive/aom_AI/Covid19/COVID19_pretrained_new_densenet121.ckpt/assets\n",
            "Epoch 10/20\n",
            "30/30 [==============================] - 27s 892ms/step - loss: 0.1896 - accuracy: 0.9312 - val_loss: 0.2078 - val_accuracy: 0.9264\n",
            "INFO:tensorflow:Assets written to: /content/drive/MyDrive/aom_AI/Covid19/COVID19_pretrained_new_densenet121.ckpt/assets\n",
            "Epoch 11/20\n",
            "30/30 [==============================] - 27s 891ms/step - loss: 0.1670 - accuracy: 0.9375 - val_loss: 0.2006 - val_accuracy: 0.9333\n",
            "INFO:tensorflow:Assets written to: /content/drive/MyDrive/aom_AI/Covid19/COVID19_pretrained_new_densenet121.ckpt/assets\n",
            "Epoch 12/20\n",
            "30/30 [==============================] - 27s 890ms/step - loss: 0.1577 - accuracy: 0.9448 - val_loss: 0.1874 - val_accuracy: 0.9306\n",
            "INFO:tensorflow:Assets written to: /content/drive/MyDrive/aom_AI/Covid19/COVID19_pretrained_new_densenet121.ckpt/assets\n",
            "Epoch 13/20\n",
            "30/30 [==============================] - 27s 890ms/step - loss: 0.1639 - accuracy: 0.9427 - val_loss: 0.2558 - val_accuracy: 0.8833\n",
            "INFO:tensorflow:Assets written to: /content/drive/MyDrive/aom_AI/Covid19/COVID19_pretrained_new_densenet121.ckpt/assets\n",
            "Epoch 14/20\n",
            "30/30 [==============================] - 27s 893ms/step - loss: 0.1697 - accuracy: 0.9406 - val_loss: 0.1793 - val_accuracy: 0.9306\n",
            "INFO:tensorflow:Assets written to: /content/drive/MyDrive/aom_AI/Covid19/COVID19_pretrained_new_densenet121.ckpt/assets\n",
            "Epoch 15/20\n",
            "30/30 [==============================] - 27s 891ms/step - loss: 0.1313 - accuracy: 0.9542 - val_loss: 0.1477 - val_accuracy: 0.9514\n",
            "INFO:tensorflow:Assets written to: /content/drive/MyDrive/aom_AI/Covid19/COVID19_pretrained_new_densenet121.ckpt/assets\n",
            "Epoch 16/20\n",
            "30/30 [==============================] - 27s 891ms/step - loss: 0.1277 - accuracy: 0.9604 - val_loss: 0.1377 - val_accuracy: 0.9528\n",
            "INFO:tensorflow:Assets written to: /content/drive/MyDrive/aom_AI/Covid19/COVID19_pretrained_new_densenet121.ckpt/assets\n",
            "Epoch 17/20\n",
            "30/30 [==============================] - 27s 889ms/step - loss: 0.1317 - accuracy: 0.9542 - val_loss: 0.1371 - val_accuracy: 0.9556\n",
            "INFO:tensorflow:Assets written to: /content/drive/MyDrive/aom_AI/Covid19/COVID19_pretrained_new_densenet121.ckpt/assets\n",
            "Epoch 18/20\n",
            "30/30 [==============================] - 27s 895ms/step - loss: 0.1314 - accuracy: 0.9552 - val_loss: 0.1614 - val_accuracy: 0.9431\n",
            "INFO:tensorflow:Assets written to: /content/drive/MyDrive/aom_AI/Covid19/COVID19_pretrained_new_densenet121.ckpt/assets\n",
            "Epoch 19/20\n",
            "30/30 [==============================] - 27s 890ms/step - loss: 0.1121 - accuracy: 0.9646 - val_loss: 0.1286 - val_accuracy: 0.9500\n",
            "INFO:tensorflow:Assets written to: /content/drive/MyDrive/aom_AI/Covid19/COVID19_pretrained_new_densenet121.ckpt/assets\n",
            "Epoch 20/20\n",
            "30/30 [==============================] - 27s 892ms/step - loss: 0.1209 - accuracy: 0.9635 - val_loss: 0.1442 - val_accuracy: 0.9500\n",
            "INFO:tensorflow:Assets written to: /content/drive/MyDrive/aom_AI/Covid19/COVID19_pretrained_new_densenet121.ckpt/assets\n"
          ]
        }
      ]
    },
    {
      "cell_type": "code",
      "metadata": {
        "id": "GCdz1EySuLXe"
      },
      "source": [
        "#save weight after fine tuning\n",
        "new_cxr_pretrained_densenet.save_weights(CHECK_POINT + '/my_model_densenet_weights_tuning.h5')"
      ],
      "execution_count": null,
      "outputs": []
    },
    {
      "cell_type": "code",
      "metadata": {
        "colab": {
          "base_uri": "https://localhost:8080/"
        },
        "id": "niQhUILC7g6j",
        "outputId": "83724134-4aee-4fb3-b0e3-1fdbb1a32abc"
      },
      "source": [
        "new_densenet121_history.history.keys()"
      ],
      "execution_count": null,
      "outputs": [
        {
          "output_type": "execute_result",
          "data": {
            "text/plain": [
              "dict_keys(['loss', 'accuracy', 'val_loss', 'val_accuracy'])"
            ]
          },
          "metadata": {},
          "execution_count": 38
        }
      ]
    },
    {
      "cell_type": "code",
      "metadata": {
        "colab": {
          "base_uri": "https://localhost:8080/",
          "height": 336
        },
        "id": "vPuYz3nSuFQP",
        "outputId": "4db21bf4-755e-4dfa-c01e-8ee12cf7ce69"
      },
      "source": [
        "#Compare the performance before and after fine-tuning (on training and validation set)\n",
        "plt.figure(figsize = (12, 5))\n",
        "plt.subplot(1, 2, 1)\n",
        "plt.plot(densenet121_history.history['accuracy'], label = 'train accuracy')\n",
        "plt.plot(densenet121_history.history['val_accuracy'], label = 'validation accuracy')\n",
        "plt.title('Before Fine-tuning')\n",
        "\n",
        "plt.subplot(1, 2, 2)\n",
        "plt.plot(new_densenet121_history.history['accuracy'], label = 'train accuracy')\n",
        "plt.plot(new_densenet121_history.history['val_accuracy'], label = 'validation accuracy')\n",
        "plt.title('After fine-tuning : adjusting weight of CNN layers for another 30 epochs')\n",
        "\n",
        "plt.legend();\n",
        "plt.show()"
      ],
      "execution_count": null,
      "outputs": [
        {
          "output_type": "display_data",
          "data": {
            "image/png": "[encoded data removed]",
            "text/plain": [
              "<Figure size 864x360 with 2 Axes>"
            ]
          },
          "metadata": {
            "needs_background": "light"
          }
        }
      ]
    },
    {
      "cell_type": "code",
      "metadata": {
        "colab": {
          "base_uri": "https://localhost:8080/"
        },
        "id": "9IoFY_5SvEHZ",
        "outputId": "6a08ec31-5104-4ff6-88b2-b80f3a2ffaf4"
      },
      "source": [
        "#compare on validation dataset (Regression prediction)\n",
        "y_val_pred = cxr_pretrained_densenet.predict(X_val)\n",
        "print('prediction accuracy on validation set before fine-tuning:', accuracy_score(y_val, y_val_pred > 0.5))\n",
        "y_val_pred_new = new_cxr_pretrained_densenet.predict(X_val)\n",
        "print('prediction accuracy on validation set after fine-tuning:', accuracy_score(y_val, y_val_pred_new > 0.5))"
      ],
      "execution_count": null,
      "outputs": [
        {
          "output_type": "stream",
          "name": "stdout",
          "text": [
            "prediction accuracy on validation set before fine-tuning: 0.8347222222222223\n",
            "prediction accuracy on validation set after fine-tuning: 0.9333333333333333\n"
          ]
        }
      ]
    },
    {
      "cell_type": "markdown",
      "metadata": {
        "id": "C71Q9Nr2vGKC"
      },
      "source": [
        "Evaluate model performance on test set : "
      ]
    },
    {
      "cell_type": "code",
      "metadata": {
        "colab": {
          "base_uri": "https://localhost:8080/"
        },
        "id": "RhITObxXvGo9",
        "outputId": "d4e68492-fdd2-4402-de93-accf845b38d9"
      },
      "source": [
        "y_test_pred = cxr_pretrained_densenet.predict(X_test)\n",
        "print('prediction accuracy on test set before fine-tuning:', accuracy_score(y_test, y_test_pred > 0.5))\n",
        "y_test_pred_new = new_cxr_pretrained_densenet.predict(X_test)\n",
        "print('prediction accuracy on test set after fine-tuning:', accuracy_score(y_test, y_test_pred_new > 0.5))"
      ],
      "execution_count": null,
      "outputs": [
        {
          "output_type": "stream",
          "name": "stdout",
          "text": [
            "prediction accuracy on test set before fine-tuning: 0.81\n",
            "prediction accuracy on test set after fine-tuning: 0.92\n"
          ]
        }
      ]
    },
    {
      "cell_type": "code",
      "metadata": {
        "colab": {
          "base_uri": "https://localhost:8080/"
        },
        "id": "jrTdzStac_7M",
        "outputId": "c40c6b34-5a07-4dfe-b338-10cb105d007a"
      },
      "source": [
        "#Classification prediction (Prob.)\n",
        "y_val_pred = cxr_pretrained_densenet.predict(X_val)\n",
        "for i in range(len(X_val)):\n",
        "\tprint(\"X=%s, Predicted=%s\" % (i, y_val_pred[i]))"
      ],
      "execution_count": null,
      "outputs": [
        {
          "output_type": "stream",
          "name": "stdout",
          "text": [
            "X=0, Predicted=[0.11463578 0.7225777 ]\n",
            "X=1, Predicted=[0.9425798  0.01296173]\n",
            "X=2, Predicted=[0.00450097 0.9939176 ]\n",
            "X=3, Predicted=[0.19542193 0.841892  ]\n",
            "X=4, Predicted=[0.00193889 0.99762374]\n",
            "X=5, Predicted=[0.00574547 0.99276286]\n",
            "X=6, Predicted=[0.00578965 0.98952216]\n",
            "X=7, Predicted=[0.00159714 0.9981242 ]\n",
            "X=8, Predicted=[0.05234368 0.9533859 ]\n",
            "X=9, Predicted=[0.00258044 0.99688584]\n",
            "X=10, Predicted=[0.8852887  0.06491131]\n",
            "X=11, Predicted=[0.01044828 0.9804906 ]\n",
            "X=12, Predicted=[0.97611725 0.01351419]\n",
            "X=13, Predicted=[0.32378796 0.7795956 ]\n",
            "X=14, Predicted=[0.12244578 0.616326  ]\n",
            "X=15, Predicted=[0.3034812  0.68543303]\n",
            "X=16, Predicted=[0.00405096 0.9947477 ]\n",
            "X=17, Predicted=[0.01828574 0.9751149 ]\n",
            "X=18, Predicted=[0.0721691 0.9147033]\n",
            "X=19, Predicted=[0.8675585  0.18931554]\n",
            "X=20, Predicted=[0.7447417 0.223791 ]\n",
            "X=21, Predicted=[0.00338187 0.99772257]\n",
            "X=22, Predicted=[0.40395305 0.4443372 ]\n",
            "X=23, Predicted=[0.90070987 0.0521521 ]\n",
            "X=24, Predicted=[0.0276302  0.98705715]\n",
            "X=25, Predicted=[0.00663116 0.99707055]\n",
            "X=26, Predicted=[0.3861374  0.42048633]\n",
            "X=27, Predicted=[0.00173903 0.99674594]\n",
            "X=28, Predicted=[4.002702e-04 9.993481e-01]\n",
            "X=29, Predicted=[0.4286999 0.7164001]\n",
            "X=30, Predicted=[0.41677496 0.45893115]\n",
            "X=31, Predicted=[0.5724786  0.14682119]\n",
            "X=32, Predicted=[0.7133157  0.14439201]\n",
            "X=33, Predicted=[0.06195405 0.9396067 ]\n",
            "X=34, Predicted=[0.56961364 0.2995803 ]\n",
            "X=35, Predicted=[0.11772858 0.88828677]\n",
            "X=36, Predicted=[0.93367213 0.03627922]\n",
            "X=37, Predicted=[0.00298977 0.9973117 ]\n",
            "X=38, Predicted=[0.18249437 0.7062332 ]\n",
            "X=39, Predicted=[0.3200709 0.6731088]\n",
            "X=40, Predicted=[0.1723476 0.8594282]\n",
            "X=41, Predicted=[0.76962405 0.16250257]\n",
            "X=42, Predicted=[0.00317834 0.9941591 ]\n",
            "X=43, Predicted=[0.8558063  0.12534961]\n",
            "X=44, Predicted=[0.81785303 0.18392998]\n",
            "X=45, Predicted=[0.5422942  0.21737795]\n",
            "X=46, Predicted=[0.37399867 0.52409095]\n",
            "X=47, Predicted=[0.04337705 0.94223946]\n",
            "X=48, Predicted=[0.00618242 0.9952918 ]\n",
            "X=49, Predicted=[0.8725996  0.03394449]\n",
            "X=50, Predicted=[0.41065004 0.48954466]\n",
            "X=51, Predicted=[0.5813476  0.43128335]\n",
            "X=52, Predicted=[0.07255246 0.9488314 ]\n",
            "X=53, Predicted=[0.82860017 0.06228916]\n",
            "X=54, Predicted=[0.05109039 0.91145194]\n",
            "X=55, Predicted=[0.34050155 0.8767778 ]\n",
            "X=56, Predicted=[0.2879079  0.75707775]\n",
            "X=57, Predicted=[0.5354837 0.2956102]\n",
            "X=58, Predicted=[0.7765358  0.20562656]\n",
            "X=59, Predicted=[0.33730766 0.57221586]\n",
            "X=60, Predicted=[0.7769206  0.24399447]\n",
            "X=61, Predicted=[0.6577462  0.08978938]\n",
            "X=62, Predicted=[0.75525725 0.14746256]\n",
            "X=63, Predicted=[0.02443721 0.9722578 ]\n",
            "X=64, Predicted=[0.7979153 0.2319959]\n",
            "X=65, Predicted=[0.07778984 0.9292975 ]\n",
            "X=66, Predicted=[0.10271022 0.9226995 ]\n",
            "X=67, Predicted=[0.06304171 0.9186949 ]\n",
            "X=68, Predicted=[0.16826592 0.8466123 ]\n",
            "X=69, Predicted=[0.00298533 0.99773693]\n",
            "X=70, Predicted=[0.67942226 0.2247881 ]\n",
            "X=71, Predicted=[0.3519887  0.88914704]\n",
            "X=72, Predicted=[0.5840611  0.28619027]\n",
            "X=73, Predicted=[0.90403163 0.08059211]\n",
            "X=74, Predicted=[0.00297658 0.99739873]\n",
            "X=75, Predicted=[0.24301146 0.63325334]\n",
            "X=76, Predicted=[0.00967631 0.9882732 ]\n",
            "X=77, Predicted=[0.03378922 0.96709496]\n",
            "X=78, Predicted=[0.956682  0.0462557]\n",
            "X=79, Predicted=[0.00238843 0.9970728 ]\n",
            "X=80, Predicted=[0.94743025 0.01890354]\n",
            "X=81, Predicted=[0.00127562 0.99899226]\n",
            "X=82, Predicted=[0.36736965 0.47181487]\n",
            "X=83, Predicted=[0.51155275 0.32280686]\n",
            "X=84, Predicted=[0.903837   0.04410647]\n",
            "X=85, Predicted=[0.96445227 0.0203267 ]\n",
            "X=86, Predicted=[0.00489758 0.99129254]\n",
            "X=87, Predicted=[0.07054975 0.9266302 ]\n",
            "X=88, Predicted=[0.72812897 0.32644862]\n",
            "X=89, Predicted=[0.08380105 0.9615114 ]\n",
            "X=90, Predicted=[0.455451   0.16751762]\n",
            "X=91, Predicted=[0.06539337 0.89219874]\n",
            "X=92, Predicted=[0.05023514 0.8583212 ]\n",
            "X=93, Predicted=[0.1110637  0.86674106]\n",
            "X=94, Predicted=[0.6594153  0.32136607]\n",
            "X=95, Predicted=[0.21518159 0.82264024]\n",
            "X=96, Predicted=[0.05712604 0.9227518 ]\n",
            "X=97, Predicted=[0.48291767 0.3385496 ]\n",
            "X=98, Predicted=[0.02598162 0.9788543 ]\n",
            "X=99, Predicted=[0.7971517  0.11883392]\n",
            "X=100, Predicted=[0.1823235  0.83897036]\n",
            "X=101, Predicted=[0.24277763 0.7466956 ]\n",
            "X=102, Predicted=[0.9474798 0.0307061]\n",
            "X=103, Predicted=[0.56253    0.21526748]\n",
            "X=104, Predicted=[0.1457756 0.8848526]\n",
            "X=105, Predicted=[0.00126072 0.9977756 ]\n",
            "X=106, Predicted=[0.9730287  0.01139067]\n",
            "X=107, Predicted=[0.00172794 0.9982066 ]\n",
            "X=108, Predicted=[0.9333557  0.02885161]\n",
            "X=109, Predicted=[0.38469625 0.5912474 ]\n",
            "X=110, Predicted=[0.9908193  0.00462351]\n",
            "X=111, Predicted=[0.8531852  0.20991197]\n",
            "X=112, Predicted=[0.12254015 0.8203911 ]\n",
            "X=113, Predicted=[0.165375   0.91949815]\n",
            "X=114, Predicted=[0.77194333 0.13147545]\n",
            "X=115, Predicted=[0.9857151  0.01723302]\n",
            "X=116, Predicted=[0.03097012 0.9882111 ]\n",
            "X=117, Predicted=[0.23992823 0.67469394]\n",
            "X=118, Predicted=[0.17696099 0.84989905]\n",
            "X=119, Predicted=[0.09461024 0.96908677]\n",
            "X=120, Predicted=[0.42418733 0.67472833]\n",
            "X=121, Predicted=[0.12874496 0.861438  ]\n",
            "X=122, Predicted=[0.17047758 0.86364216]\n",
            "X=123, Predicted=[0.29184836 0.56130284]\n",
            "X=124, Predicted=[0.80323863 0.21657023]\n",
            "X=125, Predicted=[0.00726817 0.9932468 ]\n",
            "X=126, Predicted=[0.750837   0.20015901]\n",
            "X=127, Predicted=[0.31355682 0.54677826]\n",
            "X=128, Predicted=[0.9273603  0.02661559]\n",
            "X=129, Predicted=[0.00665288 0.9969998 ]\n",
            "X=130, Predicted=[0.48186514 0.38389757]\n",
            "X=131, Predicted=[0.00649329 0.98696786]\n",
            "X=132, Predicted=[0.28243697 0.5263071 ]\n",
            "X=133, Predicted=[0.01274953 0.98773104]\n",
            "X=134, Predicted=[0.9033948  0.06176142]\n",
            "X=135, Predicted=[0.1094063 0.8728543]\n",
            "X=136, Predicted=[0.00274284 0.9895683 ]\n",
            "X=137, Predicted=[0.8114581  0.11083576]\n",
            "X=138, Predicted=[0.04675138 0.96593684]\n",
            "X=139, Predicted=[0.03570199 0.98054034]\n",
            "X=140, Predicted=[0.04377145 0.91166943]\n",
            "X=141, Predicted=[0.4361184  0.49304232]\n",
            "X=142, Predicted=[0.99085313 0.01001127]\n",
            "X=143, Predicted=[0.01589249 0.9764305 ]\n",
            "X=144, Predicted=[0.03228551 0.9872897 ]\n",
            "X=145, Predicted=[0.6925791  0.29607093]\n",
            "X=146, Predicted=[0.08145161 0.91088897]\n",
            "X=147, Predicted=[0.08912627 0.9400048 ]\n",
            "X=148, Predicted=[0.66312796 0.18908702]\n",
            "X=149, Predicted=[0.8610232 0.0371866]\n",
            "X=150, Predicted=[0.00350165 0.99793446]\n",
            "X=151, Predicted=[0.8792337  0.13650863]\n",
            "X=152, Predicted=[0.9721273  0.01341178]\n",
            "X=153, Predicted=[0.07296479 0.80470276]\n",
            "X=154, Predicted=[0.04869625 0.92522043]\n",
            "X=155, Predicted=[0.04339463 0.97148854]\n",
            "X=156, Predicted=[0.04660764 0.93843967]\n",
            "X=157, Predicted=[0.11139572 0.9141536 ]\n",
            "X=158, Predicted=[0.82851994 0.11894395]\n",
            "X=159, Predicted=[0.17130345 0.7009717 ]\n",
            "X=160, Predicted=[0.28474027 0.79080737]\n",
            "X=161, Predicted=[0.02128942 0.98896885]\n",
            "X=162, Predicted=[0.9531909  0.02779548]\n",
            "X=163, Predicted=[0.2412242  0.66207373]\n",
            "X=164, Predicted=[0.558532  0.3302763]\n",
            "X=165, Predicted=[0.00753458 0.98900175]\n",
            "X=166, Predicted=[0.0162022  0.99100655]\n",
            "X=167, Predicted=[0.02604785 0.9653106 ]\n",
            "X=168, Predicted=[0.01703743 0.96820396]\n",
            "X=169, Predicted=[0.05828411 0.9283568 ]\n",
            "X=170, Predicted=[0.15423577 0.7495083 ]\n",
            "X=171, Predicted=[0.46469077 0.5722194 ]\n",
            "X=172, Predicted=[0.9960985  0.00234205]\n",
            "X=173, Predicted=[0.44399288 0.6600006 ]\n",
            "X=174, Predicted=[0.470616   0.40371668]\n",
            "X=175, Predicted=[0.07461067 0.9335337 ]\n",
            "X=176, Predicted=[0.6652244  0.18695155]\n",
            "X=177, Predicted=[0.17816225 0.5776252 ]\n",
            "X=178, Predicted=[0.00613346 0.99400145]\n",
            "X=179, Predicted=[0.01074216 0.9931416 ]\n",
            "X=180, Predicted=[0.2349496 0.7508714]\n",
            "X=181, Predicted=[0.04826196 0.9095328 ]\n",
            "X=182, Predicted=[0.6947189  0.30021572]\n",
            "X=183, Predicted=[0.01132641 0.9733358 ]\n",
            "X=184, Predicted=[0.8248524  0.21303155]\n",
            "X=185, Predicted=[0.00925172 0.9799415 ]\n",
            "X=186, Predicted=[0.6188394  0.10957081]\n",
            "X=187, Predicted=[0.83531034 0.1416327 ]\n",
            "X=188, Predicted=[0.10129102 0.79134446]\n",
            "X=189, Predicted=[0.95732397 0.01772166]\n",
            "X=190, Predicted=[0.01318355 0.9879865 ]\n",
            "X=191, Predicted=[0.00905639 0.9862054 ]\n",
            "X=192, Predicted=[0.9644231  0.04408614]\n",
            "X=193, Predicted=[0.0137443  0.97354275]\n",
            "X=194, Predicted=[0.17801894 0.77785116]\n",
            "X=195, Predicted=[0.06395911 0.9395773 ]\n",
            "X=196, Predicted=[0.06969672 0.86786366]\n",
            "X=197, Predicted=[0.9889087  0.07707272]\n",
            "X=198, Predicted=[0.5483293  0.37859845]\n",
            "X=199, Predicted=[0.95939595 0.03323504]\n",
            "X=200, Predicted=[0.03963285 0.9688626 ]\n",
            "X=201, Predicted=[0.06606869 0.8979207 ]\n",
            "X=202, Predicted=[0.06271325 0.9192062 ]\n",
            "X=203, Predicted=[0.6806794  0.18816076]\n",
            "X=204, Predicted=[0.00606922 0.9891417 ]\n",
            "X=205, Predicted=[0.42183596 0.41453663]\n",
            "X=206, Predicted=[0.52151734 0.9370738 ]\n",
            "X=207, Predicted=[0.00427312 0.98380154]\n",
            "X=208, Predicted=[0.01111683 0.98359907]\n",
            "X=209, Predicted=[0.89845043 0.14665923]\n",
            "X=210, Predicted=[0.9520216  0.03392901]\n",
            "X=211, Predicted=[0.78819454 0.28059068]\n",
            "X=212, Predicted=[0.95544803 0.044921  ]\n",
            "X=213, Predicted=[0.37860125 0.8663669 ]\n",
            "X=214, Predicted=[0.95958143 0.02555613]\n",
            "X=215, Predicted=[0.81013596 0.23968019]\n",
            "X=216, Predicted=[0.8528924  0.09679084]\n",
            "X=217, Predicted=[0.9798741  0.01085324]\n",
            "X=218, Predicted=[0.00400963 0.9959998 ]\n",
            "X=219, Predicted=[0.00776943 0.99601966]\n",
            "X=220, Predicted=[0.39758822 0.4675441 ]\n",
            "X=221, Predicted=[0.1169554 0.7167288]\n",
            "X=222, Predicted=[0.03884703 0.973436  ]\n",
            "X=223, Predicted=[0.01628986 0.98435193]\n",
            "X=224, Predicted=[0.9530537 0.0277967]\n",
            "X=225, Predicted=[0.04294977 0.9554309 ]\n",
            "X=226, Predicted=[0.00762828 0.99259984]\n",
            "X=227, Predicted=[0.8403064  0.23607655]\n",
            "X=228, Predicted=[0.9230246  0.10004539]\n",
            "X=229, Predicted=[0.75980175 0.26694348]\n",
            "X=230, Predicted=[0.02266219 0.98201925]\n",
            "X=231, Predicted=[0.26367792 0.65282345]\n",
            "X=232, Predicted=[0.78605705 0.15811951]\n",
            "X=233, Predicted=[0.7938859  0.16669682]\n",
            "X=234, Predicted=[0.50814676 0.3562153 ]\n",
            "X=235, Predicted=[0.01157684 0.9797752 ]\n",
            "X=236, Predicted=[0.7827191  0.09803264]\n",
            "X=237, Predicted=[0.00101987 0.99918586]\n",
            "X=238, Predicted=[0.00256853 0.99821115]\n",
            "X=239, Predicted=[0.45026103 0.40246335]\n",
            "X=240, Predicted=[0.04973546 0.91319585]\n",
            "X=241, Predicted=[0.00107888 0.99862623]\n",
            "X=242, Predicted=[0.00120653 0.99855846]\n",
            "X=243, Predicted=[0.05164824 0.95049036]\n",
            "X=244, Predicted=[0.03237941 0.9302184 ]\n",
            "X=245, Predicted=[0.02173264 0.97114974]\n",
            "X=246, Predicted=[0.8911141  0.10178626]\n",
            "X=247, Predicted=[0.40919632 0.50664383]\n",
            "X=248, Predicted=[0.92907584 0.02970903]\n",
            "X=249, Predicted=[0.99864036 0.0041389 ]\n",
            "X=250, Predicted=[0.7367051  0.07108552]\n",
            "X=251, Predicted=[0.00616403 0.99482805]\n",
            "X=252, Predicted=[0.8849114  0.21422218]\n",
            "X=253, Predicted=[0.84269136 0.17836978]\n",
            "X=254, Predicted=[0.00996889 0.9835914 ]\n",
            "X=255, Predicted=[0.12846786 0.8680952 ]\n",
            "X=256, Predicted=[0.3319208 0.6480302]\n",
            "X=257, Predicted=[0.1477281  0.78564173]\n",
            "X=258, Predicted=[0.89692456 0.04876874]\n",
            "X=259, Predicted=[0.5818815 0.4027078]\n",
            "X=260, Predicted=[0.01436872 0.97977626]\n",
            "X=261, Predicted=[0.00526977 0.99387157]\n",
            "X=262, Predicted=[0.03212895 0.952039  ]\n",
            "X=263, Predicted=[0.03012569 0.9524088 ]\n",
            "X=264, Predicted=[0.9546121  0.02450977]\n",
            "X=265, Predicted=[0.6661698  0.12755905]\n",
            "X=266, Predicted=[0.96669567 0.02525038]\n",
            "X=267, Predicted=[0.02652954 0.9721858 ]\n",
            "X=268, Predicted=[0.01307012 0.98880976]\n",
            "X=269, Predicted=[0.74751467 0.36555612]\n",
            "X=270, Predicted=[0.13363704 0.80312234]\n",
            "X=271, Predicted=[0.02298014 0.9772579 ]\n",
            "X=272, Predicted=[0.00185537 0.9967704 ]\n",
            "X=273, Predicted=[0.03097055 0.97314894]\n",
            "X=274, Predicted=[0.00748988 0.98411834]\n",
            "X=275, Predicted=[0.9756817  0.00971562]\n",
            "X=276, Predicted=[0.0045998 0.9948073]\n",
            "X=277, Predicted=[0.8263225 0.068833 ]\n",
            "X=278, Predicted=[0.8868825  0.05599749]\n",
            "X=279, Predicted=[0.996172   0.00185149]\n",
            "X=280, Predicted=[0.5332677 0.3508944]\n",
            "X=281, Predicted=[0.6823437  0.30795115]\n",
            "X=282, Predicted=[0.46978897 0.515497  ]\n",
            "X=283, Predicted=[0.844804   0.24347374]\n",
            "X=284, Predicted=[0.00246662 0.9972121 ]\n",
            "X=285, Predicted=[0.8722591 0.0784233]\n",
            "X=286, Predicted=[0.91039556 0.08528841]\n",
            "X=287, Predicted=[0.95957065 0.02886154]\n",
            "X=288, Predicted=[0.9006976  0.09961546]\n",
            "X=289, Predicted=[0.17468856 0.8744557 ]\n",
            "X=290, Predicted=[0.02787915 0.9802449 ]\n",
            "X=291, Predicted=[0.01325079 0.98906124]\n",
            "X=292, Predicted=[0.03698116 0.93941313]\n",
            "X=293, Predicted=[0.93287635 0.04708475]\n",
            "X=294, Predicted=[0.06127869 0.9589441 ]\n",
            "X=295, Predicted=[0.6276015  0.56670463]\n",
            "X=296, Predicted=[0.1665861 0.7942144]\n",
            "X=297, Predicted=[0.02555692 0.9765594 ]\n",
            "X=298, Predicted=[0.01992119 0.97999555]\n",
            "X=299, Predicted=[0.9262761  0.07201908]\n",
            "X=300, Predicted=[0.9593197  0.03744887]\n",
            "X=301, Predicted=[0.01053298 0.98658895]\n",
            "X=302, Predicted=[0.49412826 0.7357432 ]\n",
            "X=303, Predicted=[0.03471879 0.9310514 ]\n",
            "X=304, Predicted=[0.00181145 0.99536276]\n",
            "X=305, Predicted=[0.27827516 0.51894486]\n",
            "X=306, Predicted=[0.41542494 0.5545813 ]\n",
            "X=307, Predicted=[0.81523246 0.2366601 ]\n",
            "X=308, Predicted=[0.00966772 0.98726106]\n",
            "X=309, Predicted=[0.0402469 0.9464102]\n",
            "X=310, Predicted=[0.02424777 0.98198205]\n",
            "X=311, Predicted=[0.18405743 0.87312955]\n",
            "X=312, Predicted=[0.9787907  0.04619065]\n",
            "X=313, Predicted=[0.66897994 0.2500664 ]\n",
            "X=314, Predicted=[0.96303123 0.01079893]\n",
            "X=315, Predicted=[0.73859143 0.10734988]\n",
            "X=316, Predicted=[0.003876   0.98464775]\n",
            "X=317, Predicted=[0.01494322 0.98148394]\n",
            "X=318, Predicted=[0.90738636 0.08365717]\n",
            "X=319, Predicted=[0.11478803 0.8127781 ]\n",
            "X=320, Predicted=[0.00105956 0.9982508 ]\n",
            "X=321, Predicted=[0.22795773 0.7899878 ]\n",
            "X=322, Predicted=[3.712355e-04 9.990621e-01]\n",
            "X=323, Predicted=[0.35782394 0.63694495]\n",
            "X=324, Predicted=[0.9900405  0.00516799]\n",
            "X=325, Predicted=[0.6019799  0.38589865]\n",
            "X=326, Predicted=[0.9716834  0.01812242]\n",
            "X=327, Predicted=[0.00434586 0.9949007 ]\n",
            "X=328, Predicted=[0.43749958 0.27063897]\n",
            "X=329, Predicted=[0.41196826 0.53140146]\n",
            "X=330, Predicted=[0.13393487 0.8572657 ]\n",
            "X=331, Predicted=[0.747573   0.26698923]\n",
            "X=332, Predicted=[0.04692993 0.9717985 ]\n",
            "X=333, Predicted=[0.64178133 0.30575964]\n",
            "X=334, Predicted=[0.18179905 0.83849204]\n",
            "X=335, Predicted=[0.7310104  0.18987612]\n",
            "X=336, Predicted=[0.03584336 0.9081794 ]\n",
            "X=337, Predicted=[0.05750163 0.8820197 ]\n",
            "X=338, Predicted=[0.06143144 0.95716166]\n",
            "X=339, Predicted=[0.0096745  0.99002445]\n",
            "X=340, Predicted=[0.9073331 0.0352363]\n",
            "X=341, Predicted=[0.78284234 0.25953436]\n",
            "X=342, Predicted=[0.02535492 0.9826669 ]\n",
            "X=343, Predicted=[0.7282332  0.27776188]\n",
            "X=344, Predicted=[0.35537726 0.48717785]\n",
            "X=345, Predicted=[0.1033192 0.8801675]\n",
            "X=346, Predicted=[0.7251028  0.22301677]\n",
            "X=347, Predicted=[0.02691363 0.9508415 ]\n",
            "X=348, Predicted=[0.0033545 0.9962419]\n",
            "X=349, Predicted=[0.3682361  0.54304224]\n",
            "X=350, Predicted=[0.97058433 0.01805681]\n",
            "X=351, Predicted=[0.05893718 0.9360754 ]\n",
            "X=352, Predicted=[0.60262567 0.3256803 ]\n",
            "X=353, Predicted=[0.47844857 0.35424834]\n",
            "X=354, Predicted=[0.00265563 0.9880674 ]\n",
            "X=355, Predicted=[0.05672808 0.873383  ]\n",
            "X=356, Predicted=[0.00152861 0.9976138 ]\n",
            "X=357, Predicted=[0.04031423 0.9739613 ]\n",
            "X=358, Predicted=[0.0227678  0.97939575]\n",
            "X=359, Predicted=[0.00744282 0.99211276]\n",
            "X=360, Predicted=[0.11066632 0.9378881 ]\n",
            "X=361, Predicted=[0.01524366 0.9782994 ]\n",
            "X=362, Predicted=[0.93998474 0.03889452]\n",
            "X=363, Predicted=[0.03326475 0.9745345 ]\n",
            "X=364, Predicted=[0.63667965 0.3433763 ]\n",
            "X=365, Predicted=[0.11525801 0.92111045]\n",
            "X=366, Predicted=[0.96703166 0.01161492]\n",
            "X=367, Predicted=[0.53435326 0.35558563]\n",
            "X=368, Predicted=[0.97119516 0.04994928]\n",
            "X=369, Predicted=[0.80771714 0.0860356 ]\n",
            "X=370, Predicted=[0.02302413 0.97634286]\n",
            "X=371, Predicted=[0.68784857 0.19965674]\n",
            "X=372, Predicted=[0.4265805 0.6163124]\n",
            "X=373, Predicted=[0.68250346 0.21110688]\n",
            "X=374, Predicted=[0.7141206  0.32016942]\n",
            "X=375, Predicted=[0.71846706 0.21574277]\n",
            "X=376, Predicted=[0.04779267 0.9679588 ]\n",
            "X=377, Predicted=[0.8394173  0.08309135]\n",
            "X=378, Predicted=[7.9149078e-04 9.9847394e-01]\n",
            "X=379, Predicted=[0.00989606 0.98967373]\n",
            "X=380, Predicted=[0.90036416 0.04747253]\n",
            "X=381, Predicted=[0.88406146 0.13214833]\n",
            "X=382, Predicted=[0.9015739  0.10668864]\n",
            "X=383, Predicted=[0.00148572 0.9985006 ]\n",
            "X=384, Predicted=[0.12982251 0.74276674]\n",
            "X=385, Predicted=[0.03684097 0.9700014 ]\n",
            "X=386, Predicted=[0.8882228  0.46360156]\n",
            "X=387, Predicted=[0.0489959 0.9708134]\n",
            "X=388, Predicted=[0.38684356 0.61296254]\n",
            "X=389, Predicted=[0.21054123 0.826563  ]\n",
            "X=390, Predicted=[0.9874916  0.00434744]\n",
            "X=391, Predicted=[0.0296298  0.93132186]\n",
            "X=392, Predicted=[0.57334995 0.281593  ]\n",
            "X=393, Predicted=[0.59380895 0.4809226 ]\n",
            "X=394, Predicted=[0.00427127 0.98570025]\n",
            "X=395, Predicted=[0.0019778  0.99623907]\n",
            "X=396, Predicted=[0.45067963 0.4936475 ]\n",
            "X=397, Predicted=[0.37721303 0.9139799 ]\n",
            "X=398, Predicted=[0.01964016 0.956235  ]\n",
            "X=399, Predicted=[0.366432  0.6415342]\n",
            "X=400, Predicted=[0.02533015 0.9737726 ]\n",
            "X=401, Predicted=[0.00893775 0.97023755]\n",
            "X=402, Predicted=[0.7552742  0.19842419]\n",
            "X=403, Predicted=[0.7611738  0.19648682]\n",
            "X=404, Predicted=[0.0150899  0.99190533]\n",
            "X=405, Predicted=[0.9957273  0.00740233]\n",
            "X=406, Predicted=[0.02040674 0.93727183]\n",
            "X=407, Predicted=[0.9920998  0.00222503]\n",
            "X=408, Predicted=[0.9971041  0.00122202]\n",
            "X=409, Predicted=[0.94079363 0.03143648]\n",
            "X=410, Predicted=[0.00322232 0.9956827 ]\n",
            "X=411, Predicted=[0.56372964 0.2343261 ]\n",
            "X=412, Predicted=[0.76683027 0.10426562]\n",
            "X=413, Predicted=[0.36722997 0.38884452]\n",
            "X=414, Predicted=[0.00219285 0.9976884 ]\n",
            "X=415, Predicted=[0.42475635 0.63945216]\n",
            "X=416, Predicted=[0.49406552 0.40384528]\n",
            "X=417, Predicted=[0.4998266 0.70727  ]\n",
            "X=418, Predicted=[0.05608846 0.8952423 ]\n",
            "X=419, Predicted=[0.9661823  0.02901753]\n",
            "X=420, Predicted=[0.00841389 0.98553306]\n",
            "X=421, Predicted=[0.0157215  0.98884994]\n",
            "X=422, Predicted=[0.26315844 0.6366451 ]\n",
            "X=423, Predicted=[0.01943076 0.98558074]\n",
            "X=424, Predicted=[0.9453938 0.0443714]\n",
            "X=425, Predicted=[0.34546793 0.6238323 ]\n",
            "X=426, Predicted=[0.12179774 0.94516265]\n",
            "X=427, Predicted=[0.03808292 0.96176946]\n",
            "X=428, Predicted=[0.02661384 0.9855503 ]\n",
            "X=429, Predicted=[0.938028   0.05786034]\n",
            "X=430, Predicted=[0.8118977  0.11712113]\n",
            "X=431, Predicted=[0.87091434 0.05025663]\n",
            "X=432, Predicted=[0.00106066 0.99830484]\n",
            "X=433, Predicted=[0.92128485 0.09488588]\n",
            "X=434, Predicted=[0.8916288  0.15547559]\n",
            "X=435, Predicted=[0.20639391 0.79193103]\n",
            "X=436, Predicted=[0.11995126 0.88343126]\n",
            "X=437, Predicted=[0.03823813 0.87415373]\n",
            "X=438, Predicted=[0.0098813  0.98774767]\n",
            "X=439, Predicted=[0.03938866 0.95878285]\n",
            "X=440, Predicted=[0.27623612 0.7665147 ]\n",
            "X=441, Predicted=[8.0891186e-04 9.9609560e-01]\n",
            "X=442, Predicted=[0.18782389 0.6377335 ]\n",
            "X=443, Predicted=[0.00937272 0.9888769 ]\n",
            "X=444, Predicted=[0.64396566 0.40501675]\n",
            "X=445, Predicted=[0.5124758 0.3643574]\n",
            "X=446, Predicted=[0.05077256 0.9600622 ]\n",
            "X=447, Predicted=[0.43749171 0.64007074]\n",
            "X=448, Predicted=[0.2626252 0.7343998]\n",
            "X=449, Predicted=[0.00613034 0.98902065]\n",
            "X=450, Predicted=[0.00663855 0.9834046 ]\n",
            "X=451, Predicted=[0.90127605 0.05356144]\n",
            "X=452, Predicted=[0.02235698 0.9757331 ]\n",
            "X=453, Predicted=[0.30242938 0.52146375]\n",
            "X=454, Predicted=[0.00606568 0.99369806]\n",
            "X=455, Predicted=[0.9207989  0.03783008]\n",
            "X=456, Predicted=[0.13061276 0.83078235]\n",
            "X=457, Predicted=[0.9586154  0.01879978]\n",
            "X=458, Predicted=[0.04347137 0.9638336 ]\n",
            "X=459, Predicted=[0.7091204 0.2255493]\n",
            "X=460, Predicted=[0.03404544 0.8729147 ]\n",
            "X=461, Predicted=[0.4304262  0.34252918]\n",
            "X=462, Predicted=[0.6785032  0.25223243]\n",
            "X=463, Predicted=[0.95361656 0.03975591]\n",
            "X=464, Predicted=[0.9922047 0.0049662]\n",
            "X=465, Predicted=[0.04253223 0.96111864]\n",
            "X=466, Predicted=[0.04192743 0.99084175]\n",
            "X=467, Predicted=[0.01895336 0.9888686 ]\n",
            "X=468, Predicted=[0.01047889 0.9920603 ]\n",
            "X=469, Predicted=[0.00982843 0.9785882 ]\n",
            "X=470, Predicted=[0.00311839 0.99555534]\n",
            "X=471, Predicted=[0.95351964 0.02821828]\n",
            "X=472, Predicted=[0.3157683 0.6098244]\n",
            "X=473, Predicted=[0.2994779 0.5256392]\n",
            "X=474, Predicted=[0.08366608 0.86600226]\n",
            "X=475, Predicted=[0.0187371  0.98036665]\n",
            "X=476, Predicted=[0.00631221 0.9938175 ]\n",
            "X=477, Predicted=[0.99150157 0.01085734]\n",
            "X=478, Predicted=[0.48755875 0.44319645]\n",
            "X=479, Predicted=[0.00196197 0.9960698 ]\n",
            "X=480, Predicted=[0.315092   0.51988953]\n",
            "X=481, Predicted=[9.9839836e-01 2.9803487e-04]\n",
            "X=482, Predicted=[0.8207972  0.18745437]\n",
            "X=483, Predicted=[0.87359613 0.12515101]\n",
            "X=484, Predicted=[0.10725695 0.798837  ]\n",
            "X=485, Predicted=[0.0763651 0.9519084]\n",
            "X=486, Predicted=[0.80647075 0.15121381]\n",
            "X=487, Predicted=[0.05015785 0.9448269 ]\n",
            "X=488, Predicted=[0.80217403 0.20243666]\n",
            "X=489, Predicted=[0.15344273 0.92717135]\n",
            "X=490, Predicted=[0.72077024 0.15445635]\n",
            "X=491, Predicted=[0.44152257 0.46398902]\n",
            "X=492, Predicted=[0.8961094  0.05639434]\n",
            "X=493, Predicted=[0.93770313 0.02281713]\n",
            "X=494, Predicted=[0.8837713  0.18530382]\n",
            "X=495, Predicted=[0.04703275 0.9307706 ]\n",
            "X=496, Predicted=[0.5334173 0.3841151]\n",
            "X=497, Predicted=[0.48599973 0.31694946]\n",
            "X=498, Predicted=[0.10029931 0.9161621 ]\n",
            "X=499, Predicted=[0.9989833  0.00119799]\n",
            "X=500, Predicted=[2.6052500e-04 9.9954623e-01]\n",
            "X=501, Predicted=[0.55250084 0.4958164 ]\n",
            "X=502, Predicted=[0.1079913 0.857859 ]\n",
            "X=503, Predicted=[0.9684748  0.04698342]\n",
            "X=504, Predicted=[0.01808608 0.96585566]\n",
            "X=505, Predicted=[0.0012258 0.9969361]\n",
            "X=506, Predicted=[0.17580815 0.85280985]\n",
            "X=507, Predicted=[0.03327699 0.9789683 ]\n",
            "X=508, Predicted=[0.00318913 0.9944305 ]\n",
            "X=509, Predicted=[0.3575451 0.4912051]\n",
            "X=510, Predicted=[0.837454   0.19980222]\n",
            "X=511, Predicted=[9.959423e-01 8.449036e-04]\n",
            "X=512, Predicted=[0.45288023 0.5086646 ]\n",
            "X=513, Predicted=[0.29621184 0.7260361 ]\n",
            "X=514, Predicted=[0.3364811  0.57614666]\n",
            "X=515, Predicted=[0.44610864 0.4267362 ]\n",
            "X=516, Predicted=[0.9140041  0.05814603]\n",
            "X=517, Predicted=[0.2098623 0.6913302]\n",
            "X=518, Predicted=[0.00348619 0.99352586]\n",
            "X=519, Predicted=[0.03651339 0.975205  ]\n",
            "X=520, Predicted=[0.93867344 0.02266336]\n",
            "X=521, Predicted=[0.03530789 0.96821344]\n",
            "X=522, Predicted=[6.5951975e-04 9.9732780e-01]\n",
            "X=523, Predicted=[0.9830329  0.00598049]\n",
            "X=524, Predicted=[0.9569992  0.10906946]\n",
            "X=525, Predicted=[0.5566208 0.4131073]\n",
            "X=526, Predicted=[0.54193157 0.18595159]\n",
            "X=527, Predicted=[0.5878746  0.29516762]\n",
            "X=528, Predicted=[0.787387   0.33682975]\n",
            "X=529, Predicted=[0.98205316 0.03639369]\n",
            "X=530, Predicted=[0.33227712 0.31768677]\n",
            "X=531, Predicted=[0.03897229 0.9432939 ]\n",
            "X=532, Predicted=[0.74955976 0.160359  ]\n",
            "X=533, Predicted=[0.2492682 0.7292868]\n",
            "X=534, Predicted=[0.98493075 0.01379485]\n",
            "X=535, Predicted=[0.9762215 0.0184049]\n",
            "X=536, Predicted=[0.01187767 0.9715958 ]\n",
            "X=537, Predicted=[0.6319678  0.22782922]\n",
            "X=538, Predicted=[0.0524653 0.9472954]\n",
            "X=539, Predicted=[0.978836   0.01605661]\n",
            "X=540, Predicted=[0.7782745  0.12930648]\n",
            "X=541, Predicted=[0.89044935 0.03814624]\n",
            "X=542, Predicted=[0.43536276 0.36009932]\n",
            "X=543, Predicted=[0.02014389 0.969984  ]\n",
            "X=544, Predicted=[0.79952174 0.16973166]\n",
            "X=545, Predicted=[0.0247761  0.98696345]\n",
            "X=546, Predicted=[0.00815481 0.9887494 ]\n",
            "X=547, Predicted=[0.00431955 0.98728704]\n",
            "X=548, Predicted=[0.6290731 0.5654987]\n",
            "X=549, Predicted=[0.00373826 0.99630094]\n",
            "X=550, Predicted=[0.02470259 0.9706891 ]\n",
            "X=551, Predicted=[0.6914722  0.14838165]\n",
            "X=552, Predicted=[0.33076736 0.5189056 ]\n",
            "X=553, Predicted=[0.02172756 0.9719554 ]\n",
            "X=554, Predicted=[0.02400946 0.9844185 ]\n",
            "X=555, Predicted=[0.00484302 0.9954817 ]\n",
            "X=556, Predicted=[0.19871204 0.7500788 ]\n",
            "X=557, Predicted=[0.00626111 0.97940695]\n",
            "X=558, Predicted=[0.05438208 0.92714864]\n",
            "X=559, Predicted=[0.19286679 0.8307088 ]\n",
            "X=560, Predicted=[0.9845296  0.03014946]\n",
            "X=561, Predicted=[0.00688529 0.9876868 ]\n",
            "X=562, Predicted=[0.02252807 0.9694253 ]\n",
            "X=563, Predicted=[0.3891409  0.47161594]\n",
            "X=564, Predicted=[0.6609231 0.209693 ]\n",
            "X=565, Predicted=[0.04944812 0.935108  ]\n",
            "X=566, Predicted=[0.41083273 0.61655796]\n",
            "X=567, Predicted=[0.09498177 0.799739  ]\n",
            "X=568, Predicted=[0.16817202 0.6761113 ]\n",
            "X=569, Predicted=[0.30906877 0.80916625]\n",
            "X=570, Predicted=[0.98834604 0.00453964]\n",
            "X=571, Predicted=[0.94710803 0.01422861]\n",
            "X=572, Predicted=[0.0116659 0.9865479]\n",
            "X=573, Predicted=[0.32057592 0.75859827]\n",
            "X=574, Predicted=[0.1039781 0.7194699]\n",
            "X=575, Predicted=[0.07028166 0.9600864 ]\n",
            "X=576, Predicted=[0.9549699  0.07845388]\n",
            "X=577, Predicted=[0.00756631 0.99326116]\n",
            "X=578, Predicted=[0.7726896  0.30469355]\n",
            "X=579, Predicted=[0.6222864  0.31544226]\n",
            "X=580, Predicted=[0.01556273 0.9747628 ]\n",
            "X=581, Predicted=[0.66152793 0.3217006 ]\n",
            "X=582, Predicted=[0.9363476  0.06594537]\n",
            "X=583, Predicted=[0.9904101 0.0170293]\n",
            "X=584, Predicted=[0.16890246 0.8596071 ]\n",
            "X=585, Predicted=[0.08706946 0.6502192 ]\n",
            "X=586, Predicted=[0.0970242 0.8914797]\n",
            "X=587, Predicted=[0.03598913 0.9464956 ]\n",
            "X=588, Predicted=[3.5494307e-04 9.9882430e-01]\n",
            "X=589, Predicted=[0.08962438 0.91656727]\n",
            "X=590, Predicted=[0.3509334  0.71757364]\n",
            "X=591, Predicted=[0.00417641 0.9913557 ]\n",
            "X=592, Predicted=[0.7730676  0.21077244]\n",
            "X=593, Predicted=[0.8129376 0.1172775]\n",
            "X=594, Predicted=[0.9617897  0.01873799]\n",
            "X=595, Predicted=[0.01008949 0.98921704]\n",
            "X=596, Predicted=[0.0922648 0.9460853]\n",
            "X=597, Predicted=[0.9837768  0.00484326]\n",
            "X=598, Predicted=[0.00512856 0.99610484]\n",
            "X=599, Predicted=[0.02465146 0.91863656]\n",
            "X=600, Predicted=[0.01653309 0.9638883 ]\n",
            "X=601, Predicted=[0.98864114 0.00466875]\n",
            "X=602, Predicted=[0.0015616  0.99796355]\n",
            "X=603, Predicted=[0.9834516  0.01169821]\n",
            "X=604, Predicted=[0.9520821  0.03870742]\n",
            "X=605, Predicted=[0.97504234 0.00789159]\n",
            "X=606, Predicted=[0.835811   0.12472749]\n",
            "X=607, Predicted=[0.67104274 0.02177163]\n",
            "X=608, Predicted=[0.83360773 0.12145749]\n",
            "X=609, Predicted=[0.05430118 0.9429692 ]\n",
            "X=610, Predicted=[0.19745792 0.6462295 ]\n",
            "X=611, Predicted=[0.07586941 0.952774  ]\n",
            "X=612, Predicted=[0.00542348 0.99005425]\n",
            "X=613, Predicted=[0.7819516  0.11096281]\n",
            "X=614, Predicted=[0.69013274 0.24457128]\n",
            "X=615, Predicted=[0.43696892 0.4581029 ]\n",
            "X=616, Predicted=[0.6637094 0.5469158]\n",
            "X=617, Predicted=[0.7796659  0.22320609]\n",
            "X=618, Predicted=[0.12316287 0.8800834 ]\n",
            "X=619, Predicted=[0.00279066 0.99618846]\n",
            "X=620, Predicted=[0.5781383  0.37888044]\n",
            "X=621, Predicted=[0.0224882  0.97541785]\n",
            "X=622, Predicted=[0.06240194 0.94164956]\n",
            "X=623, Predicted=[0.03227593 0.95763624]\n",
            "X=624, Predicted=[0.01580452 0.9789042 ]\n",
            "X=625, Predicted=[0.19225162 0.6312877 ]\n",
            "X=626, Predicted=[0.24758291 0.6203191 ]\n",
            "X=627, Predicted=[0.28112623 0.70334   ]\n",
            "X=628, Predicted=[0.27907017 0.5412838 ]\n",
            "X=629, Predicted=[0.7990055  0.49289328]\n",
            "X=630, Predicted=[0.34833547 0.5891317 ]\n",
            "X=631, Predicted=[0.6078809  0.40385103]\n",
            "X=632, Predicted=[0.19142158 0.84164304]\n",
            "X=633, Predicted=[0.0404148 0.9701433]\n",
            "X=634, Predicted=[0.91027594 0.06706928]\n",
            "X=635, Predicted=[0.05880329 0.94590116]\n",
            "X=636, Predicted=[0.00615838 0.98981   ]\n",
            "X=637, Predicted=[0.7577805  0.14830649]\n",
            "X=638, Predicted=[0.20164429 0.8461578 ]\n",
            "X=639, Predicted=[0.05343271 0.92402583]\n",
            "X=640, Predicted=[0.93830407 0.02726161]\n",
            "X=641, Predicted=[0.02974241 0.97255874]\n",
            "X=642, Predicted=[0.01734662 0.97389627]\n",
            "X=643, Predicted=[0.00900568 0.99586123]\n",
            "X=644, Predicted=[0.6640028 0.3328888]\n",
            "X=645, Predicted=[0.03567041 0.96823746]\n",
            "X=646, Predicted=[0.01858695 0.9882742 ]\n",
            "X=647, Predicted=[0.17844293 0.71767956]\n",
            "X=648, Predicted=[0.46801075 0.59962875]\n",
            "X=649, Predicted=[0.8301556 0.1445729]\n",
            "X=650, Predicted=[0.0214281  0.98716843]\n",
            "X=651, Predicted=[0.53083074 0.4649123 ]\n",
            "X=652, Predicted=[0.0421999 0.9651802]\n",
            "X=653, Predicted=[8.048318e-04 9.992955e-01]\n",
            "X=654, Predicted=[0.7674784 0.2110309]\n",
            "X=655, Predicted=[0.00700151 0.99644095]\n",
            "X=656, Predicted=[0.04154287 0.9521328 ]\n",
            "X=657, Predicted=[0.6604707  0.54754585]\n",
            "X=658, Predicted=[0.39955562 0.5442052 ]\n",
            "X=659, Predicted=[0.00757249 0.9933901 ]\n",
            "X=660, Predicted=[0.02355248 0.9843156 ]\n",
            "X=661, Predicted=[0.2909571  0.71198773]\n",
            "X=662, Predicted=[0.52303666 0.7490843 ]\n",
            "X=663, Predicted=[0.5184445  0.29035157]\n",
            "X=664, Predicted=[0.02964023 0.97668636]\n",
            "X=665, Predicted=[0.00179604 0.9984126 ]\n",
            "X=666, Predicted=[0.00779616 0.99601847]\n",
            "X=667, Predicted=[0.94511306 0.02798392]\n",
            "X=668, Predicted=[0.8317022  0.09862864]\n",
            "X=669, Predicted=[0.04148219 0.9724467 ]\n",
            "X=670, Predicted=[0.0182356 0.974162 ]\n",
            "X=671, Predicted=[0.8108547  0.13397737]\n",
            "X=672, Predicted=[0.02323681 0.9798116 ]\n",
            "X=673, Predicted=[0.42880547 0.67907065]\n",
            "X=674, Predicted=[0.93429375 0.05468801]\n",
            "X=675, Predicted=[0.06184739 0.98247784]\n",
            "X=676, Predicted=[0.6717689  0.26516092]\n",
            "X=677, Predicted=[0.03152367 0.97934216]\n",
            "X=678, Predicted=[0.02300658 0.97974485]\n",
            "X=679, Predicted=[0.23807035 0.69508344]\n",
            "X=680, Predicted=[0.89646906 0.08220387]\n",
            "X=681, Predicted=[0.04406733 0.96287996]\n",
            "X=682, Predicted=[0.05406968 0.9673162 ]\n",
            "X=683, Predicted=[0.5929903 0.2739628]\n",
            "X=684, Predicted=[0.9604368  0.03651091]\n",
            "X=685, Predicted=[0.4477294  0.41259733]\n",
            "X=686, Predicted=[9.2136295e-04 9.9885523e-01]\n",
            "X=687, Predicted=[0.0177057 0.9887405]\n",
            "X=688, Predicted=[0.73208386 0.11072329]\n",
            "X=689, Predicted=[0.00634032 0.99508506]\n",
            "X=690, Predicted=[0.66529423 0.4650931 ]\n",
            "X=691, Predicted=[0.26936182 0.83746773]\n",
            "X=692, Predicted=[0.9252633  0.04899801]\n",
            "X=693, Predicted=[0.06354005 0.94557714]\n",
            "X=694, Predicted=[0.03411356 0.95411676]\n",
            "X=695, Predicted=[0.98657435 0.0048077 ]\n",
            "X=696, Predicted=[0.68975437 0.18174817]\n",
            "X=697, Predicted=[0.9382166  0.02447194]\n",
            "X=698, Predicted=[0.10333207 0.60011613]\n",
            "X=699, Predicted=[0.9646845  0.00502921]\n",
            "X=700, Predicted=[0.34807965 0.63001376]\n",
            "X=701, Predicted=[0.7974481  0.12705371]\n",
            "X=702, Predicted=[0.95631677 0.01386098]\n",
            "X=703, Predicted=[0.75083727 0.2001584 ]\n",
            "X=704, Predicted=[0.0537054 0.904857 ]\n",
            "X=705, Predicted=[0.75044614 0.07384843]\n",
            "X=706, Predicted=[0.05420151 0.9067726 ]\n",
            "X=707, Predicted=[0.54212976 0.4000979 ]\n",
            "X=708, Predicted=[0.02907487 0.9277858 ]\n",
            "X=709, Predicted=[0.73174334 0.3131213 ]\n",
            "X=710, Predicted=[0.82095414 0.39022505]\n",
            "X=711, Predicted=[0.11591458 0.8799273 ]\n",
            "X=712, Predicted=[0.97784233 0.01462404]\n",
            "X=713, Predicted=[0.03988668 0.87576693]\n",
            "X=714, Predicted=[0.5676291  0.64471036]\n",
            "X=715, Predicted=[0.03506503 0.95505065]\n",
            "X=716, Predicted=[0.1647586  0.77214026]\n",
            "X=717, Predicted=[0.00997559 0.99313086]\n",
            "X=718, Predicted=[0.81820256 0.07228293]\n",
            "X=719, Predicted=[0.800934  0.5532843]\n"
          ]
        }
      ]
    },
    {
      "cell_type": "code",
      "metadata": {
        "id": "dXMq7gdefTFy"
      },
      "source": [
        ""
      ],
      "execution_count": null,
      "outputs": []
    },
    {
      "cell_type": "code",
      "metadata": {
        "id": "OoqxTigBe8VX"
      },
      "source": [
        ""
      ],
      "execution_count": null,
      "outputs": []
    },
    {
      "cell_type": "markdown",
      "metadata": {
        "id": "0fSZkLyC13Mc"
      },
      "source": [
        "## ROC curve"
      ]
    },
    {
      "cell_type": "code",
      "metadata": {
        "colab": {
          "base_uri": "https://localhost:8080/",
          "height": 431
        },
        "id": "wSpwhgdS4SEa",
        "outputId": "ffd74891-54a8-4594-9724-ea35c1dc45d1"
      },
      "source": [
        "from sklearn.metrics import roc_curve, auc\n",
        "\n",
        "nn_fpr_keras, nn_tpr_keras, nn_thresholds_keras = roc_curve(y_test,\\\n",
        "                                                            y_test_pred_new)\n",
        "auc_keras = auc(nn_fpr_keras,\\\n",
        "                nn_tpr_keras)\n",
        "plt.plot(nn_fpr_keras,\\\n",
        "         nn_tpr_keras,\\\n",
        "         marker='.',\\\n",
        "         label='Neural Network (auc = %0.3f)' % auc_keras)\n",
        "\n"
      ],
      "execution_count": null,
      "outputs": [
        {
          "output_type": "error",
          "ename": "ValueError",
          "evalue": "ignored",
          "traceback": [
            "\u001b[0;31m---------------------------------------------------------------------------\u001b[0m",
            "\u001b[0;31mValueError\u001b[0m                                Traceback (most recent call last)",
            "\u001b[0;32m<ipython-input-54-b6b213e871a2>\u001b[0m in \u001b[0;36m<module>\u001b[0;34m()\u001b[0m\n\u001b[1;32m      1\u001b[0m \u001b[0;32mfrom\u001b[0m \u001b[0msklearn\u001b[0m\u001b[0;34m.\u001b[0m\u001b[0mmetrics\u001b[0m \u001b[0;32mimport\u001b[0m \u001b[0mroc_curve\u001b[0m\u001b[0;34m,\u001b[0m \u001b[0mauc\u001b[0m\u001b[0;34m\u001b[0m\u001b[0;34m\u001b[0m\u001b[0m\n\u001b[1;32m      2\u001b[0m \u001b[0;34m\u001b[0m\u001b[0m\n\u001b[0;32m----> 3\u001b[0;31m \u001b[0mnn_fpr_keras\u001b[0m\u001b[0;34m,\u001b[0m \u001b[0mnn_tpr_keras\u001b[0m\u001b[0;34m,\u001b[0m \u001b[0mnn_thresholds_keras\u001b[0m \u001b[0;34m=\u001b[0m \u001b[0mroc_curve\u001b[0m\u001b[0;34m(\u001b[0m\u001b[0my_test\u001b[0m\u001b[0;34m,\u001b[0m                                                            \u001b[0my_test_pred_new\u001b[0m\u001b[0;34m)\u001b[0m\u001b[0;34m\u001b[0m\u001b[0;34m\u001b[0m\u001b[0m\n\u001b[0m\u001b[1;32m      4\u001b[0m \u001b[0mauc_keras\u001b[0m \u001b[0;34m=\u001b[0m \u001b[0mauc\u001b[0m\u001b[0;34m(\u001b[0m\u001b[0mnn_fpr_keras\u001b[0m\u001b[0;34m,\u001b[0m                \u001b[0mnn_tpr_keras\u001b[0m\u001b[0;34m)\u001b[0m\u001b[0;34m\u001b[0m\u001b[0;34m\u001b[0m\u001b[0m\n\u001b[1;32m      5\u001b[0m \u001b[0mplt\u001b[0m\u001b[0;34m.\u001b[0m\u001b[0mplot\u001b[0m\u001b[0;34m(\u001b[0m\u001b[0mnn_fpr_keras\u001b[0m\u001b[0;34m,\u001b[0m         \u001b[0mnn_tpr_keras\u001b[0m\u001b[0;34m,\u001b[0m         \u001b[0mmarker\u001b[0m\u001b[0;34m=\u001b[0m\u001b[0;34m'.'\u001b[0m\u001b[0;34m,\u001b[0m         \u001b[0mlabel\u001b[0m\u001b[0;34m=\u001b[0m\u001b[0;34m'Neural Network (auc = %0.3f)'\u001b[0m \u001b[0;34m%\u001b[0m \u001b[0mauc_keras\u001b[0m\u001b[0;34m)\u001b[0m\u001b[0;34m\u001b[0m\u001b[0;34m\u001b[0m\u001b[0m\n",
            "\u001b[0;32m/usr/local/lib/python3.7/dist-packages/sklearn/metrics/_ranking.py\u001b[0m in \u001b[0;36mroc_curve\u001b[0;34m(y_true, y_score, pos_label, sample_weight, drop_intermediate)\u001b[0m\n\u001b[1;32m    769\u001b[0m     \"\"\"\n\u001b[1;32m    770\u001b[0m     fps, tps, thresholds = _binary_clf_curve(\n\u001b[0;32m--> 771\u001b[0;31m         y_true, y_score, pos_label=pos_label, sample_weight=sample_weight)\n\u001b[0m\u001b[1;32m    772\u001b[0m \u001b[0;34m\u001b[0m\u001b[0m\n\u001b[1;32m    773\u001b[0m     \u001b[0;31m# Attempt to drop thresholds corresponding to points in between and\u001b[0m\u001b[0;34m\u001b[0m\u001b[0;34m\u001b[0m\u001b[0;34m\u001b[0m\u001b[0m\n",
            "\u001b[0;32m/usr/local/lib/python3.7/dist-packages/sklearn/metrics/_ranking.py\u001b[0m in \u001b[0;36m_binary_clf_curve\u001b[0;34m(y_true, y_score, pos_label, sample_weight)\u001b[0m\n\u001b[1;32m    534\u001b[0m     if not (y_type == \"binary\" or\n\u001b[1;32m    535\u001b[0m             (y_type == \"multiclass\" and pos_label is not None)):\n\u001b[0;32m--> 536\u001b[0;31m         \u001b[0;32mraise\u001b[0m \u001b[0mValueError\u001b[0m\u001b[0;34m(\u001b[0m\u001b[0;34m\"{0} format is not supported\"\u001b[0m\u001b[0;34m.\u001b[0m\u001b[0mformat\u001b[0m\u001b[0;34m(\u001b[0m\u001b[0my_type\u001b[0m\u001b[0;34m)\u001b[0m\u001b[0;34m)\u001b[0m\u001b[0;34m\u001b[0m\u001b[0;34m\u001b[0m\u001b[0m\n\u001b[0m\u001b[1;32m    537\u001b[0m \u001b[0;34m\u001b[0m\u001b[0m\n\u001b[1;32m    538\u001b[0m     \u001b[0mcheck_consistent_length\u001b[0m\u001b[0;34m(\u001b[0m\u001b[0my_true\u001b[0m\u001b[0;34m,\u001b[0m \u001b[0my_score\u001b[0m\u001b[0;34m,\u001b[0m \u001b[0msample_weight\u001b[0m\u001b[0;34m)\u001b[0m\u001b[0;34m\u001b[0m\u001b[0;34m\u001b[0m\u001b[0m\n",
            "\u001b[0;31mValueError\u001b[0m: multilabel-indicator format is not supported"
          ]
        }
      ]
    },
    {
      "cell_type": "markdown",
      "metadata": {
        "id": "pyZpxpgR5EWf"
      },
      "source": [
        "## Visualizing learning with GradCam"
      ]
    },
    {
      "cell_type": "code",
      "metadata": {
        "colab": {
          "base_uri": "https://localhost:8080/"
        },
        "id": "SSB2FsZVCddo",
        "outputId": "50de5b59-2a91-4dc4-d084-1ea7290c17a2"
      },
      "source": [
        "!pip3 install utils"
      ],
      "execution_count": null,
      "outputs": [
        {
          "output_type": "stream",
          "name": "stdout",
          "text": [
            "Collecting utils\n",
            "  Downloading utils-1.0.1-py2.py3-none-any.whl (21 kB)\n",
            "Installing collected packages: utils\n",
            "Successfully installed utils-1.0.1\n"
          ]
        }
      ]
    },
    {
      "cell_type": "code",
      "metadata": {
        "id": "vswCLSI_12D-"
      },
      "source": [
        "#df = pd.read_csv(\"nih/train-small.csv\")\n",
        "#IMAGE_DIR = \"nih/images-small/\"\n",
        "labels = ['Covid', 'Normal']\n",
        "\n",
        "# only show the lables with top 4 AUC\n",
        "#labels_to_show = np.take(labels, np.argsort(auc_rocs)[::-1])[:4]"
      ],
      "execution_count": null,
      "outputs": []
    },
    {
      "cell_type": "code",
      "metadata": {
        "colab": {
          "base_uri": "https://localhost:8080/",
          "height": 200
        },
        "id": "2CcFD69W5UdK",
        "outputId": "52a08615-9bc4-4dd3-c00b-237dbb843c3c"
      },
      "source": [
        "from utils import *\n",
        "import utils\n",
        "utils.compute_gradcam(new_cxr_pretrained_densenet, X_test[0], labels)"
      ],
      "execution_count": null,
      "outputs": [
        {
          "output_type": "error",
          "ename": "AttributeError",
          "evalue": "ignored",
          "traceback": [
            "\u001b[0;31m---------------------------------------------------------------------------\u001b[0m",
            "\u001b[0;31mAttributeError\u001b[0m                            Traceback (most recent call last)",
            "\u001b[0;32m<ipython-input-88-6cefbf1bf044>\u001b[0m in \u001b[0;36m<module>\u001b[0;34m()\u001b[0m\n\u001b[1;32m      1\u001b[0m \u001b[0;32mfrom\u001b[0m \u001b[0mutils\u001b[0m \u001b[0;32mimport\u001b[0m \u001b[0;34m*\u001b[0m\u001b[0;34m\u001b[0m\u001b[0;34m\u001b[0m\u001b[0m\n\u001b[1;32m      2\u001b[0m \u001b[0;32mimport\u001b[0m \u001b[0mutils\u001b[0m\u001b[0;34m\u001b[0m\u001b[0;34m\u001b[0m\u001b[0m\n\u001b[0;32m----> 3\u001b[0;31m \u001b[0mutils\u001b[0m\u001b[0;34m.\u001b[0m\u001b[0mcompute_gradcam\u001b[0m\u001b[0;34m(\u001b[0m\u001b[0mnew_cxr_pretrained_densenet\u001b[0m\u001b[0;34m,\u001b[0m \u001b[0mX_test\u001b[0m\u001b[0;34m[\u001b[0m\u001b[0;36m0\u001b[0m\u001b[0;34m]\u001b[0m\u001b[0;34m,\u001b[0m \u001b[0mlabels\u001b[0m\u001b[0;34m)\u001b[0m\u001b[0;34m\u001b[0m\u001b[0;34m\u001b[0m\u001b[0m\n\u001b[0m",
            "\u001b[0;31mAttributeError\u001b[0m: module 'utils' has no attribute 'compute_gradcam'"
          ]
        }
      ]
    },
    {
      "cell_type": "code",
      "metadata": {
        "id": "obyq8tty5ZNU"
      },
      "source": [
        "util.compute_gradcam(model, '00011355_002.png', IMAGE_DIR, df, labels)"
      ],
      "execution_count": null,
      "outputs": []
    },
    {
      "cell_type": "markdown",
      "metadata": {
        "id": "1hTYzGnOC8Cz"
      },
      "source": [
        ""
      ]
    }
  ]
}