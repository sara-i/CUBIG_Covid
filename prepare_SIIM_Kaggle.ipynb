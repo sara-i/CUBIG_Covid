{
  "nbformat": 4,
  "nbformat_minor": 5,
  "metadata": {
    "kernelspec": {
      "display_name": "Python 3",
      "language": "python",
      "name": "python3"
    },
    "language_info": {
      "codemirror_mode": {
        "name": "ipython",
        "version": 3
      },
      "file_extension": ".py",
      "mimetype": "text/x-python",
      "name": "python",
      "nbconvert_exporter": "python",
      "pygments_lexer": "ipython3",
      "version": "3.8.8"
    },
    "colab": {
      "name": "prepare_SIIM_Kaggle.ipynb",
      "provenance": [],
      "include_colab_link": true
    }
  },
  "cells": [
    {
      "cell_type": "markdown",
      "metadata": {
        "id": "view-in-github",
        "colab_type": "text"
      },
      "source": [
        "<a href=\"https://colab.research.google.com/github/sara-i/CUBIG_Covid/blob/main/prepare_SIIM_Kaggle.ipynb\" target=\"_parent\"><img src=\"https://colab.research.google.com/assets/colab-badge.svg\" alt=\"Open In Colab\"/></a>"
      ]
    },
    {
      "cell_type": "markdown",
      "metadata": {
        "id": "09702b14"
      },
      "source": [
        "# **Chest X-Ray Medical Diagnosis with Deep Learning**"
      ],
      "id": "09702b14"
    },
    {
      "cell_type": "markdown",
      "metadata": {
        "id": "44a71494"
      },
      "source": [
        "## **KAGGLE DATASET:**\n",
        "## SIIM-FISABIO-RSNA COVID-19 Detection\n",
        "https://www.kaggle.com/c/siim-covid19-detection/overview\n",
        "\n",
        "---\n",
        "\n",
        "## (This dataset is used for model testing)"
      ],
      "id": "44a71494"
    },
    {
      "cell_type": "markdown",
      "metadata": {
        "id": "38b54bbf"
      },
      "source": [
        "## **1. import packages and functions**"
      ],
      "id": "38b54bbf"
    },
    {
      "cell_type": "code",
      "metadata": {
        "id": "552ac128",
        "outputId": "9ea207d0-49b4-4528-cb8f-f98a3fb3a875"
      },
      "source": [
        "# Libraries\n",
        "import os\n",
        "import re\n",
        "import wandb\n",
        "import tqdm\n",
        "import warnings\n",
        "import glob\n",
        "import ast\n",
        "import cv2\n",
        "import math\n",
        "import pandas as pd\n",
        "import numpy as np\n",
        "from IPython.display import display_html\n",
        "import seaborn as sns\n",
        "import matplotlib as mpl\n",
        "import matplotlib.patches as patches\n",
        "import matplotlib.pyplot as plt\n",
        "from scipy.stats import pearsonr\n",
        "from matplotlib.offsetbox import AnnotationBbox, OffsetImage\n",
        "import pydicom\n",
        "from pydicom.pixel_data_handlers.util import apply_voi_lut\n",
        "from sklearn.cluster import KMeans\n",
        "from skimage import morphology, measure\n",
        "\n",
        "# Environment check\n",
        "warnings.filterwarnings(\"ignore\")\n",
        "os.environ[\"WANDB_SILENT\"] = \"true\"\n",
        "CONFIG = {'competition': 'siim-fisabio-rsna', '_wandb_kernel': 'aot'}\n",
        "\n",
        "# Secrets 🤫\n",
        "#from kaggle_secrets import UserSecretsClient\n",
        "#user_secrets = UserSecretsClient()\n",
        "#secret_value_0 = user_secrets.get_secret(\"wandb\")\n",
        "\n",
        "# Custom colors\n",
        "my_colors = [\"#E97777\", \"#E9B077\", \"#E9E977\", \n",
        "             \"#77E977\", \"#7777E9\", \"#6F6BAC\", \"#B677E9\"]\n",
        "sns.palplot(sns.color_palette(my_colors))\n",
        "\n",
        "# Set Style\n",
        "sns.set_style(\"white\")\n",
        "mpl.rcParams['xtick.labelsize'] = 18\n",
        "mpl.rcParams['ytick.labelsize'] = 18\n",
        "mpl.rcParams['axes.spines.left'] = False\n",
        "mpl.rcParams['axes.spines.right'] = False\n",
        "mpl.rcParams['axes.spines.top'] = False\n",
        "plt.rcParams.update({'font.size': 22})\n",
        "\n",
        "class color:\n",
        "    BOLD = '\\033[1m' + '\\033[93m'\n",
        "    END = '\\033[0m'"
      ],
      "id": "552ac128",
      "execution_count": null,
      "outputs": [
        {
          "data": {
            "image/png": "[encoded data removed]",
            "text/plain": [
              "<Figure size 504x72 with 1 Axes>"
            ]
          },
          "metadata": {
            "needs_background": "light"
          },
          "output_type": "display_data"
        }
      ]
    },
    {
      "cell_type": "markdown",
      "metadata": {
        "id": "518cecb3"
      },
      "source": [
        "## **2. Load the Datasets**\n",
        "\n",
        "This datasets \n",
        "- contains 6,334 CXR images for training set\n",
        "- all cases are COVID-19 positive.\n",
        "- They classified data into 4 classes \n",
        "  - Class 1: Negative for Pneumonia\n",
        "  - Class 2: Typical Appearance \n",
        "  - Class 3: Interminate Appearance\n",
        "  - Class 4: Atypical Appearance\n",
        "\n",
        "**Files**\n",
        "\n",
        "**train_image_level.csv** - the train image-level metadata, with one row for **each image**, including both **correct labels** and any **bounding boxes** in a dictionary format. Some images in both test and train have multiple bounding boxes.\n"
      ],
      "id": "518cecb3"
    },
    {
      "cell_type": "markdown",
      "metadata": {
        "id": "04bffc33"
      },
      "source": [
        "**Read in the data**\n",
        "\n",
        "Let's open these files using the pandas library\n",
        "\n",
        "เอา 250 cases in each class.\n",
        "\n",
        "1.   Download data from external hard drive\n",
        "2.   indicate 250 cases in each class\n",
        "\n"
      ],
      "id": "04bffc33"
    },
    {
      "cell_type": "code",
      "metadata": {
        "id": "eb7d314f",
        "outputId": "3f480f98-98e7-4b0a-e39a-79d20e936f99"
      },
      "source": [
        "# Read in metadata\n",
        "train_study = pd.read_csv(\"/Users/sararas/Downloads/siim-covid19-detection/train_study_level.csv\")\n",
        "train_image = pd.read_csv(\"/Users/sararas/Downloads/siim-covid19-detection/train_image_level.csv\")\n",
        "\n",
        "print(color.BOLD + \"Train Study Shape:\" + color.END, train_study.shape, \"\\n\" +\n",
        "      color.BOLD + \"Train Image Shape:\" + color.END, train_image.shape, \"\\n\" +\n",
        "      \"\\n\" +\n",
        "      \"Note: There are {} missing values in train_image.\".\\\n",
        "                              format(train_image[\"boxes\"].isna().sum()), \"\\n\" +\n",
        "      \"This happens for labels = 'none' - no checkboxes.\", 3*\"\\n\")\n",
        "\n",
        "\n",
        "# Head of our 2 training metadata\n",
        "df1_styler = train_study.head(3).style.set_table_attributes(\"style='display:inline'\").\\\n",
        "                                set_caption('TRAIN STUDY')\n",
        "df2_styler = train_image.head(3).style.set_table_attributes(\"style='display:inline'\").\\\n",
        "                                set_caption('TRAIN IMAGE')\n",
        "\n",
        "display_html(df1_styler._repr_html_() + df2_styler._repr_html_(), raw=True)"
      ],
      "id": "eb7d314f",
      "execution_count": null,
      "outputs": [
        {
          "name": "stdout",
          "output_type": "stream",
          "text": [
            "\u001b[1m\u001b[93mTrain Study Shape:\u001b[0m (6054, 5) \n",
            "\u001b[1m\u001b[93mTrain Image Shape:\u001b[0m (6334, 4) \n",
            "\n",
            "Note: There are 2040 missing values in train_image. \n",
            "This happens for labels = 'none' - no checkboxes. \n",
            "\n",
            "\n",
            "\n"
          ]
        },
        {
          "data": {
            "text/html": [
              "<style  type=\"text/css\" >\n",
              "</style><table id=\"T_2cb9b_\" style='display:inline'><caption>TRAIN STUDY</caption><thead>    <tr>        <th class=\"blank level0\" ></th>        <th class=\"col_heading level0 col0\" >id</th>        <th class=\"col_heading level0 col1\" >Negative for Pneumonia</th>        <th class=\"col_heading level0 col2\" >Typical Appearance</th>        <th class=\"col_heading level0 col3\" >Indeterminate Appearance</th>        <th class=\"col_heading level0 col4\" >Atypical Appearance</th>    </tr></thead><tbody>\n",
              "                <tr>\n",
              "                        <th id=\"T_2cb9b_level0_row0\" class=\"row_heading level0 row0\" >0</th>\n",
              "                        <td id=\"T_2cb9b_row0_col0\" class=\"data row0 col0\" >00086460a852_study</td>\n",
              "                        <td id=\"T_2cb9b_row0_col1\" class=\"data row0 col1\" >0</td>\n",
              "                        <td id=\"T_2cb9b_row0_col2\" class=\"data row0 col2\" >1</td>\n",
              "                        <td id=\"T_2cb9b_row0_col3\" class=\"data row0 col3\" >0</td>\n",
              "                        <td id=\"T_2cb9b_row0_col4\" class=\"data row0 col4\" >0</td>\n",
              "            </tr>\n",
              "            <tr>\n",
              "                        <th id=\"T_2cb9b_level0_row1\" class=\"row_heading level0 row1\" >1</th>\n",
              "                        <td id=\"T_2cb9b_row1_col0\" class=\"data row1 col0\" >000c9c05fd14_study</td>\n",
              "                        <td id=\"T_2cb9b_row1_col1\" class=\"data row1 col1\" >0</td>\n",
              "                        <td id=\"T_2cb9b_row1_col2\" class=\"data row1 col2\" >0</td>\n",
              "                        <td id=\"T_2cb9b_row1_col3\" class=\"data row1 col3\" >0</td>\n",
              "                        <td id=\"T_2cb9b_row1_col4\" class=\"data row1 col4\" >1</td>\n",
              "            </tr>\n",
              "            <tr>\n",
              "                        <th id=\"T_2cb9b_level0_row2\" class=\"row_heading level0 row2\" >2</th>\n",
              "                        <td id=\"T_2cb9b_row2_col0\" class=\"data row2 col0\" >00292f8c37bd_study</td>\n",
              "                        <td id=\"T_2cb9b_row2_col1\" class=\"data row2 col1\" >1</td>\n",
              "                        <td id=\"T_2cb9b_row2_col2\" class=\"data row2 col2\" >0</td>\n",
              "                        <td id=\"T_2cb9b_row2_col3\" class=\"data row2 col3\" >0</td>\n",
              "                        <td id=\"T_2cb9b_row2_col4\" class=\"data row2 col4\" >0</td>\n",
              "            </tr>\n",
              "    </tbody></table><style  type=\"text/css\" >\n",
              "</style><table id=\"T_9abec_\" style='display:inline'><caption>TRAIN IMAGE</caption><thead>    <tr>        <th class=\"blank level0\" ></th>        <th class=\"col_heading level0 col0\" >id</th>        <th class=\"col_heading level0 col1\" >boxes</th>        <th class=\"col_heading level0 col2\" >label</th>        <th class=\"col_heading level0 col3\" >StudyInstanceUID</th>    </tr></thead><tbody>\n",
              "                <tr>\n",
              "                        <th id=\"T_9abec_level0_row0\" class=\"row_heading level0 row0\" >0</th>\n",
              "                        <td id=\"T_9abec_row0_col0\" class=\"data row0 col0\" >000a312787f2_image</td>\n",
              "                        <td id=\"T_9abec_row0_col1\" class=\"data row0 col1\" >[{'x': 789.28836, 'y': 582.43035, 'width': 1026.65662, 'height': 1917.30292}, {'x': 2245.91208, 'y': 591.20528, 'width': 1094.66162, 'height': 1761.54944}]</td>\n",
              "                        <td id=\"T_9abec_row0_col2\" class=\"data row0 col2\" >opacity 1 789.28836 582.43035 1815.94498 2499.73327 opacity 1 2245.91208 591.20528 3340.5737 2352.75472</td>\n",
              "                        <td id=\"T_9abec_row0_col3\" class=\"data row0 col3\" >5776db0cec75</td>\n",
              "            </tr>\n",
              "            <tr>\n",
              "                        <th id=\"T_9abec_level0_row1\" class=\"row_heading level0 row1\" >1</th>\n",
              "                        <td id=\"T_9abec_row1_col0\" class=\"data row1 col0\" >000c3a3f293f_image</td>\n",
              "                        <td id=\"T_9abec_row1_col1\" class=\"data row1 col1\" >nan</td>\n",
              "                        <td id=\"T_9abec_row1_col2\" class=\"data row1 col2\" >none 1 0 0 1 1</td>\n",
              "                        <td id=\"T_9abec_row1_col3\" class=\"data row1 col3\" >ff0879eb20ed</td>\n",
              "            </tr>\n",
              "            <tr>\n",
              "                        <th id=\"T_9abec_level0_row2\" class=\"row_heading level0 row2\" >2</th>\n",
              "                        <td id=\"T_9abec_row2_col0\" class=\"data row2 col0\" >0012ff7358bc_image</td>\n",
              "                        <td id=\"T_9abec_row2_col1\" class=\"data row2 col1\" >[{'x': 677.42216, 'y': 197.97662, 'width': 867.79767, 'height': 999.78214}, {'x': 1792.69064, 'y': 402.5525, 'width': 617.02734, 'height': 1204.358}]</td>\n",
              "                        <td id=\"T_9abec_row2_col2\" class=\"data row2 col2\" >opacity 1 677.42216 197.97662 1545.21983 1197.75876 opacity 1 1792.69064 402.5525 2409.71798 1606.9105</td>\n",
              "                        <td id=\"T_9abec_row2_col3\" class=\"data row2 col3\" >9d514ce429a7</td>\n",
              "            </tr>\n",
              "    </tbody></table>"
            ]
          },
          "metadata": {},
          "output_type": "display_data"
        }
      ]
    },
    {
      "cell_type": "markdown",
      "metadata": {
        "id": "0eb801cd"
      },
      "source": [
        "## train_study analysis"
      ],
      "id": "0eb801cd"
    },
    {
      "cell_type": "code",
      "metadata": {
        "id": "07fc5c93",
        "outputId": "68a8bf8c-bea3-40a7-a52e-51e1a3ad3198"
      },
      "source": [
        "# Process id\n",
        "train_study[\"study_id\"] = train_study[\"id\"].apply(lambda x: x.split(\"_\")[0])\n",
        "\n",
        "# Counting\n",
        "pneumonia = train_study[\"Negative for Pneumonia\"]\n",
        "typical = train_study[\"Typical Appearance\"]\n",
        "indeterminate = train_study[\"Indeterminate Appearance\"]\n",
        "atypical = train_study[\"Atypical Appearance\"]\n",
        "\n",
        "print(\"Pneumonia =\", pneumonia.sum(), \"cases\")\n",
        "print(\"Typical =\", typical.sum(), \"cases\")\n",
        "print(\"Indeterminate =\", indeterminate.sum(), \"cases\")\n",
        "print(\"Atypical =\", atypical.sum(), \"cases\")\n",
        "print(\"-------------------\")\n",
        "print(\"Total =\", pneumonia.sum() + typical.sum() + indeterminate.sum() + atypical.sum(), \"cases\")"
      ],
      "id": "07fc5c93",
      "execution_count": null,
      "outputs": [
        {
          "name": "stdout",
          "output_type": "stream",
          "text": [
            "Pneumonia = 1676 cases\n",
            "Typical = 2855 cases\n",
            "Indeterminate = 1049 cases\n",
            "Atypical = 474 cases\n",
            "-------------------\n",
            "Total = 6054 cases\n"
          ]
        }
      ]
    },
    {
      "cell_type": "code",
      "metadata": {
        "id": "f16addcb",
        "outputId": "de2eecb1-8cdf-4c94-ecbe-63ddf95e7a40"
      },
      "source": [
        "train_study.head()"
      ],
      "id": "f16addcb",
      "execution_count": null,
      "outputs": [
        {
          "data": {
            "text/html": [
              "<div>\n",
              "<style scoped>\n",
              "    .dataframe tbody tr th:only-of-type {\n",
              "        vertical-align: middle;\n",
              "    }\n",
              "\n",
              "    .dataframe tbody tr th {\n",
              "        vertical-align: top;\n",
              "    }\n",
              "\n",
              "    .dataframe thead th {\n",
              "        text-align: right;\n",
              "    }\n",
              "</style>\n",
              "<table border=\"1\" class=\"dataframe\">\n",
              "  <thead>\n",
              "    <tr style=\"text-align: right;\">\n",
              "      <th></th>\n",
              "      <th>id</th>\n",
              "      <th>Negative for Pneumonia</th>\n",
              "      <th>Typical Appearance</th>\n",
              "      <th>Indeterminate Appearance</th>\n",
              "      <th>Atypical Appearance</th>\n",
              "      <th>study_id</th>\n",
              "    </tr>\n",
              "  </thead>\n",
              "  <tbody>\n",
              "    <tr>\n",
              "      <th>0</th>\n",
              "      <td>00086460a852_study</td>\n",
              "      <td>0</td>\n",
              "      <td>1</td>\n",
              "      <td>0</td>\n",
              "      <td>0</td>\n",
              "      <td>00086460a852</td>\n",
              "    </tr>\n",
              "    <tr>\n",
              "      <th>1</th>\n",
              "      <td>000c9c05fd14_study</td>\n",
              "      <td>0</td>\n",
              "      <td>0</td>\n",
              "      <td>0</td>\n",
              "      <td>1</td>\n",
              "      <td>000c9c05fd14</td>\n",
              "    </tr>\n",
              "    <tr>\n",
              "      <th>2</th>\n",
              "      <td>00292f8c37bd_study</td>\n",
              "      <td>1</td>\n",
              "      <td>0</td>\n",
              "      <td>0</td>\n",
              "      <td>0</td>\n",
              "      <td>00292f8c37bd</td>\n",
              "    </tr>\n",
              "    <tr>\n",
              "      <th>3</th>\n",
              "      <td>005057b3f880_study</td>\n",
              "      <td>1</td>\n",
              "      <td>0</td>\n",
              "      <td>0</td>\n",
              "      <td>0</td>\n",
              "      <td>005057b3f880</td>\n",
              "    </tr>\n",
              "    <tr>\n",
              "      <th>4</th>\n",
              "      <td>0051d9b12e72_study</td>\n",
              "      <td>0</td>\n",
              "      <td>0</td>\n",
              "      <td>0</td>\n",
              "      <td>1</td>\n",
              "      <td>0051d9b12e72</td>\n",
              "    </tr>\n",
              "  </tbody>\n",
              "</table>\n",
              "</div>"
            ],
            "text/plain": [
              "                   id  Negative for Pneumonia  Typical Appearance  \\\n",
              "0  00086460a852_study                       0                   1   \n",
              "1  000c9c05fd14_study                       0                   0   \n",
              "2  00292f8c37bd_study                       1                   0   \n",
              "3  005057b3f880_study                       1                   0   \n",
              "4  0051d9b12e72_study                       0                   0   \n",
              "\n",
              "   Indeterminate Appearance  Atypical Appearance      study_id  \n",
              "0                         0                    0  00086460a852  \n",
              "1                         0                    1  000c9c05fd14  \n",
              "2                         0                    0  00292f8c37bd  \n",
              "3                         0                    0  005057b3f880  \n",
              "4                         0                    1  0051d9b12e72  "
            ]
          },
          "execution_count": 4,
          "metadata": {},
          "output_type": "execute_result"
        }
      ]
    },
    {
      "cell_type": "markdown",
      "metadata": {
        "id": "45651f86"
      },
      "source": [
        "## train_image analysis"
      ],
      "id": "45651f86"
    },
    {
      "cell_type": "code",
      "metadata": {
        "id": "95303dc0",
        "outputId": "db75052d-350e-4f0f-d663-e7882423ceb2"
      },
      "source": [
        "# Process id\n",
        "train_image[\"image_id\"] = train_image[\"id\"].apply(lambda x: x.split(\"_\")[0])\n",
        "\n",
        "# Counting\n",
        "df = train_image[\"label\"].apply(lambda x: x.split(\" \")[0]).\\\n",
        "                                    value_counts().reset_index()\n",
        "\n",
        "print(color.BOLD + \"How many images have a bounding box present?\" + color.END,\n",
        "\"\\n\" + \n",
        "      \"There are {} missing of boundary boxes in train_image.\".\\\n",
        "                            format(train_image[\"boxes\"].isna().sum()),\n",
        "\"\\n\" + \n",
        "      \"and there are {} cases that boundary boxes were presented.\".\\\n",
        "                            format(train_image[\"boxes\"].count()))"
      ],
      "id": "95303dc0",
      "execution_count": null,
      "outputs": [
        {
          "name": "stdout",
          "output_type": "stream",
          "text": [
            "\u001b[1m\u001b[93mHow many images have a bounding box present?\u001b[0m \n",
            "There are 2040 missing of boundary boxes in train_image. \n",
            "and there are 4294 cases that boundary boxes were presented.\n"
          ]
        }
      ]
    },
    {
      "cell_type": "markdown",
      "metadata": {
        "id": "87336b37"
      },
      "source": [
        "### ในจำนวน 6054 cases มีเพียง 4294 cases ที่มี boundary box\n",
        "### ต่อไปจะนำ train_label and train_images มา merge กันให้เป็น file เดียว"
      ],
      "id": "87336b37"
    },
    {
      "cell_type": "code",
      "metadata": {
        "id": "73aea71a",
        "outputId": "d443b9b4-bf2e-4b60-c9f4-7d1286fe577b"
      },
      "source": [
        "# Merge all info together\n",
        "train = pd.merge(train_image, train_study, \n",
        "                 left_on=\"StudyInstanceUID\", right_on=\"study_id\")\n",
        "\n",
        "train.drop([\"id_x\", \"StudyInstanceUID\", \"id_y\"], axis=1, inplace=True)\n",
        "train.head()"
      ],
      "id": "73aea71a",
      "execution_count": null,
      "outputs": [
        {
          "data": {
            "text/html": [
              "<div>\n",
              "<style scoped>\n",
              "    .dataframe tbody tr th:only-of-type {\n",
              "        vertical-align: middle;\n",
              "    }\n",
              "\n",
              "    .dataframe tbody tr th {\n",
              "        vertical-align: top;\n",
              "    }\n",
              "\n",
              "    .dataframe thead th {\n",
              "        text-align: right;\n",
              "    }\n",
              "</style>\n",
              "<table border=\"1\" class=\"dataframe\">\n",
              "  <thead>\n",
              "    <tr style=\"text-align: right;\">\n",
              "      <th></th>\n",
              "      <th>boxes</th>\n",
              "      <th>label</th>\n",
              "      <th>image_id</th>\n",
              "      <th>Negative for Pneumonia</th>\n",
              "      <th>Typical Appearance</th>\n",
              "      <th>Indeterminate Appearance</th>\n",
              "      <th>Atypical Appearance</th>\n",
              "      <th>study_id</th>\n",
              "    </tr>\n",
              "  </thead>\n",
              "  <tbody>\n",
              "    <tr>\n",
              "      <th>0</th>\n",
              "      <td>[{'x': 789.28836, 'y': 582.43035, 'width': 102...</td>\n",
              "      <td>opacity 1 789.28836 582.43035 1815.94498 2499....</td>\n",
              "      <td>000a312787f2</td>\n",
              "      <td>0</td>\n",
              "      <td>1</td>\n",
              "      <td>0</td>\n",
              "      <td>0</td>\n",
              "      <td>5776db0cec75</td>\n",
              "    </tr>\n",
              "    <tr>\n",
              "      <th>1</th>\n",
              "      <td>NaN</td>\n",
              "      <td>none 1 0 0 1 1</td>\n",
              "      <td>000c3a3f293f</td>\n",
              "      <td>1</td>\n",
              "      <td>0</td>\n",
              "      <td>0</td>\n",
              "      <td>0</td>\n",
              "      <td>ff0879eb20ed</td>\n",
              "    </tr>\n",
              "    <tr>\n",
              "      <th>2</th>\n",
              "      <td>[{'x': 677.42216, 'y': 197.97662, 'width': 867...</td>\n",
              "      <td>opacity 1 677.42216 197.97662 1545.21983 1197....</td>\n",
              "      <td>0012ff7358bc</td>\n",
              "      <td>0</td>\n",
              "      <td>1</td>\n",
              "      <td>0</td>\n",
              "      <td>0</td>\n",
              "      <td>9d514ce429a7</td>\n",
              "    </tr>\n",
              "    <tr>\n",
              "      <th>3</th>\n",
              "      <td>[{'x': 2729, 'y': 2181.33331, 'width': 948.000...</td>\n",
              "      <td>opacity 1 2729 2181.33331 3677.00012 2785.33331</td>\n",
              "      <td>001398f4ff4f</td>\n",
              "      <td>0</td>\n",
              "      <td>0</td>\n",
              "      <td>0</td>\n",
              "      <td>1</td>\n",
              "      <td>28dddc8559b2</td>\n",
              "    </tr>\n",
              "    <tr>\n",
              "      <th>4</th>\n",
              "      <td>[{'x': 623.23328, 'y': 1050, 'width': 714, 'he...</td>\n",
              "      <td>opacity 1 623.23328 1050 1337.23328 2156 opaci...</td>\n",
              "      <td>001bd15d1891</td>\n",
              "      <td>0</td>\n",
              "      <td>1</td>\n",
              "      <td>0</td>\n",
              "      <td>0</td>\n",
              "      <td>dfd9fdd85a3e</td>\n",
              "    </tr>\n",
              "  </tbody>\n",
              "</table>\n",
              "</div>"
            ],
            "text/plain": [
              "                                               boxes  \\\n",
              "0  [{'x': 789.28836, 'y': 582.43035, 'width': 102...   \n",
              "1                                                NaN   \n",
              "2  [{'x': 677.42216, 'y': 197.97662, 'width': 867...   \n",
              "3  [{'x': 2729, 'y': 2181.33331, 'width': 948.000...   \n",
              "4  [{'x': 623.23328, 'y': 1050, 'width': 714, 'he...   \n",
              "\n",
              "                                               label      image_id  \\\n",
              "0  opacity 1 789.28836 582.43035 1815.94498 2499....  000a312787f2   \n",
              "1                                     none 1 0 0 1 1  000c3a3f293f   \n",
              "2  opacity 1 677.42216 197.97662 1545.21983 1197....  0012ff7358bc   \n",
              "3    opacity 1 2729 2181.33331 3677.00012 2785.33331  001398f4ff4f   \n",
              "4  opacity 1 623.23328 1050 1337.23328 2156 opaci...  001bd15d1891   \n",
              "\n",
              "   Negative for Pneumonia  Typical Appearance  Indeterminate Appearance  \\\n",
              "0                       0                   1                         0   \n",
              "1                       1                   0                         0   \n",
              "2                       0                   1                         0   \n",
              "3                       0                   0                         0   \n",
              "4                       0                   1                         0   \n",
              "\n",
              "   Atypical Appearance      study_id  \n",
              "0                    0  5776db0cec75  \n",
              "1                    0  ff0879eb20ed  \n",
              "2                    0  9d514ce429a7  \n",
              "3                    1  28dddc8559b2  \n",
              "4                    0  dfd9fdd85a3e  "
            ]
          },
          "execution_count": 6,
          "metadata": {},
          "output_type": "execute_result"
        }
      ]
    },
    {
      "cell_type": "code",
      "metadata": {
        "scrolled": true,
        "id": "27552565",
        "outputId": "d1aa9ba6-1c56-483b-b296-9dda0388a098"
      },
      "source": [
        "print(color.BOLD + \"Number of row and col in 'train' dataframe =\" + color.END, train.shape,\\\n",
        "\"\\n\" + \"No boxes =\", train[\"boxes\"].isnull().sum(), \"cases\")"
      ],
      "id": "27552565",
      "execution_count": null,
      "outputs": [
        {
          "name": "stdout",
          "output_type": "stream",
          "text": [
            "\u001b[1m\u001b[93mNumber of row and col in 'train' dataframe =\u001b[0m (6334, 8) \n",
            "No boxes = 2040 cases\n"
          ]
        }
      ]
    },
    {
      "cell_type": "markdown",
      "metadata": {
        "id": "84647cf7"
      },
      "source": [
        "## Keep only patient ID that has boundary boxes"
      ],
      "id": "84647cf7"
    },
    {
      "cell_type": "code",
      "metadata": {
        "scrolled": true,
        "id": "4fe9505b",
        "outputId": "31c0dab5-64f4-4735-a62f-a84f5296e7f3"
      },
      "source": [
        "train = train[train['boxes'].notna()]\n",
        "print(color.BOLD + \"Number of row and col in 'train' dataframe =\" + color.END, train.shape,\\\n",
        "\"\\n\" + \"No boxes =\", train[\"boxes\"].isnull().sum(), \"cases\")"
      ],
      "id": "4fe9505b",
      "execution_count": null,
      "outputs": [
        {
          "name": "stdout",
          "output_type": "stream",
          "text": [
            "\u001b[1m\u001b[93mNumber of row and col in 'train' dataframe =\u001b[0m (4294, 8) \n",
            "No boxes = 0 cases\n"
          ]
        }
      ]
    },
    {
      "cell_type": "code",
      "metadata": {
        "id": "d46c9865"
      },
      "source": [
        "train = train[train['Negative for Pneumonia'] == 0]\n",
        "train = train[train['Atypical Appearance'] == 0] "
      ],
      "id": "d46c9865",
      "execution_count": null,
      "outputs": []
    },
    {
      "cell_type": "markdown",
      "metadata": {
        "id": "9d7dc2da"
      },
      "source": [
        "## Create a new dataframe that will represent COVID-19 positive case in our research\n",
        "\n",
        "#### which has 250 cases in each class."
      ],
      "id": "9d7dc2da"
    },
    {
      "cell_type": "code",
      "metadata": {
        "id": "4a66866b"
      },
      "source": [
        "train[\"class\"] = train.loc[:, \"Negative for Pneumonia\":\"Atypical Appearance\"].idxmax(axis=1)"
      ],
      "id": "4a66866b",
      "execution_count": null,
      "outputs": []
    },
    {
      "cell_type": "code",
      "metadata": {
        "id": "bc07951f",
        "outputId": "d8f76e79-fb6e-4273-e5bf-35fd50f67a18"
      },
      "source": [
        "train.head()"
      ],
      "id": "bc07951f",
      "execution_count": null,
      "outputs": [
        {
          "data": {
            "text/html": [
              "<div>\n",
              "<style scoped>\n",
              "    .dataframe tbody tr th:only-of-type {\n",
              "        vertical-align: middle;\n",
              "    }\n",
              "\n",
              "    .dataframe tbody tr th {\n",
              "        vertical-align: top;\n",
              "    }\n",
              "\n",
              "    .dataframe thead th {\n",
              "        text-align: right;\n",
              "    }\n",
              "</style>\n",
              "<table border=\"1\" class=\"dataframe\">\n",
              "  <thead>\n",
              "    <tr style=\"text-align: right;\">\n",
              "      <th></th>\n",
              "      <th>boxes</th>\n",
              "      <th>label</th>\n",
              "      <th>image_id</th>\n",
              "      <th>Negative for Pneumonia</th>\n",
              "      <th>Typical Appearance</th>\n",
              "      <th>Indeterminate Appearance</th>\n",
              "      <th>Atypical Appearance</th>\n",
              "      <th>study_id</th>\n",
              "      <th>class</th>\n",
              "    </tr>\n",
              "  </thead>\n",
              "  <tbody>\n",
              "    <tr>\n",
              "      <th>0</th>\n",
              "      <td>[{'x': 789.28836, 'y': 582.43035, 'width': 102...</td>\n",
              "      <td>opacity 1 789.28836 582.43035 1815.94498 2499....</td>\n",
              "      <td>000a312787f2</td>\n",
              "      <td>0</td>\n",
              "      <td>1</td>\n",
              "      <td>0</td>\n",
              "      <td>0</td>\n",
              "      <td>5776db0cec75</td>\n",
              "      <td>Typical Appearance</td>\n",
              "    </tr>\n",
              "    <tr>\n",
              "      <th>2</th>\n",
              "      <td>[{'x': 677.42216, 'y': 197.97662, 'width': 867...</td>\n",
              "      <td>opacity 1 677.42216 197.97662 1545.21983 1197....</td>\n",
              "      <td>0012ff7358bc</td>\n",
              "      <td>0</td>\n",
              "      <td>1</td>\n",
              "      <td>0</td>\n",
              "      <td>0</td>\n",
              "      <td>9d514ce429a7</td>\n",
              "      <td>Typical Appearance</td>\n",
              "    </tr>\n",
              "    <tr>\n",
              "      <th>4</th>\n",
              "      <td>[{'x': 623.23328, 'y': 1050, 'width': 714, 'he...</td>\n",
              "      <td>opacity 1 623.23328 1050 1337.23328 2156 opaci...</td>\n",
              "      <td>001bd15d1891</td>\n",
              "      <td>0</td>\n",
              "      <td>1</td>\n",
              "      <td>0</td>\n",
              "      <td>0</td>\n",
              "      <td>dfd9fdd85a3e</td>\n",
              "      <td>Typical Appearance</td>\n",
              "    </tr>\n",
              "    <tr>\n",
              "      <th>5</th>\n",
              "      <td>[{'x': 1857.2065, 'y': 508.30565, 'width': 376...</td>\n",
              "      <td>opacity 1 1857.2065 508.30565 2233.23384 907.8...</td>\n",
              "      <td>0022227f5adf</td>\n",
              "      <td>0</td>\n",
              "      <td>0</td>\n",
              "      <td>1</td>\n",
              "      <td>0</td>\n",
              "      <td>84543edc24c2</td>\n",
              "      <td>Indeterminate Appearance</td>\n",
              "    </tr>\n",
              "    <tr>\n",
              "      <th>7</th>\n",
              "      <td>[{'x': 276.72917, 'y': 627.42968, 'width': 910...</td>\n",
              "      <td>opacity 1 276.72917 627.42968 1187.31776 2283....</td>\n",
              "      <td>002e9b2128d0</td>\n",
              "      <td>0</td>\n",
              "      <td>1</td>\n",
              "      <td>0</td>\n",
              "      <td>0</td>\n",
              "      <td>0717c8ac304f</td>\n",
              "      <td>Typical Appearance</td>\n",
              "    </tr>\n",
              "  </tbody>\n",
              "</table>\n",
              "</div>"
            ],
            "text/plain": [
              "                                               boxes  \\\n",
              "0  [{'x': 789.28836, 'y': 582.43035, 'width': 102...   \n",
              "2  [{'x': 677.42216, 'y': 197.97662, 'width': 867...   \n",
              "4  [{'x': 623.23328, 'y': 1050, 'width': 714, 'he...   \n",
              "5  [{'x': 1857.2065, 'y': 508.30565, 'width': 376...   \n",
              "7  [{'x': 276.72917, 'y': 627.42968, 'width': 910...   \n",
              "\n",
              "                                               label      image_id  \\\n",
              "0  opacity 1 789.28836 582.43035 1815.94498 2499....  000a312787f2   \n",
              "2  opacity 1 677.42216 197.97662 1545.21983 1197....  0012ff7358bc   \n",
              "4  opacity 1 623.23328 1050 1337.23328 2156 opaci...  001bd15d1891   \n",
              "5  opacity 1 1857.2065 508.30565 2233.23384 907.8...  0022227f5adf   \n",
              "7  opacity 1 276.72917 627.42968 1187.31776 2283....  002e9b2128d0   \n",
              "\n",
              "   Negative for Pneumonia  Typical Appearance  Indeterminate Appearance  \\\n",
              "0                       0                   1                         0   \n",
              "2                       0                   1                         0   \n",
              "4                       0                   1                         0   \n",
              "5                       0                   0                         1   \n",
              "7                       0                   1                         0   \n",
              "\n",
              "   Atypical Appearance      study_id                     class  \n",
              "0                    0  5776db0cec75        Typical Appearance  \n",
              "2                    0  9d514ce429a7        Typical Appearance  \n",
              "4                    0  dfd9fdd85a3e        Typical Appearance  \n",
              "5                    0  84543edc24c2  Indeterminate Appearance  \n",
              "7                    0  0717c8ac304f        Typical Appearance  "
            ]
          },
          "execution_count": 12,
          "metadata": {},
          "output_type": "execute_result"
        }
      ]
    },
    {
      "cell_type": "code",
      "metadata": {
        "id": "7a481717",
        "outputId": "877d2538-4b4a-45d8-cecb-c6ee8dd491af"
      },
      "source": [
        "train.loc[:,\"class\"].value_counts()"
      ],
      "id": "7a481717",
      "execution_count": null,
      "outputs": [
        {
          "data": {
            "text/plain": [
              "Typical Appearance          2854\n",
              "Indeterminate Appearance    1049\n",
              "Name: class, dtype: int64"
            ]
          },
          "execution_count": 26,
          "metadata": {},
          "output_type": "execute_result"
        }
      ]
    },
    {
      "cell_type": "code",
      "metadata": {
        "id": "2908fb0d"
      },
      "source": [
        "positive_df = train.groupby('class').head(500)"
      ],
      "id": "2908fb0d",
      "execution_count": null,
      "outputs": []
    },
    {
      "cell_type": "code",
      "metadata": {
        "id": "6694b19f",
        "outputId": "c48dccaf-d730-4b9e-99ce-729dd55e0409"
      },
      "source": [
        "positive_df.drop(positive_df.loc[:,\"Negative for Pneumonia\":\"Atypical Appearance\"], inplace = True, axis = 1)\n",
        "print(positive_df.shape)\n",
        "positive_df.head()"
      ],
      "id": "6694b19f",
      "execution_count": null,
      "outputs": [
        {
          "name": "stdout",
          "output_type": "stream",
          "text": [
            "(1000, 5)\n"
          ]
        },
        {
          "data": {
            "text/html": [
              "<div>\n",
              "<style scoped>\n",
              "    .dataframe tbody tr th:only-of-type {\n",
              "        vertical-align: middle;\n",
              "    }\n",
              "\n",
              "    .dataframe tbody tr th {\n",
              "        vertical-align: top;\n",
              "    }\n",
              "\n",
              "    .dataframe thead th {\n",
              "        text-align: right;\n",
              "    }\n",
              "</style>\n",
              "<table border=\"1\" class=\"dataframe\">\n",
              "  <thead>\n",
              "    <tr style=\"text-align: right;\">\n",
              "      <th></th>\n",
              "      <th>boxes</th>\n",
              "      <th>label</th>\n",
              "      <th>image_id</th>\n",
              "      <th>study_id</th>\n",
              "      <th>class</th>\n",
              "    </tr>\n",
              "  </thead>\n",
              "  <tbody>\n",
              "    <tr>\n",
              "      <th>0</th>\n",
              "      <td>[{'x': 789.28836, 'y': 582.43035, 'width': 102...</td>\n",
              "      <td>opacity 1 789.28836 582.43035 1815.94498 2499....</td>\n",
              "      <td>000a312787f2</td>\n",
              "      <td>5776db0cec75</td>\n",
              "      <td>Typical Appearance</td>\n",
              "    </tr>\n",
              "    <tr>\n",
              "      <th>2</th>\n",
              "      <td>[{'x': 677.42216, 'y': 197.97662, 'width': 867...</td>\n",
              "      <td>opacity 1 677.42216 197.97662 1545.21983 1197....</td>\n",
              "      <td>0012ff7358bc</td>\n",
              "      <td>9d514ce429a7</td>\n",
              "      <td>Typical Appearance</td>\n",
              "    </tr>\n",
              "    <tr>\n",
              "      <th>4</th>\n",
              "      <td>[{'x': 623.23328, 'y': 1050, 'width': 714, 'he...</td>\n",
              "      <td>opacity 1 623.23328 1050 1337.23328 2156 opaci...</td>\n",
              "      <td>001bd15d1891</td>\n",
              "      <td>dfd9fdd85a3e</td>\n",
              "      <td>Typical Appearance</td>\n",
              "    </tr>\n",
              "    <tr>\n",
              "      <th>5</th>\n",
              "      <td>[{'x': 1857.2065, 'y': 508.30565, 'width': 376...</td>\n",
              "      <td>opacity 1 1857.2065 508.30565 2233.23384 907.8...</td>\n",
              "      <td>0022227f5adf</td>\n",
              "      <td>84543edc24c2</td>\n",
              "      <td>Indeterminate Appearance</td>\n",
              "    </tr>\n",
              "    <tr>\n",
              "      <th>7</th>\n",
              "      <td>[{'x': 276.72917, 'y': 627.42968, 'width': 910...</td>\n",
              "      <td>opacity 1 276.72917 627.42968 1187.31776 2283....</td>\n",
              "      <td>002e9b2128d0</td>\n",
              "      <td>0717c8ac304f</td>\n",
              "      <td>Typical Appearance</td>\n",
              "    </tr>\n",
              "  </tbody>\n",
              "</table>\n",
              "</div>"
            ],
            "text/plain": [
              "                                               boxes  \\\n",
              "0  [{'x': 789.28836, 'y': 582.43035, 'width': 102...   \n",
              "2  [{'x': 677.42216, 'y': 197.97662, 'width': 867...   \n",
              "4  [{'x': 623.23328, 'y': 1050, 'width': 714, 'he...   \n",
              "5  [{'x': 1857.2065, 'y': 508.30565, 'width': 376...   \n",
              "7  [{'x': 276.72917, 'y': 627.42968, 'width': 910...   \n",
              "\n",
              "                                               label      image_id  \\\n",
              "0  opacity 1 789.28836 582.43035 1815.94498 2499....  000a312787f2   \n",
              "2  opacity 1 677.42216 197.97662 1545.21983 1197....  0012ff7358bc   \n",
              "4  opacity 1 623.23328 1050 1337.23328 2156 opaci...  001bd15d1891   \n",
              "5  opacity 1 1857.2065 508.30565 2233.23384 907.8...  0022227f5adf   \n",
              "7  opacity 1 276.72917 627.42968 1187.31776 2283....  002e9b2128d0   \n",
              "\n",
              "       study_id                     class  \n",
              "0  5776db0cec75        Typical Appearance  \n",
              "2  9d514ce429a7        Typical Appearance  \n",
              "4  dfd9fdd85a3e        Typical Appearance  \n",
              "5  84543edc24c2  Indeterminate Appearance  \n",
              "7  0717c8ac304f        Typical Appearance  "
            ]
          },
          "execution_count": 44,
          "metadata": {},
          "output_type": "execute_result"
        }
      ]
    },
    {
      "cell_type": "markdown",
      "metadata": {
        "id": "721d8a98"
      },
      "source": [
        "## สรุปว่าจะเอา >1000 (คือเยอะที่สุดเท่าที่จะเป็นไปได้ แต่ต้องมี bounding box)"
      ],
      "id": "721d8a98"
    }
  ]
}